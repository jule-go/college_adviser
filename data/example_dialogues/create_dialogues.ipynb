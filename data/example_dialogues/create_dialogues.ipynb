{
 "cells": [
  {
   "attachments": {},
   "cell_type": "markdown",
   "metadata": {},
   "source": [
    "# Notebook for automatically generating some dialogues in the soloist format"
   ]
  },
  {
   "cell_type": "code",
   "execution_count": 21,
   "metadata": {},
   "outputs": [],
   "source": [
    "import pandas as pd\n",
    "import random\n",
    "import copy\n",
    "import json\n",
    "from collections import Counter"
   ]
  },
  {
   "attachments": {},
   "cell_type": "markdown",
   "metadata": {},
   "source": [
    "Load the dataset:"
   ]
  },
  {
   "cell_type": "code",
   "execution_count": 2,
   "metadata": {},
   "outputs": [],
   "source": [
    "db = pd.read_csv(\"/mount/studenten-temp1/users/godberja/SpokenDialogSystems/college_adviser/pruned_dataset_final_v3.csv\")"
   ]
  },
  {
   "cell_type": "code",
   "execution_count": 3,
   "metadata": {},
   "outputs": [],
   "source": [
    "db=db.astype(str) # convert all entries in data to strings"
   ]
  },
  {
   "cell_type": "code",
   "execution_count": 4,
   "metadata": {},
   "outputs": [],
   "source": [
    "name_changer = {\"NAME\": \"name\", \"ALIAS\": \"alias\", \"CITY\": \"city\", \"STATE\": \"state\", \"REGION\":\"region\", \"URL\": \"url\", \"CONTROL\":\"control\" ,\n",
    "\"NUM_UGDS\": \"students\", \"ADM_RATE\":\"admission_rate\", \"SAT_AVG\": \"sat\", \"COSTT4_A\": \"cost\", \t\"PRICE_RANGE\": \"price_range\", \"EARNINGS_MDN\":\"earnings\", \"DEBT_MDN\":\"debt\", \"COMPL_RATE\": \"completion\",\n",
    "\"CIP04BACHL\":\"architecture\", \"CIP09BACHL\":\"journalism\",\t\"CIP11BACHL\":\"computer science\", \"CIP13BACHL\":\"education\", \"CIP14BACHL\":\"engineering\", \"CIP16BACHL\":\"linguistics\", \"CIP22BACHL\":\"law\", \t\n",
    "\"CIP23BACHL\":\"literature\", \"CIP26BACHL\":\"biology\", \"CIP27BACHL\":\"mathematics\", \"CIP38BACHL\":\"philosophy\", \"CIP40BACHL\":\"physics\", \"CIP42BACHL\":\"psychology\", \"CIP45BACHL\":\"social sciences\",\n",
    "\"CIP50BACHL\":\"arts\", \"CIP51BACHL\":\"health\", \"CIP52BACHL\":\"business\", \"CIP54BACHL\":\"history\",\n",
    "\"SUM\": \"areas\"}"
   ]
  },
  {
   "cell_type": "code",
   "execution_count": 5,
   "metadata": {},
   "outputs": [
    {
     "name": "stdout",
     "output_type": "stream",
     "text": [
      "Index(['UNITID', 'NAME', 'ALIAS', 'CITY', 'STATE', 'REGION', 'URL', 'CONTROL',\n",
      "       'NUM_UGDS', 'ADM_RATE', 'SAT_AVG', 'COSTT4_A', 'PRICE_RANGE',\n",
      "       'EARNINGS_MDN', 'DEBT_MDN', 'COMPL_RATE', 'CIP04BACHL', 'CIP09BACHL',\n",
      "       'CIP11BACHL', 'CIP13BACHL', 'CIP14BACHL', 'CIP16BACHL', 'CIP22BACHL',\n",
      "       'CIP23BACHL', 'CIP26BACHL', 'CIP27BACHL', 'CIP38BACHL', 'CIP40BACHL',\n",
      "       'CIP42BACHL', 'CIP45BACHL', 'CIP50BACHL', 'CIP51BACHL', 'CIP52BACHL',\n",
      "       'CIP54BACHL', 'SUM'],\n",
      "      dtype='object')\n",
      "Index(['UNITID', 'name', 'alias', 'city', 'state', 'region', 'url', 'control',\n",
      "       'students', 'admission_rate', 'sat', 'cost', 'price_range', 'earnings',\n",
      "       'debt', 'completion', 'architecture', 'journalism', 'computer science',\n",
      "       'education', 'engineering', 'linguistics', 'law', 'literature',\n",
      "       'biology', 'mathematics', 'philosophy', 'physics', 'psychology',\n",
      "       'social sciences', 'arts', 'health', 'business', 'history', 'areas'],\n",
      "      dtype='object')\n"
     ]
    }
   ],
   "source": [
    "# change the column names!\n",
    "print(db.columns)\n",
    "db.rename(columns=name_changer,inplace=True)\n",
    "print(db.columns)"
   ]
  },
  {
   "cell_type": "code",
   "execution_count": 6,
   "metadata": {},
   "outputs": [
    {
     "name": "stdout",
     "output_type": "stream",
     "text": [
      "{'name': ['Tufts University', 'George Washington University', 'University of Chicago', 'Northeastern University', 'University of Michigan-Ann Arbor', 'University of Rochester', 'Princeton University', 'Wake Forest University', 'California Polytechnic State University-San Luis Obispo', 'Yale University', 'Michigan Technological University', 'Stanford University', 'University of San Diego', 'Massachusetts Institute of Technology', 'Villanova University', 'New York University', 'Brown University', 'Dartmouth College', 'Santa Clara University', 'Grand Canyon University', 'Northwestern University', 'University of California-Berkeley', 'University of Virginia-Main Campus', 'Drexel University', 'University of Southern California', 'Fairfield University', 'Pace University', 'Johns Hopkins University', 'Carnegie Mellon University', 'University of San Francisco', 'Vanderbilt University', 'Virginia Polytechnic Institute and State University', 'Harvard University', 'Southern Methodist University', 'Emory University', 'New Jersey Institute of Technology', 'Washington University in St Louis', 'Case Western Reserve University', 'Columbia University in the City of New York', 'Fordham University', 'Boston College', 'University of Pennsylvania', 'Lehigh University', 'Cornell University', 'Duke University', 'Georgia Institute of Technology-Main Campus', 'University of Notre Dame', 'Rensselaer Polytechnic Institute', 'Georgetown University'], 'alias': ['CWRU|Case|Case Western Reserve', 'Cal Poly', 'MIT, M.I.T.', 'Columbia University', 'USC', 'Michigan Tech|MTU|Michigan Tech University|Mich Tech|Michigan Technological Univ|Michigan Tech Univ|MT', 'Dartmouth, Big Green', 'University of Virginia  UVa  UVA', 'GCU', 'nan', 'Georgetown|GU', 'Georgia Tech', 'RPI, Rensselaer', 'SCU', 'Pace University', 'SMU', 'UC Berkeley', 'NJIT', 'WashU', 'Drexel', 'Johns Hopkins', 'Penn, U of PA, U-Penn, U of P, Pennsylvania, UPenn, Pennsylvania University, University of Pennsylvania, Wharton, Wharton School of Business', 'Virginia Tech', 'USD', 'U of Michigan|U of M|Univ of Michigan|U Michigan Ann Arbor|University of Michigan Ann Arbor', 'Carnegie Mellon; CMU', 'Notre Dame | Fighting Irish | ND', 'GWU|GW'], 'city': ['San Diego', 'Providence', 'Bethlehem', 'Cleveland', 'Newark', 'Bronx', 'San Francisco', 'Pittsburgh', 'Troy', 'Ithaca', 'New Haven', 'Charlottesville', 'Fairfield', 'Medford', 'Villanova', 'Blacksburg', 'Cambridge', 'Baltimore', 'New York', 'Ann Arbor', 'Boston', 'Evanston', 'Dallas', 'Los Angeles', 'Rochester', 'Chicago', 'San Luis Obispo', 'Phoenix', 'Princeton', 'Winston-Salem', 'Hanover', 'Philadelphia', 'Berkeley', 'Stanford', 'Chestnut Hill', 'Durham', 'Nashville', 'Notre Dame', 'Saint Louis', 'Santa Clara', 'Washington', 'Houghton', 'Atlanta'], 'state': ['Michigan', 'North Carolina', 'Washington, DC', 'Missouri', 'Pennsylvania', 'New Hampshire', 'New Jersey', 'Ohio', 'Massachusetts', 'Georgia', 'Indiana', 'Maryland', 'New York', 'Virginia', 'California', 'Tennessee', 'Connecticut', 'Rhode Island', 'Illinois', 'Arizona', 'Texas'], 'region': ['Far West', 'Plains', 'Southwest', 'Southeast', 'New England', 'Great Lakes', 'Mid East'], 'control': ['private', 'public'], 'architecture': ['0', '1'], 'journalism': ['0', '1'], 'computer science': ['1'], 'education': ['0', '1'], 'engineering': ['0', '1'], 'linguistics': ['0', '1'], 'law': ['0', '1'], 'literature': ['0', '1'], 'biology': ['1'], 'mathematics': ['0', '1'], 'philosophy': ['0', '1'], 'physics': ['1'], 'psychology': ['0', '1'], 'social sciences': ['0', '1'], 'arts': ['1'], 'health': ['0', '1'], 'business': ['0', '1'], 'history': ['0', '1']}\n"
     ]
    }
   ],
   "source": [
    "# for each slot collect the possible values:\n",
    "slot_values = dict()\n",
    "for slot in db.columns:\n",
    "    slot_values[slot] = list(set(db[slot].tolist()))\n",
    "slots_to_ignore = [\"UNITID\",\"url\",\"students\",\"admission_rate\",\"sat\",\"cost\",\"price_range\",\"earnings\",\"debt\",\"completion\",\"areas\"]\n",
    "for slot_to_be_ignored in slots_to_ignore:\n",
    "    del slot_values[slot_to_be_ignored] # e.g. we don't consider unit-ID as a slot\n",
    "print(slot_values)"
   ]
  },
  {
   "cell_type": "code",
   "execution_count": 7,
   "metadata": {},
   "outputs": [
    {
     "name": "stdout",
     "output_type": "stream",
     "text": [
      "dict_keys(['name', 'alias', 'city', 'state', 'region', 'control', 'architecture', 'journalism', 'computer science', 'education', 'engineering', 'linguistics', 'law', 'literature', 'biology', 'mathematics', 'philosophy', 'physics', 'psychology', 'social sciences', 'arts', 'health', 'business', 'history'])\n"
     ]
    }
   ],
   "source": [
    "print(slot_values.keys())"
   ]
  },
  {
   "attachments": {},
   "cell_type": "markdown",
   "metadata": {},
   "source": [
    "## Scripts to create simple dialogues automatically"
   ]
  },
  {
   "cell_type": "code",
   "execution_count": 8,
   "metadata": {},
   "outputs": [],
   "source": [
    "# TODO: include further example texts\n",
    "system_greetings = [\"Hello! How can I help you?\",\"Hi, I'm the college adviser, how can I help you?\",\"Tell me what you are looking for.\",\"Tell me more about the college you're looking for.\",\"Hi how can I help you?\",\"Hello! I'm the college adviser, how can I help you?\",\"Hi, how may I be of assistance?\",\"Greetings, how may I help you?\"]\n",
    "user_greetings = [\"Hello!\",\"Hi.\",\"Hi\",\"Hello\",\"Hi!\",\"What's up?\",\"Yo\"]\n",
    "system_byes = [\"Goodbye!\",\"I hope I could help you.\",\"See you soon.\",\"Goodbye\",\"Bye.\",\"Your're welcome. Goodbye!\",\"You're welcome, have a nice day!\"]\n",
    "user_byes = [\"Thanks for your help.\",\"Alright, bye!\",\"Thanks, goodbye!\",\"Bye\",\"I don't need more information. Bye!\",\"Thanks, that's all.\",\"Okay, thanks. Goodbye!\",\"Thank you for the information.\",\"I see, thanks, bye\",\"That sounds good, thank you!\"]"
   ]
  },
  {
   "cell_type": "code",
   "execution_count": 9,
   "metadata": {},
   "outputs": [],
   "source": [
    "def greet_dialogue():\n",
    "    return (str(\"user : \"+random.choice(user_greetings)),\"none\",\"Database 0 results\",str(\"system : \"+random.choice(system_greetings)))\n",
    "def bye_dialogue(dialogue_history,belief_states,num_matches):\n",
    "    return (dialogue_history+[str(\"user : \"+random.choice(user_byes))],belief_states,num_matches,str(\"system : \"+random.choice(system_byes)))"
   ]
  },
  {
   "cell_type": "code",
   "execution_count": 10,
   "metadata": {},
   "outputs": [
    {
     "name": "stdout",
     "output_type": "stream",
     "text": [
      "user : Hello! none Database 0 results system : Hi, how may I be of assistance?\n",
      "(['user : Hello!', 'system : Hi, how may I be of assistance?', 'user : Thank you for the information.'], 'none', 'Database 0 results', \"system : You're welcome, have a nice day!\")\n"
     ]
    }
   ],
   "source": [
    "# example run\n",
    "user_utterance,belief_state,num_matches,sys_reply = greet_dialogue()\n",
    "print(user_utterance, belief_state,num_matches,sys_reply)\n",
    "print(bye_dialogue([user_utterance,sys_reply],belief_state,num_matches))"
   ]
  },
  {
   "cell_type": "code",
   "execution_count": 11,
   "metadata": {},
   "outputs": [],
   "source": [
    "# TODO: include further example texts\n",
    "simple_slots = dict()\n",
    "simple_slots[\"name\"] = [\"I want to know more about [name].\",\"Please tell me more about [name].\",\"[name] sounds interesting to me.\",\"I want to study at [name].\",\"How about [name]?\",\"I want to study at [name].\",\"Tell me more about the [name].\",\"Can you give me more information on [name]?\",\"I heard [name] is great. Can you tell me more about it?\",\"I'm interested in the [name].\"]\n",
    "simple_slots[\"control\"] = [\"The college should be [control].\", \"I'm looking for a [control] college.\", \"I'm looking for a college that is [control].\",\"I want it to be [control].\"]\n",
    "simple_slots[\"alias\"] = [\"How about [alias]?\",\"I want to study at [alias].\",\"I heard [alias] is great. Can you tell me more about it?\",\"What is the [alias]?\"]\n",
    "simple_slots[\"city\"] = [\"I'm looking for a college in [city].\",\"I want to study in [city].\",\"Do you know any unis in [city]?\",\"In [city].\",\"I want to find a college in [city].\",\"Is there a college in [city]?\",\"I want to go to a college in [city].\"]\n",
    "simple_slots[\"state\"] = [\"I'm looking for a college in [state].\", \"I want to study in [state].\",\"Do you know any unis in [state]?\",\"In [state].\",\"I'm interested in colleges in [state].\",\"I want more information on colleges in [state].\",\"I want to go to a college in [city].\"]\n",
    "simple_slots[\"region\"] = [\"I'm looking for a college in [region].\",\"I'm looking for a college in the [region].\",\"I want to study in [region].\",\"Do you know any unis in [region]?\",\"In the [region].\",\"Show me colleges in the [region].\",\"I want to go to a college in the [region].\"]\n",
    "# simple_slots[\"url\"] = [\"If found this website [url].\",\"During my search I came across [url].\"]\n",
    "# simple_slots[\"students\"] = [\"There should be [students] undergraduate students.\",\"I want to study at a college with [students] students.\"]\n",
    "# simple_slots[\"admission_rate\"] = [\"The admission rate should be lower than [admission_rate].\",\"The admission rate should be higher than [admission_rate]\"]\n",
    "# simple_slots[\"sat\"] = [\"On average students should have an sat score of [sat].\",\"The sat score should be [sat].\"]\n",
    "# simple_slots[\"cost\"] = [\"Studying should cost on average [cost] anually.\",\"Paying [cost] per year is fine for me.\"]\n",
    "# simple_slots[\"price_range\"] = [\"Show me [price_range] colleges.\",\"Show me a [price_range] college.\",\"[price_range] would be good.\",\"It should be [price_range]\",\"It's okay if the college is [price_range].\",\"I can afford a [price_range] university.\",\"Can you give me a [price_range] university?\"]\n",
    "# simple_slots[\"earnings\"] = [\"After my studies I want to earn [earnings] dollars.\",\"The expected income after having finished my studies should be [earnings] dollars.\"]\n",
    "# simple_slots[\"debt\"] = [\"For me it would be fine to end up with [debt] dollars debt.\", \"A debt of [debt] dollars is acceptable for me.\"]\n",
    "# simple_slots[\"completion\"] = [\"I want to complete my studies at a rate of [completion].\",\"The completion rate should be [completion]\"]\n",
    "simple_slots[\"area\"] = [\"I'd like to study [area]\",\"Can you study [area] there?\",\"I want to study [area].\",\"Can you help me to find a college where I can study [area]?\",\"Is there a study program related to [area] offered?\",\"I want to do something with [area].\",\"Is there a college that offers courses in [area]?\"]\n",
    "study_areas = ['architecture', 'journalism', 'computer science','education', 'engineering', 'linguistics', 'law', 'literature','biology', 'mathematics', 'philosophy', 'physics', 'psychology','social sciences', 'arts', 'health', 'business', 'history']\n",
    "for study_area in study_areas:\n",
    "    simple_slots[study_area] = [x.replace(\"[area]\",str(\"[\"+study_area+\"]\")) for x in list(simple_slots[\"area\"])]\n",
    "# simple_slots[\"areas\"] = [\"\"]"
   ]
  },
  {
   "cell_type": "code",
   "execution_count": 12,
   "metadata": {},
   "outputs": [],
   "source": [
    "# TODO: include further example texts\n",
    "\n",
    "system_replies = dict()\n",
    "\n",
    "# no results\n",
    "system_replies[\"None\"] = [\"There is no college matching your preferences.\",\n",
    "                          \"I couldn't find a college for your request.\",\n",
    "                          \"I have no information on such a college.\",\n",
    "                          \"I'm sorry, I don't have any information on this.\",\n",
    "                          \"My apologies, it appears that I don't have any information about such colleges. Would you like to try some other criteria?\",\n",
    "                          \"I couldn't find any colleges matching your query. Do you want to change something?\",\n",
    "                          \"I couldn't find any colleges matching your query. Would you like to try again?\",\n",
    "                          \"I didn't find a result. Is there anything else I can help you with?\"] \n",
    "\n",
    "# one result\n",
    "system_replies[\"One\"] = [\"[name] is a [control] top university in [city], [state] with [students] undergraduate students. You can check out their website at [url].\",\n",
    "                         \"The [name] is [price_range] and is located in [region]. There are courses offered in [area]. Do you need more information?\",\n",
    "                         \"Check [url] if you want more information later.\",\n",
    "                         \"I found a college that could interest you: [name]. Do you want to know more about it?\",\n",
    "                         \"Studying at [name] is [price_range].\",\n",
    "                         \"[name] is a [control] top university in [city], [state] with [students] undergraduate students. find out more about the at [url].\",\n",
    "                         \"[name] matches your preferences.\",\n",
    "                         \"Okay, how about [name]? It's a great university in [city], [state].\",\n",
    "                         \"[name] is a [control] top university with [students] undergraduate students. Find out more about them at [url].\",\n",
    "                         \"[name] has an admission rate of [admission_rate]\",\n",
    "                         \"At [name] graduates earn about [earnings].\",\n",
    "                         \"[name] is located in [city].\",\n",
    "                         \"On average it costs [cost] dollars per year.\",\n",
    "                         \"On average, students accepted into [name] have an sat score of [sat].\"\n",
    "                         \"The [name] could interest you. Would you like to know more about it?\",\n",
    "                         \"[name] might be a match for you. Do you want to know more about it?\",\n",
    "                         \"For more information check its website at [url].\",\n",
    "                         \"Your expected earnings will be around [earnings] dollars anually.\",\n",
    "                         \"You can check out their website at [url].\",\n",
    "                         \"For example [name] is located in [city]. The completion rate is [completion], but it is [price_range].\",\n",
    "                         \"On average, students graduate there with [debt] dollars in debt.\",\n",
    "                         \"[name] is a college in [city] and thus belongs to [region].\",\n",
    "                         \"[name] is often called [alias].\",\n",
    "                         \"The [name] offers studying [area],\"\n",
    "                         \"In case you want more information: visit [url].\",\n",
    "                         \"[students] attent the university.\",\n",
    "                         \"May I offer [name]?\"]\n",
    "\n",
    "# two results\n",
    "system_replies[\"Two\"] = [\"I found two universities that could be of interest to you, [name1] and [name2]. Would you like to know more about one of them?\",\n",
    "                         \"There's two colleges that match your preferences: [name1] and [name2]. Do you want to know more about one of them?\",\n",
    "                         \"For example [name] is located in [city]. The completion rate is [completion], but it is [price_range].\",\n",
    "                         \"Both, [name1] and [name2] match your preferences.\"]\n",
    "\n",
    "# many results\n",
    "system_replies[\"Many\"] = [\"Do you have any other requirements for the college?\",\n",
    "                          \"There's many. Is there anything else you want from the college?\",\n",
    "                          \"Do you have other criteria for the college?\",\n",
    "                          \"Alright. There is a lot of colleges left. What specifically are you looking for?\",\n",
    "                          \"Do you want to limit the search for a college further?\",\n",
    "                        #   \"In which region do you want to study?\",\n",
    "                        #   \"What subject would you like to study?\",\n",
    "                        #   \"What would you like to study?\",\n",
    "                        #   \"Whare are you interested in studying?\",\n",
    "                        #   \"Which place would you like to study in?\",\n",
    "                        #   \"Are you looking for a specific price range?\",\n",
    "                        #   \"How expensive would you like the college to be?\",\n",
    "                        #   \"Where do you want your college to be?\",\n",
    "                          \"Do you have any other wishes to limit the amount of colleges?\",\n",
    "                          \"Would you like to narrow your search?\",\n",
    "                          \"There's multiple colleges that match your criteria. Would you like to narrow down your search?\",\n",
    "                          \"Do you have anything else in mind?\"]"
   ]
  },
  {
   "cell_type": "code",
   "execution_count": 13,
   "metadata": {},
   "outputs": [],
   "source": [
    "def generate_dialog_small(current_db,slot,value):\n",
    "    '''\n",
    "    Returns a user utterance (for history), the belief state, the amount of database results, and a possible system response\n",
    "    Note that formalities like greeting and goodbye are not included\n",
    "    Only consider ONE slot/value\n",
    "    Params:\n",
    "        current_db: database (eventually pre-filtered) that is considered for checking the amount of results\n",
    "        slot: the slot the dialogue should cover, e.g. name, region, ...\n",
    "        value: the concrete value of the slot, e.g. expensive, private, ...\n",
    "    '''\n",
    "    user_history = random.choice(simple_slots[slot])\n",
    "    if slot in study_areas:\n",
    "        user_history = user_history.replace(str(\"[\"+slot+\"]\"),slot).lower()\n",
    "        belief = str(\"area = \"+ slot).lower()\n",
    "    else:\n",
    "        user_history = user_history.replace(str(\"[\"+slot+\"]\"),value).lower()\n",
    "        belief = str(slot+\" = \"+value).lower()\n",
    "    small_db = current_db.loc[current_db[slot]==value]\n",
    "    num_results = len(small_db)\n",
    "    if num_results == 0:\n",
    "        results = \"Database 0 results\".lower()\n",
    "        system_reply = random.choice(system_replies[\"None\"]).lower()\n",
    "    elif num_results == 1:\n",
    "        results = \"Database 1 result\".lower()\n",
    "        system_reply = random.choice(system_replies[\"One\"]).lower()\n",
    "    elif num_results == 2:\n",
    "        results = \"Database 2 results\".lower()\n",
    "        system_reply = random.choice(system_replies[\"Two\"]).lower()\n",
    "    else: # num_results > 1\n",
    "        results = str(\"Database \" + str(num_results) + \" results\").lower()\n",
    "        system_reply = random.choice(system_replies[\"Many\"]).lower()\n",
    "    return user_history, belief, results, system_reply, small_db"
   ]
  },
  {
   "cell_type": "code",
   "execution_count": 51,
   "metadata": {},
   "outputs": [
    {
     "name": "stdout",
     "output_type": "stream",
     "text": [
      "the college should be private.\n",
      "control = private\n",
      "database 41 results\n",
      "there's many. is there anything else you want from the college?\n"
     ]
    }
   ],
   "source": [
    "# example run\n",
    "user_history,belief,results,system_reply,small_db = generate_dialog_small(db,\"control\",\"private\")\n",
    "print(user_history)\n",
    "print(belief)\n",
    "print(results)\n",
    "print(system_reply)"
   ]
  },
  {
   "cell_type": "code",
   "execution_count": 52,
   "metadata": {},
   "outputs": [
    {
     "name": "stdout",
     "output_type": "stream",
     "text": [
      "is there a college that offers courses in law?\n",
      "area = law\n",
      "database 7 results\n",
      "do you have anything else in mind?\n"
     ]
    }
   ],
   "source": [
    "# example run\n",
    "user_history,belief,results,system_reply,small_db = generate_dialog_small(db,\"law\",\"1\")\n",
    "print(user_history)\n",
    "print(belief)\n",
    "print(results)\n",
    "print(system_reply)"
   ]
  },
  {
   "cell_type": "code",
   "execution_count": 14,
   "metadata": {},
   "outputs": [],
   "source": [
    "def generate_dialogue(current_db,slots_values):\n",
    "    '''\n",
    "    Generate a dialogue (sometimes including greeting and goodbye) with the specified slots and values.\n",
    "    Parameters:\n",
    "        current_db: database that is considered for checking the amount of results\n",
    "        slots_values (dict): key = slot, value = value; one key should be covered in one turn of the dialogue\n",
    "    Returns list of created dialogues\n",
    "    '''\n",
    "    dialogues = []\n",
    "    dialogue = {\"history\":[],\"belief\":\"\",\"kb\":\"\",\"reply\":\"\"}\n",
    "    history = []\n",
    "\n",
    "    random_start = random.choice([i for i in range(10)])\n",
    "    if random_start == 1: # only once in 10 dialogues we want to include a start\n",
    "        user_greeting,belief_state,num_results,system_greeting = greet_dialogue()\n",
    "        dialogue[\"history\"] += [user_greeting]\n",
    "        dialogue[\"belief\"] = belief_state # in the beginning this is always none\n",
    "        dialogue[\"kb\"] = num_results\n",
    "        dialogue[\"reply\"] = system_greeting\n",
    "        # print(dialogue)\n",
    "        dialogues += [copy.deepcopy(dialogue)]\n",
    "        history = [user_greeting,system_greeting]\n",
    "        \n",
    "    for slot,value in slots_values.items():\n",
    "        u_h,b_s,n_r,s_r,small_db = generate_dialog_small(current_db,slot,value)\n",
    "        dialogue[\"history\"] = history + [str(\"user : \"+u_h)]\n",
    "        if (dialogue[\"belief\"] == \"\"): # no belief state yet\n",
    "            dialogue[\"belief\"] = b_s\n",
    "        elif (dialogue[\"belief\"] == \"none\") and (b_s != \"none\"): # we found something\n",
    "            dialogue[\"belief\"] = b_s\n",
    "        elif (dialogue[\"belief\"] != \"none\") and (b_s != \"none\"): # concatenate belief states\n",
    "            dialogue[\"belief\"] = dialogue[\"belief\"] + \" ; \" + b_s\n",
    "        dialogue[\"kb\"] = n_r\n",
    "        dialogue[\"reply\"] = str(\"system : \" + s_r)\n",
    "        # print(dialogue)\n",
    "        dialogues += [copy.deepcopy(dialogue)]\n",
    "        history = dialogue[\"history\"] + [dialogue[\"reply\"]]\n",
    "        current_db = small_db\n",
    "            \n",
    "    random_end = random.choice([i for i in range(10)])\n",
    "    if random_end == 1: # only once in 10 dialogues we want to include an end\n",
    "        user_bye,b_s,n_r,system_bye = bye_dialogue(history,dialogue[\"belief\"],dialogue[\"kb\"])\n",
    "        dialogue[\"history\"] = user_bye\n",
    "        dialogue[\"reply\"] = system_bye\n",
    "        # print(dialogue)\n",
    "        dialogues += [copy.deepcopy(dialogue)]\n",
    "\n",
    "    return dialogues"
   ]
  },
  {
   "cell_type": "code",
   "execution_count": 54,
   "metadata": {},
   "outputs": [
    {
     "data": {
      "text/plain": [
       "[{'history': [\"user : i'm looking for a private college.\"],\n",
       "  'belief': 'control = private',\n",
       "  'kb': 'database 41 results',\n",
       "  'reply': 'system : do you have other criteria for the college?'},\n",
       " {'history': [\"user : i'm looking for a private college.\",\n",
       "   'system : do you have other criteria for the college?',\n",
       "   \"user : i'm looking for a college in california.\"],\n",
       "  'belief': 'control = private ; state = california',\n",
       "  'kb': 'database 5 results',\n",
       "  'reply': 'system : alright. there is a lot of colleges left. what specifically are you looking for?'}]"
      ]
     },
     "execution_count": 54,
     "metadata": {},
     "output_type": "execute_result"
    }
   ],
   "source": [
    "# example run\n",
    "generate_dialogue(db,{\"control\":\"private\",\"state\":\"California\"})"
   ]
  },
  {
   "cell_type": "code",
   "execution_count": 55,
   "metadata": {},
   "outputs": [
    {
     "data": {
      "text/plain": [
       "[{'history': ['user : can you study computer science there?'],\n",
       "  'belief': 'area = computer science',\n",
       "  'kb': 'database 49 results',\n",
       "  'reply': 'system : do you have anything else in mind?'},\n",
       " {'history': ['user : can you study computer science there?',\n",
       "   'system : do you have anything else in mind?',\n",
       "   'user : do you know any unis in california?'],\n",
       "  'belief': 'area = computer science ; state = california',\n",
       "  'kb': 'database 7 results',\n",
       "  'reply': \"system : there's multiple colleges that match your criteria. would you like to narrow down your search?\"}]"
      ]
     },
     "execution_count": 55,
     "metadata": {},
     "output_type": "execute_result"
    }
   ],
   "source": [
    "# example run\n",
    "generate_dialogue(db,{\"computer science\":\"1\",\"state\":\"California\"})"
   ]
  },
  {
   "attachments": {},
   "cell_type": "markdown",
   "metadata": {},
   "source": [
    "## Create sample dialogues (for training) covering multiple / all slots / values"
   ]
  },
  {
   "cell_type": "code",
   "execution_count": 56,
   "metadata": {},
   "outputs": [
    {
     "name": "stdout",
     "output_type": "stream",
     "text": [
      "error:  {'name': ['University of Rochester', 'Michigan Technological University', 'Duke University', 'Brown University', 'University of Pennsylvania', 'Georgetown University', 'Johns Hopkins University', 'University of Michigan-Ann Arbor', 'Fairfield University', 'Villanova University', 'Stanford University', 'Cornell University', 'Northwestern University', 'University of Southern California', 'Massachusetts Institute of Technology', 'Fordham University', 'Tufts University', 'Washington University in St Louis', 'Vanderbilt University', 'George Washington University', 'Wake Forest University', 'Virginia Polytechnic Institute and State University', 'Santa Clara University', 'Yale University', 'University of Notre Dame', 'Carnegie Mellon University', 'University of San Diego', 'Boston College', 'New York University', 'Harvard University', 'Southern Methodist University', 'California Polytechnic State University-San Luis Obispo', 'Emory University', 'Rensselaer Polytechnic Institute', 'Northeastern University', 'Columbia University in the City of New York', 'Case Western Reserve University', 'Princeton University', 'University of Virginia-Main Campus', 'Georgia Institute of Technology-Main Campus', 'University of San Francisco', 'Dartmouth College', 'University of Chicago', 'University of California-Berkeley', 'Drexel University', 'Grand Canyon University', 'Pace University', 'New Jersey Institute of Technology', 'Lehigh University'], 'alias': ['Johns Hopkins', 'CWRU|Case|Case Western Reserve', 'SCU', 'SMU', 'WashU', 'Carnegie Mellon; CMU', 'UC Berkeley', 'Columbia University', 'Georgia Tech', 'Georgetown|GU', 'Penn, U of PA, U-Penn, U of P, Pennsylvania, UPenn, Pennsylvania University, University of Pennsylvania, Wharton, Wharton School of Business', 'Virginia Tech', 'USC', 'GWU|GW', 'University of Virginia  UVa  UVA', 'MIT, M.I.T.', 'Drexel', 'nan', 'USD', 'Michigan Tech|MTU|Michigan Tech University|Mich Tech|Michigan Technological Univ|Michigan Tech Univ|MT', 'GCU', 'U of Michigan|U of M|Univ of Michigan|U Michigan Ann Arbor|University of Michigan Ann Arbor', 'RPI, Rensselaer', 'Dartmouth, Big Green', 'Cal Poly', 'Notre Dame | Fighting Irish | ND', 'Pace University', 'NJIT'], 'city': ['Winston-Salem', 'Phoenix', 'Pittsburgh', 'Ithaca', 'Stanford', 'Troy', 'San Luis Obispo', 'Saint Louis', 'Dallas', 'Houghton', 'Newark', 'Charlottesville', 'Santa Clara', 'Rochester', 'San Francisco', 'Durham', 'Bethlehem', 'Nashville', 'Cleveland', 'Atlanta', 'Washington', 'New York', 'Evanston', 'Hanover', 'Philadelphia', 'San Diego', 'Villanova', 'Princeton', 'Bronx', 'Los Angeles', 'Medford', 'Notre Dame', 'Boston', 'Fairfield', 'Baltimore', 'Blacksburg', 'Ann Arbor', 'Chicago', 'Providence', 'New Haven', 'Chestnut Hill', 'Cambridge', 'Berkeley'], 'state': ['California', 'New Jersey', 'Georgia', 'Massachusetts', 'Tennessee', 'Missouri', 'Pennsylvania', 'Washington, DC', 'Indiana', 'Michigan', 'New York', 'North Carolina', 'Maryland', 'Rhode Island', 'Virginia', 'Arizona', 'Illinois', 'New Hampshire', 'Connecticut', 'Texas', 'Ohio'], 'region': ['Mid East', 'Great Lakes', 'Plains', 'Far West', 'Southwest', 'New England', 'Southeast'], 'control': ['public', 'private'], 'architecture': ['0', '1'], 'journalism': ['0', '1'], 'computer science': ['1'], 'education': ['0', '1'], 'engineering': ['0', '1'], 'linguistics': ['0', '1'], 'law': ['0', '1'], 'literature': ['0', '1'], 'biology': ['1'], 'mathematics': ['0', '1'], 'philosophy': ['0', '1'], 'physics': ['1'], 'psychology': ['0', '1'], 'social sciences': ['0', '1'], 'arts': ['1'], 'health': ['0', '1'], 'business': ['0', '1'], 'history': ['1']}\n",
      "error:  {'name': ['University of Rochester', 'Michigan Technological University', 'Duke University', 'Brown University', 'University of Pennsylvania', 'Georgetown University', 'Johns Hopkins University', 'University of Michigan-Ann Arbor', 'Fairfield University', 'Villanova University', 'Stanford University', 'Cornell University', 'Northwestern University', 'University of Southern California', 'Massachusetts Institute of Technology', 'Fordham University', 'Tufts University', 'Washington University in St Louis', 'Vanderbilt University', 'George Washington University', 'Wake Forest University', 'Virginia Polytechnic Institute and State University', 'Santa Clara University', 'Yale University', 'University of Notre Dame', 'Carnegie Mellon University', 'University of San Diego', 'Boston College', 'New York University', 'Harvard University', 'Southern Methodist University', 'California Polytechnic State University-San Luis Obispo', 'Emory University', 'Rensselaer Polytechnic Institute', 'Northeastern University', 'Columbia University in the City of New York', 'Case Western Reserve University', 'Princeton University', 'University of Virginia-Main Campus', 'Georgia Institute of Technology-Main Campus', 'University of San Francisco', 'Dartmouth College', 'University of Chicago', 'University of California-Berkeley', 'Drexel University', 'Grand Canyon University', 'Pace University', 'New Jersey Institute of Technology', 'Lehigh University'], 'alias': ['Johns Hopkins', 'CWRU|Case|Case Western Reserve', 'SCU', 'SMU', 'WashU', 'Carnegie Mellon; CMU', 'UC Berkeley', 'Columbia University', 'Georgia Tech', 'Georgetown|GU', 'Penn, U of PA, U-Penn, U of P, Pennsylvania, UPenn, Pennsylvania University, University of Pennsylvania, Wharton, Wharton School of Business', 'Virginia Tech', 'USC', 'GWU|GW', 'University of Virginia  UVa  UVA', 'MIT, M.I.T.', 'Drexel', 'nan', 'USD', 'GCU', 'U of Michigan|U of M|Univ of Michigan|U Michigan Ann Arbor|University of Michigan Ann Arbor', 'RPI, Rensselaer', 'Dartmouth, Big Green', 'Cal Poly', 'Notre Dame | Fighting Irish | ND', 'Pace University', 'NJIT'], 'city': ['Winston-Salem', 'Phoenix', 'Pittsburgh', 'Ithaca', 'Stanford', 'Troy', 'San Luis Obispo', 'Saint Louis', 'Dallas', 'Houghton', 'Newark', 'Charlottesville', 'Santa Clara', 'Rochester', 'San Francisco', 'Durham', 'Bethlehem', 'Nashville', 'Cleveland', 'Atlanta', 'Washington', 'New York', 'Evanston', 'Hanover', 'Philadelphia', 'San Diego', 'Villanova', 'Princeton', 'Bronx', 'Los Angeles', 'Medford', 'Notre Dame', 'Boston', 'Fairfield', 'Baltimore', 'Blacksburg', 'Ann Arbor', 'Chicago', 'Providence', 'Chestnut Hill', 'Berkeley'], 'state': ['California', 'New Jersey', 'Georgia', 'Massachusetts', 'Tennessee', 'Missouri', 'Pennsylvania', 'Washington, DC', 'Indiana', 'Michigan', 'New York', 'North Carolina', 'Maryland', 'Rhode Island', 'Virginia', 'Arizona', 'Illinois', 'New Hampshire', 'Connecticut', 'Texas', 'Ohio'], 'region': ['Mid East', 'Great Lakes', 'Plains', 'Far West', 'Southwest', 'New England', 'Southeast'], 'journalism': ['1'], 'education': ['1'], 'linguistics': ['1'], 'law': ['1'], 'mathematics': ['0', '1'], 'philosophy': ['0', '1'], 'psychology': ['1'], 'health': ['0', '1'], 'business': ['0', '1']}\n",
      "error:  {'name': ['University of Rochester', 'Michigan Technological University', 'Duke University', 'Brown University', 'University of Pennsylvania', 'Georgetown University', 'Johns Hopkins University', 'University of Michigan-Ann Arbor', 'Fairfield University', 'Villanova University', 'Stanford University', 'Cornell University', 'Northwestern University', 'University of Southern California', 'Massachusetts Institute of Technology', 'Fordham University', 'Tufts University', 'Washington University in St Louis', 'Vanderbilt University', 'George Washington University', 'Wake Forest University', 'Virginia Polytechnic Institute and State University', 'Santa Clara University', 'University of Notre Dame', 'Carnegie Mellon University', 'University of San Diego', 'Boston College', 'New York University', 'Harvard University', 'Southern Methodist University', 'California Polytechnic State University-San Luis Obispo', 'Emory University', 'Rensselaer Polytechnic Institute', 'Northeastern University', 'Columbia University in the City of New York', 'Case Western Reserve University', 'Princeton University', 'University of Virginia-Main Campus', 'Georgia Institute of Technology-Main Campus', 'University of San Francisco', 'Dartmouth College', 'University of Chicago', 'University of California-Berkeley', 'Drexel University', 'Grand Canyon University', 'Pace University', 'New Jersey Institute of Technology', 'Lehigh University'], 'alias': ['Johns Hopkins', 'CWRU|Case|Case Western Reserve', 'SCU', 'SMU', 'WashU', 'Carnegie Mellon; CMU', 'UC Berkeley', 'Columbia University', 'Georgia Tech', 'Georgetown|GU', 'Penn, U of PA, U-Penn, U of P, Pennsylvania, UPenn, Pennsylvania University, University of Pennsylvania, Wharton, Wharton School of Business', 'Virginia Tech', 'USC', 'GWU|GW', 'University of Virginia  UVa  UVA', 'MIT, M.I.T.', 'Drexel', 'nan', 'USD', 'GCU', 'U of Michigan|U of M|Univ of Michigan|U Michigan Ann Arbor|University of Michigan Ann Arbor', 'RPI, Rensselaer', 'Dartmouth, Big Green', 'Cal Poly', 'Notre Dame | Fighting Irish | ND', 'Pace University', 'NJIT'], 'city': ['Winston-Salem', 'Phoenix', 'Pittsburgh', 'Ithaca', 'Stanford', 'Troy', 'San Luis Obispo', 'Saint Louis', 'Dallas', 'Houghton', 'Newark', 'Charlottesville', 'Santa Clara', 'Rochester', 'San Francisco', 'Durham', 'Bethlehem', 'Nashville', 'Cleveland', 'Atlanta', 'Washington', 'New York', 'Evanston', 'Hanover', 'Philadelphia', 'San Diego', 'Villanova', 'Princeton', 'Bronx', 'Los Angeles', 'Medford', 'Notre Dame', 'Boston', 'Fairfield', 'Baltimore', 'Blacksburg', 'Ann Arbor', 'Chicago', 'Providence', 'Berkeley'], 'state': ['California', 'New Jersey', 'Georgia', 'Massachusetts', 'Tennessee', 'Missouri', 'Pennsylvania', 'Washington, DC', 'Indiana', 'Michigan', 'New York', 'North Carolina', 'Maryland', 'Rhode Island', 'Virginia', 'Arizona', 'Illinois', 'New Hampshire', 'Connecticut', 'Texas', 'Ohio'], 'region': ['Mid East', 'Great Lakes', 'Plains', 'Far West', 'Southwest', 'New England', 'Southeast'], 'journalism': ['1'], 'linguistics': ['1'], 'law': ['1'], 'mathematics': ['0', '1'], 'philosophy': ['1'], 'health': ['0', '1'], 'business': ['0', '1']}\n",
      "error:  {'name': ['University of Rochester', 'Michigan Technological University', 'Duke University', 'Brown University', 'University of Pennsylvania', 'Georgetown University', 'Johns Hopkins University', 'University of Michigan-Ann Arbor', 'Fairfield University', 'Villanova University', 'Stanford University', 'Cornell University', 'Northwestern University', 'University of Southern California', 'Massachusetts Institute of Technology', 'Fordham University', 'Tufts University', 'Washington University in St Louis', 'Vanderbilt University', 'George Washington University', 'Wake Forest University', 'Virginia Polytechnic Institute and State University', 'Santa Clara University', 'University of Notre Dame', 'Carnegie Mellon University', 'University of San Diego', 'Boston College', 'New York University', 'Harvard University', 'Southern Methodist University', 'California Polytechnic State University-San Luis Obispo', 'Emory University', 'Rensselaer Polytechnic Institute', 'Northeastern University', 'Columbia University in the City of New York', 'Case Western Reserve University', 'Princeton University', 'University of Virginia-Main Campus', 'Georgia Institute of Technology-Main Campus', 'University of San Francisco', 'Dartmouth College', 'University of Chicago', 'University of California-Berkeley', 'Drexel University', 'Grand Canyon University', 'Pace University', 'New Jersey Institute of Technology', 'Lehigh University'], 'alias': ['Johns Hopkins', 'CWRU|Case|Case Western Reserve', 'SCU', 'SMU', 'WashU', 'Carnegie Mellon; CMU', 'UC Berkeley', 'Columbia University', 'Georgetown|GU', 'Penn, U of PA, U-Penn, U of P, Pennsylvania, UPenn, Pennsylvania University, University of Pennsylvania, Wharton, Wharton School of Business', 'Virginia Tech', 'USC', 'GWU|GW', 'University of Virginia  UVa  UVA', 'MIT, M.I.T.', 'Drexel', 'nan', 'USD', 'GCU', 'U of Michigan|U of M|Univ of Michigan|U Michigan Ann Arbor|University of Michigan Ann Arbor', 'RPI, Rensselaer', 'Dartmouth, Big Green', 'Cal Poly', 'Notre Dame | Fighting Irish | ND', 'Pace University', 'NJIT'], 'city': ['Winston-Salem', 'Phoenix', 'Pittsburgh', 'Ithaca', 'Stanford', 'Troy', 'San Luis Obispo', 'Saint Louis', 'Dallas', 'Newark', 'Charlottesville', 'Santa Clara', 'Rochester', 'San Francisco', 'Durham', 'Bethlehem', 'Nashville', 'Cleveland', 'Atlanta', 'Washington', 'New York', 'Evanston', 'Hanover', 'Philadelphia', 'San Diego', 'Villanova', 'Princeton', 'Bronx', 'Notre Dame', 'Boston', 'Fairfield', 'Baltimore', 'Blacksburg', 'Ann Arbor', 'Chicago', 'Providence', 'Berkeley'], 'state': ['California', 'New Jersey', 'Georgia', 'Massachusetts', 'Tennessee', 'Missouri', 'Pennsylvania', 'Washington, DC', 'Indiana', 'Michigan', 'New York', 'North Carolina', 'Maryland', 'Rhode Island', 'Virginia', 'Arizona', 'Illinois', 'New Hampshire', 'Connecticut', 'Texas', 'Ohio'], 'region': ['Mid East', 'Great Lakes', 'Plains', 'Far West', 'Southwest', 'New England', 'Southeast'], 'health': ['1'], 'business': ['0']}\n",
      "error:  {'name': ['University of Rochester', 'Michigan Technological University', 'Duke University', 'Brown University', 'University of Pennsylvania', 'Georgetown University', 'Johns Hopkins University', 'University of Michigan-Ann Arbor', 'Fairfield University', 'Villanova University', 'Stanford University', 'Cornell University', 'Northwestern University', 'University of Southern California', 'Massachusetts Institute of Technology', 'Fordham University', 'Tufts University', 'Washington University in St Louis', 'Vanderbilt University', 'George Washington University', 'Wake Forest University', 'Virginia Polytechnic Institute and State University', 'Santa Clara University', 'University of Notre Dame', 'Carnegie Mellon University', 'University of San Diego', 'Boston College', 'New York University', 'Harvard University', 'Southern Methodist University', 'California Polytechnic State University-San Luis Obispo', 'Emory University', 'Rensselaer Polytechnic Institute', 'Northeastern University', 'Columbia University in the City of New York', 'Case Western Reserve University', 'Princeton University', 'University of Virginia-Main Campus', 'Georgia Institute of Technology-Main Campus', 'University of San Francisco', 'Dartmouth College', 'University of Chicago', 'University of California-Berkeley', 'Drexel University', 'Grand Canyon University', 'Pace University', 'New Jersey Institute of Technology', 'Lehigh University'], 'alias': ['Johns Hopkins', 'CWRU|Case|Case Western Reserve', 'SCU', 'SMU', 'WashU', 'Carnegie Mellon; CMU', 'UC Berkeley', 'Columbia University', 'Georgetown|GU', 'Penn, U of PA, U-Penn, U of P, Pennsylvania, UPenn, Pennsylvania University, University of Pennsylvania, Wharton, Wharton School of Business', 'Virginia Tech', 'USC', 'GWU|GW', 'University of Virginia  UVa  UVA', 'MIT, M.I.T.', 'Drexel', 'nan', 'USD', 'GCU', 'U of Michigan|U of M|Univ of Michigan|U Michigan Ann Arbor|University of Michigan Ann Arbor', 'RPI, Rensselaer', 'Dartmouth, Big Green', 'Cal Poly', 'Notre Dame | Fighting Irish | ND', 'Pace University', 'NJIT'], 'city': ['Winston-Salem', 'Phoenix', 'Pittsburgh', 'Ithaca', 'Stanford', 'Troy', 'San Luis Obispo', 'Saint Louis', 'Dallas', 'Newark', 'Charlottesville', 'Santa Clara', 'Rochester', 'San Francisco', 'Durham', 'Bethlehem', 'Nashville', 'Cleveland', 'Atlanta', 'Washington', 'New York', 'Evanston', 'Hanover', 'Philadelphia', 'San Diego', 'Villanova', 'Princeton', 'Bronx', 'Notre Dame', 'Boston', 'Fairfield', 'Baltimore', 'Blacksburg', 'Ann Arbor', 'Chicago', 'Providence', 'Berkeley'], 'state': ['California', 'New Jersey', 'Georgia', 'Massachusetts', 'Tennessee', 'Missouri', 'Pennsylvania', 'Washington, DC', 'Indiana', 'Michigan', 'New York', 'North Carolina', 'Maryland', 'Rhode Island', 'Virginia', 'Arizona', 'Illinois', 'New Hampshire', 'Connecticut', 'Texas', 'Ohio'], 'region': ['Mid East', 'Great Lakes', 'Plains', 'Far West', 'Southwest', 'New England', 'Southeast'], 'health': ['1']}\n",
      "error:  {'name': ['University of Rochester', 'Michigan Technological University', 'Duke University', 'Brown University', 'University of Pennsylvania', 'Georgetown University', 'Johns Hopkins University', 'University of Michigan-Ann Arbor', 'Fairfield University', 'Villanova University', 'Stanford University', 'Cornell University', 'Northwestern University', 'University of Southern California', 'Massachusetts Institute of Technology', 'Fordham University', 'Tufts University', 'Washington University in St Louis', 'Vanderbilt University', 'George Washington University', 'Wake Forest University', 'Virginia Polytechnic Institute and State University', 'Santa Clara University', 'University of Notre Dame', 'Carnegie Mellon University', 'University of San Diego', 'Boston College', 'New York University', 'Harvard University', 'Southern Methodist University', 'California Polytechnic State University-San Luis Obispo', 'Emory University', 'Rensselaer Polytechnic Institute', 'Northeastern University', 'Columbia University in the City of New York', 'Case Western Reserve University', 'Princeton University', 'University of Virginia-Main Campus', 'Georgia Institute of Technology-Main Campus', 'University of San Francisco', 'Dartmouth College', 'University of Chicago', 'University of California-Berkeley', 'Drexel University', 'Grand Canyon University', 'Pace University', 'Lehigh University'], 'alias': ['Johns Hopkins', 'CWRU|Case|Case Western Reserve', 'SCU', 'SMU', 'WashU', 'Carnegie Mellon; CMU', 'UC Berkeley', 'Columbia University', 'Georgetown|GU', 'Penn, U of PA, U-Penn, U of P, Pennsylvania, UPenn, Pennsylvania University, University of Pennsylvania, Wharton, Wharton School of Business', 'Virginia Tech', 'USC', 'GWU|GW', 'University of Virginia  UVa  UVA', 'MIT, M.I.T.', 'Drexel', 'nan', 'USD', 'GCU', 'U of Michigan|U of M|Univ of Michigan|U Michigan Ann Arbor|University of Michigan Ann Arbor', 'RPI, Rensselaer', 'Dartmouth, Big Green', 'Cal Poly', 'Notre Dame | Fighting Irish | ND', 'Pace University', 'NJIT'], 'city': ['Winston-Salem', 'Phoenix', 'Pittsburgh', 'Ithaca', 'Stanford', 'Troy', 'San Luis Obispo', 'Saint Louis', 'Dallas', 'Newark', 'Charlottesville', 'Santa Clara', 'Rochester', 'San Francisco', 'Durham', 'Bethlehem', 'Nashville', 'Cleveland', 'Atlanta', 'Washington', 'New York', 'Evanston', 'Hanover', 'Philadelphia', 'San Diego', 'Villanova', 'Princeton', 'Bronx', 'Notre Dame', 'Boston', 'Fairfield', 'Baltimore', 'Blacksburg', 'Ann Arbor', 'Chicago', 'Providence', 'Berkeley'], 'state': ['California', 'New Jersey', 'Georgia', 'Massachusetts', 'Missouri', 'Pennsylvania', 'Washington, DC', 'Indiana', 'Michigan', 'New York', 'North Carolina', 'Maryland', 'Rhode Island', 'Virginia', 'Arizona', 'Illinois', 'New Hampshire', 'Connecticut', 'Texas', 'Ohio'], 'region': ['Great Lakes', 'Plains', 'Far West', 'Southwest', 'New England', 'Southeast']}\n",
      "error:  {'name': ['University of Rochester', 'Michigan Technological University', 'Duke University', 'Brown University', 'University of Pennsylvania', 'Georgetown University', 'Johns Hopkins University', 'University of Michigan-Ann Arbor', 'Fairfield University', 'Villanova University', 'Stanford University', 'Cornell University', 'Northwestern University', 'University of Southern California', 'Massachusetts Institute of Technology', 'Fordham University', 'Tufts University', 'Washington University in St Louis', 'Vanderbilt University', 'George Washington University', 'Wake Forest University', 'Virginia Polytechnic Institute and State University', 'Santa Clara University', 'Carnegie Mellon University', 'University of San Diego', 'Boston College', 'New York University', 'Harvard University', 'Southern Methodist University', 'California Polytechnic State University-San Luis Obispo', 'Emory University', 'Rensselaer Polytechnic Institute', 'Northeastern University', 'Columbia University in the City of New York', 'Case Western Reserve University', 'Princeton University', 'University of Virginia-Main Campus', 'Georgia Institute of Technology-Main Campus', 'University of San Francisco', 'Dartmouth College', 'University of Chicago', 'University of California-Berkeley', 'Drexel University', 'Grand Canyon University', 'Pace University', 'Lehigh University'], 'alias': ['Johns Hopkins', 'CWRU|Case|Case Western Reserve', 'SCU', 'SMU', 'WashU', 'Carnegie Mellon; CMU', 'UC Berkeley', 'Columbia University', 'Georgetown|GU', 'Penn, U of PA, U-Penn, U of P, Pennsylvania, UPenn, Pennsylvania University, University of Pennsylvania, Wharton, Wharton School of Business', 'Virginia Tech', 'USC', 'GWU|GW', 'University of Virginia  UVa  UVA', 'MIT, M.I.T.', 'Drexel', 'nan', 'USD', 'GCU', 'U of Michigan|U of M|Univ of Michigan|U Michigan Ann Arbor|University of Michigan Ann Arbor', 'RPI, Rensselaer', 'Dartmouth, Big Green', 'Cal Poly', 'Notre Dame | Fighting Irish | ND', 'Pace University', 'NJIT'], 'city': ['Winston-Salem', 'Phoenix', 'Pittsburgh', 'Ithaca', 'Stanford', 'Troy', 'San Luis Obispo', 'Saint Louis', 'Dallas', 'Newark', 'Charlottesville', 'Santa Clara', 'Rochester', 'San Francisco', 'Durham', 'Bethlehem', 'Nashville', 'Cleveland', 'Atlanta', 'Washington', 'New York', 'Evanston', 'Hanover', 'Philadelphia', 'San Diego', 'Villanova', 'Princeton', 'Bronx', 'Notre Dame', 'Boston', 'Fairfield', 'Baltimore', 'Blacksburg', 'Ann Arbor', 'Chicago', 'Providence', 'Berkeley'], 'state': ['California', 'New Jersey', 'Georgia', 'Massachusetts', 'Missouri', 'Pennsylvania', 'Washington, DC', 'Indiana', 'Michigan', 'New York', 'North Carolina', 'Maryland', 'Rhode Island', 'Virginia', 'Arizona', 'Illinois', 'New Hampshire', 'Connecticut', 'Texas', 'Ohio'], 'region': ['Great Lakes', 'Plains', 'Far West', 'Southwest', 'New England', 'Southeast']}\n",
      "error:  {'name': ['University of Rochester', 'Michigan Technological University', 'Duke University', 'Brown University', 'University of Pennsylvania', 'Georgetown University', 'Johns Hopkins University', 'University of Michigan-Ann Arbor', 'Fairfield University', 'Stanford University', 'Cornell University', 'Northwestern University', 'University of Southern California', 'Massachusetts Institute of Technology', 'Fordham University', 'Tufts University', 'Washington University in St Louis', 'Vanderbilt University', 'George Washington University', 'Wake Forest University', 'Virginia Polytechnic Institute and State University', 'Santa Clara University', 'Carnegie Mellon University', 'University of San Diego', 'Boston College', 'New York University', 'Harvard University', 'Southern Methodist University', 'California Polytechnic State University-San Luis Obispo', 'Emory University', 'Rensselaer Polytechnic Institute', 'Northeastern University', 'Columbia University in the City of New York', 'Case Western Reserve University', 'Princeton University', 'University of Virginia-Main Campus', 'Georgia Institute of Technology-Main Campus', 'University of San Francisco', 'Dartmouth College', 'University of Chicago', 'University of California-Berkeley', 'Drexel University', 'Grand Canyon University', 'Pace University', 'Lehigh University'], 'alias': ['Johns Hopkins', 'CWRU|Case|Case Western Reserve', 'SCU', 'SMU', 'WashU', 'Carnegie Mellon; CMU', 'UC Berkeley', 'Columbia University', 'Georgetown|GU', 'Penn, U of PA, U-Penn, U of P, Pennsylvania, UPenn, Pennsylvania University, University of Pennsylvania, Wharton, Wharton School of Business', 'Virginia Tech', 'USC', 'GWU|GW', 'University of Virginia  UVa  UVA', 'MIT, M.I.T.', 'Drexel', 'nan', 'USD', 'GCU', 'U of Michigan|U of M|Univ of Michigan|U Michigan Ann Arbor|University of Michigan Ann Arbor', 'RPI, Rensselaer', 'Dartmouth, Big Green', 'Cal Poly', 'Notre Dame | Fighting Irish | ND', 'Pace University', 'NJIT'], 'city': ['Winston-Salem', 'Phoenix', 'Pittsburgh', 'Ithaca', 'Stanford', 'Troy', 'San Luis Obispo', 'Saint Louis', 'Newark', 'Charlottesville', 'Santa Clara', 'Rochester', 'San Francisco', 'Durham', 'Bethlehem', 'Nashville', 'Cleveland', 'Atlanta', 'Washington', 'New York', 'Evanston', 'Hanover', 'Philadelphia', 'San Diego', 'Villanova', 'Princeton', 'Bronx', 'Notre Dame', 'Boston', 'Fairfield', 'Baltimore', 'Blacksburg', 'Ann Arbor', 'Chicago', 'Providence', 'Berkeley'], 'state': ['California', 'New Jersey', 'Georgia', 'Massachusetts', 'Missouri', 'Pennsylvania', 'Washington, DC', 'Indiana', 'Michigan', 'New York', 'North Carolina', 'Maryland', 'Rhode Island', 'Virginia', 'Arizona', 'Illinois', 'New Hampshire', 'Connecticut', 'Texas', 'Ohio'], 'region': ['Plains', 'Far West', 'Southwest', 'New England', 'Southeast']}\n",
      "error:  {'name': ['University of Rochester', 'Michigan Technological University', 'Duke University', 'Brown University', 'University of Pennsylvania', 'Georgetown University', 'Johns Hopkins University', 'University of Michigan-Ann Arbor', 'Fairfield University', 'Stanford University', 'Cornell University', 'University of Southern California', 'Massachusetts Institute of Technology', 'Fordham University', 'Tufts University', 'Washington University in St Louis', 'Vanderbilt University', 'George Washington University', 'Wake Forest University', 'Virginia Polytechnic Institute and State University', 'Santa Clara University', 'Carnegie Mellon University', 'University of San Diego', 'Boston College', 'New York University', 'Harvard University', 'Southern Methodist University', 'California Polytechnic State University-San Luis Obispo', 'Emory University', 'Rensselaer Polytechnic Institute', 'Northeastern University', 'Columbia University in the City of New York', 'Case Western Reserve University', 'Princeton University', 'University of Virginia-Main Campus', 'Georgia Institute of Technology-Main Campus', 'University of San Francisco', 'Dartmouth College', 'University of Chicago', 'University of California-Berkeley', 'Drexel University', 'Grand Canyon University', 'Pace University', 'Lehigh University'], 'alias': ['Johns Hopkins', 'CWRU|Case|Case Western Reserve', 'SCU', 'SMU', 'WashU', 'Carnegie Mellon; CMU', 'UC Berkeley', 'Columbia University', 'Georgetown|GU', 'Penn, U of PA, U-Penn, U of P, Pennsylvania, UPenn, Pennsylvania University, University of Pennsylvania, Wharton, Wharton School of Business', 'Virginia Tech', 'USC', 'GWU|GW', 'University of Virginia  UVa  UVA', 'MIT, M.I.T.', 'Drexel', 'nan', 'USD', 'GCU', 'U of Michigan|U of M|Univ of Michigan|U Michigan Ann Arbor|University of Michigan Ann Arbor', 'RPI, Rensselaer', 'Dartmouth, Big Green', 'Cal Poly', 'Notre Dame | Fighting Irish | ND', 'Pace University', 'NJIT'], 'city': ['Winston-Salem', 'Phoenix', 'Pittsburgh', 'Ithaca', 'Stanford', 'Troy', 'San Luis Obispo', 'Saint Louis', 'Newark', 'Charlottesville', 'Santa Clara', 'Rochester', 'San Francisco', 'Durham', 'Bethlehem', 'Nashville', 'Cleveland', 'Atlanta', 'Washington', 'New York', 'Evanston', 'Hanover', 'Philadelphia', 'San Diego', 'Villanova', 'Princeton', 'Bronx', 'Notre Dame', 'Boston', 'Fairfield', 'Baltimore', 'Blacksburg', 'Ann Arbor', 'Chicago', 'Providence', 'Berkeley'], 'state': ['California', 'New Jersey', 'Georgia', 'Massachusetts', 'Missouri', 'Pennsylvania', 'Washington, DC', 'Indiana', 'New York', 'North Carolina', 'Maryland', 'Rhode Island', 'Virginia', 'Arizona', 'Illinois', 'New Hampshire', 'Connecticut', 'Texas', 'Ohio'], 'region': ['Plains', 'Far West', 'Southwest', 'New England', 'Southeast']}\n",
      "error:  {'name': ['University of Rochester', 'Michigan Technological University', 'Duke University', 'Brown University', 'University of Pennsylvania', 'Georgetown University', 'Johns Hopkins University', 'Fairfield University', 'Cornell University', 'University of Southern California', 'Massachusetts Institute of Technology', 'Fordham University', 'Tufts University', 'Washington University in St Louis', 'Vanderbilt University', 'George Washington University', 'Wake Forest University', 'Virginia Polytechnic Institute and State University', 'Santa Clara University', 'Carnegie Mellon University', 'University of San Diego', 'Boston College', 'New York University', 'Harvard University', 'Southern Methodist University', 'California Polytechnic State University-San Luis Obispo', 'Emory University', 'Rensselaer Polytechnic Institute', 'Northeastern University', 'Columbia University in the City of New York', 'Case Western Reserve University', 'Princeton University', 'University of Virginia-Main Campus', 'Georgia Institute of Technology-Main Campus', 'University of San Francisco', 'Dartmouth College', 'University of Chicago', 'University of California-Berkeley', 'Drexel University', 'Grand Canyon University', 'Pace University'], 'alias': ['Johns Hopkins', 'CWRU|Case|Case Western Reserve', 'SCU', 'SMU', 'WashU', 'Carnegie Mellon; CMU', 'UC Berkeley', 'Columbia University', 'Georgetown|GU', 'Penn, U of PA, U-Penn, U of P, Pennsylvania, UPenn, Pennsylvania University, University of Pennsylvania, Wharton, Wharton School of Business', 'Virginia Tech', 'USC', 'GWU|GW', 'MIT, M.I.T.', 'Drexel', 'nan', 'USD', 'GCU', 'U of Michigan|U of M|Univ of Michigan|U Michigan Ann Arbor|University of Michigan Ann Arbor', 'RPI, Rensselaer', 'Dartmouth, Big Green', 'Cal Poly', 'Notre Dame | Fighting Irish | ND', 'Pace University', 'NJIT'], 'city': ['Winston-Salem', 'Phoenix', 'Pittsburgh', 'Ithaca', 'Stanford', 'Troy', 'San Luis Obispo', 'Saint Louis', 'Newark', 'Charlottesville', 'Santa Clara', 'Rochester', 'San Francisco', 'Durham', 'Bethlehem', 'Nashville', 'Cleveland', 'Atlanta', 'Washington', 'New York', 'Evanston', 'Hanover', 'Philadelphia', 'San Diego', 'Villanova', 'Princeton', 'Bronx', 'Notre Dame', 'Boston', 'Fairfield', 'Blacksburg', 'Ann Arbor', 'Chicago', 'Providence', 'Berkeley'], 'state': ['California', 'New Jersey', 'Georgia', 'Massachusetts', 'Missouri', 'Pennsylvania', 'Washington, DC', 'Indiana', 'New York', 'North Carolina', 'Maryland', 'Rhode Island', 'Virginia', 'Arizona', 'Illinois', 'New Hampshire', 'Connecticut', 'Texas', 'Ohio'], 'region': ['Far West', 'Southwest', 'New England', 'Southeast']}\n",
      "error:  {'name': ['University of Rochester', 'Michigan Technological University', 'Duke University', 'Brown University', 'University of Pennsylvania', 'Georgetown University', 'Johns Hopkins University', 'Fairfield University', 'Cornell University', 'University of Southern California', 'Massachusetts Institute of Technology', 'Fordham University', 'Tufts University', 'Washington University in St Louis', 'Vanderbilt University', 'Wake Forest University', 'Virginia Polytechnic Institute and State University', 'Santa Clara University', 'Carnegie Mellon University', 'University of San Diego', 'Boston College', 'New York University', 'Harvard University', 'Southern Methodist University', 'California Polytechnic State University-San Luis Obispo', 'Emory University', 'Rensselaer Polytechnic Institute', 'Northeastern University', 'Columbia University in the City of New York', 'Case Western Reserve University', 'Princeton University', 'University of Virginia-Main Campus', 'Georgia Institute of Technology-Main Campus', 'University of San Francisco', 'Dartmouth College', 'University of Chicago', 'University of California-Berkeley', 'Drexel University', 'Grand Canyon University', 'Pace University'], 'alias': ['Johns Hopkins', 'CWRU|Case|Case Western Reserve', 'SCU', 'WashU', 'Carnegie Mellon; CMU', 'UC Berkeley', 'Columbia University', 'Georgetown|GU', 'Penn, U of PA, U-Penn, U of P, Pennsylvania, UPenn, Pennsylvania University, University of Pennsylvania, Wharton, Wharton School of Business', 'Virginia Tech', 'USC', 'GWU|GW', 'MIT, M.I.T.', 'Drexel', 'nan', 'USD', 'GCU', 'U of Michigan|U of M|Univ of Michigan|U Michigan Ann Arbor|University of Michigan Ann Arbor', 'RPI, Rensselaer', 'Dartmouth, Big Green', 'Cal Poly', 'Notre Dame | Fighting Irish | ND', 'Pace University', 'NJIT'], 'city': ['Phoenix', 'Pittsburgh', 'Ithaca', 'Stanford', 'Troy', 'San Luis Obispo', 'Saint Louis', 'Newark', 'Charlottesville', 'Santa Clara', 'Rochester', 'San Francisco', 'Durham', 'Bethlehem', 'Nashville', 'Cleveland', 'Atlanta', 'Washington', 'New York', 'Evanston', 'Hanover', 'Philadelphia', 'San Diego', 'Villanova', 'Princeton', 'Bronx', 'Notre Dame', 'Boston', 'Fairfield', 'Blacksburg', 'Ann Arbor', 'Chicago', 'Providence', 'Berkeley'], 'state': ['California', 'New Jersey', 'Georgia', 'Massachusetts', 'Missouri', 'Pennsylvania', 'Washington, DC', 'Indiana', 'New York', 'North Carolina', 'Maryland', 'Rhode Island', 'Virginia', 'Arizona', 'Illinois', 'New Hampshire', 'Connecticut', 'Texas', 'Ohio'], 'region': ['Far West', 'New England', 'Southeast']}\n",
      "error:  {'name': ['University of Rochester', 'Michigan Technological University', 'Duke University', 'Brown University', 'University of Pennsylvania', 'Georgetown University', 'Johns Hopkins University', 'Fairfield University', 'Cornell University', 'University of Southern California', 'Massachusetts Institute of Technology', 'Fordham University', 'Tufts University', 'Washington University in St Louis', 'Vanderbilt University', 'Wake Forest University', 'Virginia Polytechnic Institute and State University', 'Santa Clara University', 'Carnegie Mellon University', 'University of San Diego', 'Boston College', 'New York University', 'Harvard University', 'Southern Methodist University', 'California Polytechnic State University-San Luis Obispo', 'Emory University', 'Rensselaer Polytechnic Institute', 'Northeastern University', 'Columbia University in the City of New York', 'Case Western Reserve University', 'Princeton University', 'University of Virginia-Main Campus', 'Georgia Institute of Technology-Main Campus', 'University of San Francisco', 'Dartmouth College', 'University of Chicago', 'University of California-Berkeley', 'Drexel University', 'Grand Canyon University', 'Pace University'], 'alias': ['Johns Hopkins', 'CWRU|Case|Case Western Reserve', 'SCU', 'WashU', 'Carnegie Mellon; CMU', 'UC Berkeley', 'Columbia University', 'Georgetown|GU', 'Penn, U of PA, U-Penn, U of P, Pennsylvania, UPenn, Pennsylvania University, University of Pennsylvania, Wharton, Wharton School of Business', 'Virginia Tech', 'USC', 'GWU|GW', 'MIT, M.I.T.', 'Drexel', 'nan', 'USD', 'GCU', 'U of Michigan|U of M|Univ of Michigan|U Michigan Ann Arbor|University of Michigan Ann Arbor', 'RPI, Rensselaer', 'Dartmouth, Big Green', 'Cal Poly', 'Notre Dame | Fighting Irish | ND', 'Pace University', 'NJIT'], 'city': ['Phoenix', 'Pittsburgh', 'Ithaca', 'Stanford', 'Troy', 'San Luis Obispo', 'Saint Louis', 'Newark', 'Charlottesville', 'Santa Clara', 'Rochester', 'San Francisco', 'Durham', 'Bethlehem', 'Nashville', 'Cleveland', 'Atlanta', 'Washington', 'New York', 'Evanston', 'Hanover', 'Philadelphia', 'Villanova', 'Princeton', 'Bronx', 'Notre Dame', 'Boston', 'Fairfield', 'Blacksburg', 'Ann Arbor', 'Providence', 'Berkeley'], 'state': ['California', 'New Jersey', 'Georgia', 'Massachusetts', 'Missouri', 'Pennsylvania', 'Washington, DC', 'Indiana', 'North Carolina', 'Rhode Island', 'Virginia', 'Arizona', 'Illinois', 'New Hampshire', 'Connecticut', 'Texas', 'Ohio'], 'region': ['Far West', 'Southeast']}\n",
      "error:  {'name': ['University of Rochester', 'Michigan Technological University', 'Duke University', 'Brown University', 'University of Pennsylvania', 'Georgetown University', 'Johns Hopkins University', 'Fairfield University', 'Cornell University', 'University of Southern California', 'Massachusetts Institute of Technology', 'Fordham University', 'Tufts University', 'Washington University in St Louis', 'Vanderbilt University', 'Wake Forest University', 'Virginia Polytechnic Institute and State University', 'Santa Clara University', 'Carnegie Mellon University', 'University of San Diego', 'Boston College', 'New York University', 'Harvard University', 'Southern Methodist University', 'California Polytechnic State University-San Luis Obispo', 'Emory University', 'Rensselaer Polytechnic Institute', 'Northeastern University', 'Columbia University in the City of New York', 'Case Western Reserve University', 'Princeton University', 'University of Virginia-Main Campus', 'Georgia Institute of Technology-Main Campus', 'University of San Francisco', 'Dartmouth College', 'University of Chicago', 'University of California-Berkeley', 'Drexel University', 'Grand Canyon University', 'Pace University'], 'alias': ['Johns Hopkins', 'CWRU|Case|Case Western Reserve', 'SCU', 'WashU', 'Carnegie Mellon; CMU', 'UC Berkeley', 'Columbia University', 'Georgetown|GU', 'Penn, U of PA, U-Penn, U of P, Pennsylvania, UPenn, Pennsylvania University, University of Pennsylvania, Wharton, Wharton School of Business', 'Virginia Tech', 'USC', 'GWU|GW', 'MIT, M.I.T.', 'Drexel', 'nan', 'USD', 'GCU', 'U of Michigan|U of M|Univ of Michigan|U Michigan Ann Arbor|University of Michigan Ann Arbor', 'RPI, Rensselaer', 'Dartmouth, Big Green', 'Cal Poly', 'Notre Dame | Fighting Irish | ND', 'Pace University', 'NJIT'], 'city': ['Phoenix', 'Pittsburgh', 'Ithaca', 'Stanford', 'Troy', 'San Luis Obispo', 'Saint Louis', 'Newark', 'Charlottesville', 'Santa Clara', 'Rochester', 'San Francisco', 'Durham', 'Bethlehem', 'Nashville', 'Cleveland', 'Atlanta', 'Washington', 'New York', 'Evanston', 'Hanover', 'Philadelphia', 'Villanova', 'Princeton', 'Bronx', 'Notre Dame', 'Boston', 'Fairfield', 'Blacksburg', 'Ann Arbor', 'Providence', 'Berkeley'], 'state': ['California', 'New Jersey', 'Georgia', 'Massachusetts', 'Missouri', 'Pennsylvania', 'Indiana', 'North Carolina', 'Rhode Island', 'Virginia', 'Arizona', 'Illinois', 'New Hampshire', 'Connecticut', 'Texas', 'Ohio'], 'region': ['Far West', 'Southeast']}\n",
      "error:  {'name': ['University of Rochester', 'Michigan Technological University', 'Duke University', 'Brown University', 'University of Pennsylvania', 'Georgetown University', 'Johns Hopkins University', 'Fairfield University', 'Cornell University', 'University of Southern California', 'Massachusetts Institute of Technology', 'Fordham University', 'Tufts University', 'Washington University in St Louis', 'Vanderbilt University', 'Wake Forest University', 'Virginia Polytechnic Institute and State University', 'Santa Clara University', 'Carnegie Mellon University', 'University of San Diego', 'Boston College', 'New York University', 'Harvard University', 'Southern Methodist University', 'California Polytechnic State University-San Luis Obispo', 'Emory University', 'Northeastern University', 'Columbia University in the City of New York', 'Case Western Reserve University', 'Princeton University', 'University of Virginia-Main Campus', 'Georgia Institute of Technology-Main Campus', 'University of San Francisco', 'Dartmouth College', 'University of California-Berkeley', 'Drexel University', 'Grand Canyon University', 'Pace University'], 'alias': ['Johns Hopkins', 'CWRU|Case|Case Western Reserve', 'SCU', 'WashU', 'Carnegie Mellon; CMU', 'UC Berkeley', 'Columbia University', 'Georgetown|GU', 'Penn, U of PA, U-Penn, U of P, Pennsylvania, UPenn, Pennsylvania University, University of Pennsylvania, Wharton, Wharton School of Business', 'Virginia Tech', 'USC', 'GWU|GW', 'MIT, M.I.T.', 'Drexel', 'nan', 'USD', 'GCU', 'U of Michigan|U of M|Univ of Michigan|U Michigan Ann Arbor|University of Michigan Ann Arbor', 'RPI, Rensselaer', 'Dartmouth, Big Green', 'Cal Poly', 'Notre Dame | Fighting Irish | ND', 'Pace University'], 'city': ['Phoenix', 'Pittsburgh', 'Ithaca', 'Stanford', 'Troy', 'San Luis Obispo', 'Saint Louis', 'Newark', 'Charlottesville', 'Santa Clara', 'Rochester', 'San Francisco', 'Durham', 'Bethlehem', 'Nashville', 'Cleveland', 'Atlanta', 'Washington', 'New York', 'Evanston', 'Hanover', 'Philadelphia', 'Villanova', 'Princeton', 'Bronx', 'Notre Dame', 'Boston', 'Fairfield', 'Blacksburg', 'Ann Arbor', 'Providence', 'Berkeley'], 'state': ['California', 'New Jersey', 'Georgia', 'Massachusetts', 'Missouri', 'Pennsylvania', 'Indiana', 'North Carolina', 'Rhode Island', 'Virginia', 'Arizona', 'Illinois', 'New Hampshire', 'Ohio'], 'region': ['Far West']}\n",
      "error:  {'name': ['University of Rochester', 'Michigan Technological University', 'Duke University', 'Brown University', 'University of Pennsylvania', 'Georgetown University', 'Johns Hopkins University', 'Fairfield University', 'Cornell University', 'University of Southern California', 'Massachusetts Institute of Technology', 'Fordham University', 'Tufts University', 'Washington University in St Louis', 'Vanderbilt University', 'Wake Forest University', 'Virginia Polytechnic Institute and State University', 'Santa Clara University', 'Carnegie Mellon University', 'University of San Diego', 'Boston College', 'New York University', 'Harvard University', 'Southern Methodist University', 'California Polytechnic State University-San Luis Obispo', 'Emory University', 'Northeastern University', 'Columbia University in the City of New York', 'Case Western Reserve University', 'Princeton University', 'University of Virginia-Main Campus', 'Georgia Institute of Technology-Main Campus', 'University of San Francisco', 'Dartmouth College', 'University of California-Berkeley', 'Drexel University', 'Grand Canyon University', 'Pace University'], 'alias': ['Johns Hopkins', 'CWRU|Case|Case Western Reserve', 'SCU', 'WashU', 'Carnegie Mellon; CMU', 'UC Berkeley', 'Columbia University', 'Georgetown|GU', 'Penn, U of PA, U-Penn, U of P, Pennsylvania, UPenn, Pennsylvania University, University of Pennsylvania, Wharton, Wharton School of Business', 'Virginia Tech', 'USC', 'GWU|GW', 'MIT, M.I.T.', 'Drexel', 'nan', 'USD', 'GCU', 'U of Michigan|U of M|Univ of Michigan|U Michigan Ann Arbor|University of Michigan Ann Arbor', 'RPI, Rensselaer', 'Dartmouth, Big Green', 'Cal Poly', 'Notre Dame | Fighting Irish | ND', 'Pace University'], 'city': ['Phoenix', 'Pittsburgh', 'Ithaca', 'Stanford', 'Troy', 'San Luis Obispo', 'Saint Louis', 'Newark', 'Charlottesville', 'Santa Clara', 'Rochester', 'San Francisco', 'Durham', 'Bethlehem', 'Nashville', 'Cleveland', 'Atlanta', 'Washington', 'New York', 'Evanston', 'Hanover', 'Philadelphia', 'Villanova', 'Princeton', 'Bronx', 'Notre Dame', 'Boston', 'Fairfield', 'Blacksburg', 'Ann Arbor', 'Providence', 'Berkeley'], 'state': ['California', 'New Jersey', 'Georgia', 'Massachusetts', 'Missouri', 'Pennsylvania', 'Indiana', 'North Carolina', 'Rhode Island', 'Virginia', 'Arizona', 'Illinois', 'New Hampshire', 'Ohio'], 'region': ['Far West']}\n",
      "error:  {'name': ['University of Rochester', 'Michigan Technological University', 'Duke University', 'Brown University', 'University of Pennsylvania', 'Georgetown University', 'Johns Hopkins University', 'Fairfield University', 'Cornell University', 'University of Southern California', 'Massachusetts Institute of Technology', 'Fordham University', 'Tufts University', 'Washington University in St Louis', 'Vanderbilt University', 'Wake Forest University', 'Virginia Polytechnic Institute and State University', 'Santa Clara University', 'Carnegie Mellon University', 'University of San Diego', 'Boston College', 'New York University', 'Harvard University', 'Southern Methodist University', 'California Polytechnic State University-San Luis Obispo', 'Emory University', 'Northeastern University', 'Columbia University in the City of New York', 'Case Western Reserve University', 'Princeton University', 'University of Virginia-Main Campus', 'Georgia Institute of Technology-Main Campus', 'University of San Francisco', 'Dartmouth College', 'University of California-Berkeley', 'Grand Canyon University', 'Pace University'], 'alias': ['Johns Hopkins', 'CWRU|Case|Case Western Reserve', 'SCU', 'WashU', 'Carnegie Mellon; CMU', 'UC Berkeley', 'Columbia University', 'Georgetown|GU', 'Penn, U of PA, U-Penn, U of P, Pennsylvania, UPenn, Pennsylvania University, University of Pennsylvania, Wharton, Wharton School of Business', 'Virginia Tech', 'USC', 'GWU|GW', 'MIT, M.I.T.', 'Drexel', 'nan', 'USD', 'GCU', 'U of Michigan|U of M|Univ of Michigan|U Michigan Ann Arbor|University of Michigan Ann Arbor', 'RPI, Rensselaer', 'Dartmouth, Big Green', 'Notre Dame | Fighting Irish | ND', 'Pace University'], 'city': ['Phoenix', 'Pittsburgh', 'Ithaca', 'Stanford', 'Troy', 'San Luis Obispo', 'Saint Louis', 'Newark', 'Charlottesville', 'Santa Clara', 'Rochester', 'San Francisco', 'Durham', 'Bethlehem', 'Nashville', 'Cleveland', 'Atlanta', 'Washington', 'New York', 'Evanston', 'Hanover', 'Philadelphia', 'Villanova', 'Princeton', 'Bronx', 'Notre Dame', 'Boston', 'Fairfield', 'Blacksburg', 'Ann Arbor', 'Providence', 'Berkeley'], 'state': ['California', 'New Jersey', 'Georgia', 'Missouri', 'Pennsylvania', 'Indiana', 'North Carolina', 'Rhode Island', 'Virginia', 'Arizona', 'Illinois', 'New Hampshire', 'Ohio'], 'region': ['Far West']}\n",
      "error:  {'name': ['University of Rochester', 'Michigan Technological University', 'Duke University', 'Brown University', 'University of Pennsylvania', 'Georgetown University', 'Johns Hopkins University', 'Fairfield University', 'Cornell University', 'University of Southern California', 'Massachusetts Institute of Technology', 'Fordham University', 'Tufts University', 'Washington University in St Louis', 'Vanderbilt University', 'Wake Forest University', 'Virginia Polytechnic Institute and State University', 'Santa Clara University', 'Carnegie Mellon University', 'University of San Diego', 'Boston College', 'New York University', 'Harvard University', 'Southern Methodist University', 'California Polytechnic State University-San Luis Obispo', 'Emory University', 'Northeastern University', 'Columbia University in the City of New York', 'Case Western Reserve University', 'Princeton University', 'University of Virginia-Main Campus', 'Georgia Institute of Technology-Main Campus', 'University of San Francisco', 'Dartmouth College', 'University of California-Berkeley', 'Grand Canyon University', 'Pace University'], 'alias': ['Johns Hopkins', 'CWRU|Case|Case Western Reserve', 'SCU', 'WashU', 'Carnegie Mellon; CMU', 'UC Berkeley', 'Columbia University', 'Georgetown|GU', 'Penn, U of PA, U-Penn, U of P, Pennsylvania, UPenn, Pennsylvania University, University of Pennsylvania, Wharton, Wharton School of Business', 'Virginia Tech', 'USC', 'GWU|GW', 'MIT, M.I.T.', 'Drexel', 'nan', 'USD', 'GCU', 'U of Michigan|U of M|Univ of Michigan|U Michigan Ann Arbor|University of Michigan Ann Arbor', 'RPI, Rensselaer', 'Dartmouth, Big Green', 'Notre Dame | Fighting Irish | ND', 'Pace University'], 'city': ['Phoenix', 'Pittsburgh', 'Ithaca', 'Stanford', 'Troy', 'San Luis Obispo', 'Saint Louis', 'Newark', 'Charlottesville', 'Santa Clara', 'Rochester', 'San Francisco', 'Durham', 'Bethlehem', 'Nashville', 'Cleveland', 'Atlanta', 'Washington', 'New York', 'Evanston', 'Hanover', 'Philadelphia', 'Villanova', 'Princeton', 'Bronx', 'Notre Dame', 'Boston', 'Fairfield', 'Blacksburg', 'Ann Arbor', 'Providence', 'Berkeley'], 'state': ['Georgia', 'Missouri', 'Pennsylvania', 'Indiana', 'North Carolina', 'Rhode Island', 'Virginia', 'Arizona', 'Illinois', 'New Hampshire', 'Ohio']}\n",
      "error:  {'name': ['University of Rochester', 'Michigan Technological University', 'Duke University', 'Brown University', 'University of Pennsylvania', 'Georgetown University', 'Johns Hopkins University', 'Fairfield University', 'Cornell University', 'University of Southern California', 'Massachusetts Institute of Technology', 'Fordham University', 'Tufts University', 'Washington University in St Louis', 'Vanderbilt University', 'Wake Forest University', 'Virginia Polytechnic Institute and State University', 'Santa Clara University', 'Carnegie Mellon University', 'University of San Diego', 'Boston College', 'New York University', 'Harvard University', 'Southern Methodist University', 'California Polytechnic State University-San Luis Obispo', 'Emory University', 'Northeastern University', 'Columbia University in the City of New York', 'Case Western Reserve University', 'Princeton University', 'University of Virginia-Main Campus', 'Georgia Institute of Technology-Main Campus', 'University of San Francisco', 'Dartmouth College', 'University of California-Berkeley', 'Grand Canyon University', 'Pace University'], 'alias': ['Johns Hopkins', 'CWRU|Case|Case Western Reserve', 'SCU', 'WashU', 'Carnegie Mellon; CMU', 'UC Berkeley', 'Columbia University', 'Georgetown|GU', 'Penn, U of PA, U-Penn, U of P, Pennsylvania, UPenn, Pennsylvania University, University of Pennsylvania, Wharton, Wharton School of Business', 'Virginia Tech', 'USC', 'GWU|GW', 'MIT, M.I.T.', 'Drexel', 'nan', 'USD', 'GCU', 'U of Michigan|U of M|Univ of Michigan|U Michigan Ann Arbor|University of Michigan Ann Arbor', 'RPI, Rensselaer', 'Dartmouth, Big Green', 'Notre Dame | Fighting Irish | ND', 'Pace University'], 'city': ['Phoenix', 'Pittsburgh', 'Ithaca', 'Stanford', 'Troy', 'San Luis Obispo', 'Saint Louis', 'Newark', 'Charlottesville', 'Santa Clara', 'Rochester', 'San Francisco', 'Durham', 'Bethlehem', 'Nashville', 'Cleveland', 'Atlanta', 'Washington', 'New York', 'Evanston', 'Hanover', 'Philadelphia', 'Villanova', 'Princeton', 'Bronx', 'Notre Dame', 'Boston', 'Fairfield', 'Blacksburg', 'Ann Arbor', 'Providence', 'Berkeley'], 'state': ['Georgia', 'Missouri', 'Pennsylvania', 'Indiana', 'North Carolina', 'Rhode Island', 'Virginia', 'Arizona', 'Illinois', 'New Hampshire', 'Ohio']}\n",
      "error:  {'name': ['University of Rochester', 'Michigan Technological University', 'Duke University', 'Brown University', 'University of Pennsylvania', 'Georgetown University', 'Johns Hopkins University', 'Fairfield University', 'Cornell University', 'University of Southern California', 'Massachusetts Institute of Technology', 'Fordham University', 'Tufts University', 'Washington University in St Louis', 'Vanderbilt University', 'Wake Forest University', 'Virginia Polytechnic Institute and State University', 'Santa Clara University', 'Carnegie Mellon University', 'University of San Diego', 'Boston College', 'New York University', 'Harvard University', 'Southern Methodist University', 'California Polytechnic State University-San Luis Obispo', 'Emory University', 'Northeastern University', 'Columbia University in the City of New York', 'Case Western Reserve University', 'Princeton University', 'University of Virginia-Main Campus', 'Georgia Institute of Technology-Main Campus', 'University of San Francisco', 'Dartmouth College', 'University of California-Berkeley', 'Grand Canyon University', 'Pace University'], 'alias': ['Johns Hopkins', 'CWRU|Case|Case Western Reserve', 'SCU', 'WashU', 'Carnegie Mellon; CMU', 'UC Berkeley', 'Columbia University', 'Georgetown|GU', 'Penn, U of PA, U-Penn, U of P, Pennsylvania, UPenn, Pennsylvania University, University of Pennsylvania, Wharton, Wharton School of Business', 'Virginia Tech', 'USC', 'GWU|GW', 'MIT, M.I.T.', 'Drexel', 'nan', 'USD', 'GCU', 'U of Michigan|U of M|Univ of Michigan|U Michigan Ann Arbor|University of Michigan Ann Arbor', 'RPI, Rensselaer', 'Dartmouth, Big Green', 'Notre Dame | Fighting Irish | ND', 'Pace University'], 'city': ['Phoenix', 'Pittsburgh', 'Ithaca', 'Stanford', 'Troy', 'San Luis Obispo', 'Saint Louis', 'Newark', 'Charlottesville', 'Santa Clara', 'Rochester', 'San Francisco', 'Durham', 'Bethlehem', 'Nashville', 'Cleveland', 'Atlanta', 'Washington', 'New York', 'Evanston', 'Hanover', 'Philadelphia', 'Villanova', 'Princeton', 'Bronx', 'Notre Dame', 'Boston', 'Fairfield', 'Blacksburg', 'Ann Arbor', 'Providence', 'Berkeley'], 'state': ['Georgia', 'Missouri', 'Pennsylvania', 'Indiana', 'North Carolina', 'Rhode Island', 'Virginia', 'Arizona', 'Illinois', 'New Hampshire', 'Ohio']}\n",
      "error:  {'name': ['University of Rochester', 'Michigan Technological University', 'Duke University', 'Brown University', 'University of Pennsylvania', 'Georgetown University', 'Johns Hopkins University', 'Fairfield University', 'Cornell University', 'University of Southern California', 'Massachusetts Institute of Technology', 'Fordham University', 'Tufts University', 'Washington University in St Louis', 'Vanderbilt University', 'Wake Forest University', 'Santa Clara University', 'Carnegie Mellon University', 'University of San Diego', 'Boston College', 'New York University', 'Harvard University', 'Southern Methodist University', 'California Polytechnic State University-San Luis Obispo', 'Emory University', 'Northeastern University', 'Columbia University in the City of New York', 'Case Western Reserve University', 'Princeton University', 'Georgia Institute of Technology-Main Campus', 'University of San Francisco', 'Dartmouth College', 'University of California-Berkeley', 'Grand Canyon University', 'Pace University'], 'alias': ['Johns Hopkins', 'CWRU|Case|Case Western Reserve', 'SCU', 'WashU', 'Carnegie Mellon; CMU', 'UC Berkeley', 'Columbia University', 'Georgetown|GU', 'Penn, U of PA, U-Penn, U of P, Pennsylvania, UPenn, Pennsylvania University, University of Pennsylvania, Wharton, Wharton School of Business', 'Virginia Tech', 'USC', 'GWU|GW', 'MIT, M.I.T.', 'Drexel', 'nan', 'USD', 'GCU', 'U of Michigan|U of M|Univ of Michigan|U Michigan Ann Arbor|University of Michigan Ann Arbor', 'RPI, Rensselaer', 'Dartmouth, Big Green', 'Notre Dame | Fighting Irish | ND', 'Pace University'], 'city': ['Phoenix', 'Pittsburgh', 'Ithaca', 'Stanford', 'Troy', 'San Luis Obispo', 'Saint Louis', 'Newark', 'Charlottesville', 'Santa Clara', 'Rochester', 'San Francisco', 'Durham', 'Bethlehem', 'Nashville', 'Cleveland', 'Atlanta', 'Washington', 'New York', 'Evanston', 'Hanover', 'Philadelphia', 'Villanova', 'Princeton', 'Bronx', 'Notre Dame', 'Boston', 'Fairfield', 'Blacksburg', 'Ann Arbor', 'Providence', 'Berkeley'], 'state': ['Georgia', 'Missouri', 'Pennsylvania', 'Indiana', 'North Carolina', 'Rhode Island', 'Virginia', 'Illinois', 'New Hampshire', 'Ohio']}\n",
      "error:  {'name': ['University of Rochester', 'Michigan Technological University', 'Duke University', 'Brown University', 'University of Pennsylvania', 'Georgetown University', 'Johns Hopkins University', 'Fairfield University', 'Cornell University', 'University of Southern California', 'Massachusetts Institute of Technology', 'Fordham University', 'Tufts University', 'Washington University in St Louis', 'Vanderbilt University', 'Wake Forest University', 'Santa Clara University', 'Carnegie Mellon University', 'University of San Diego', 'Boston College', 'New York University', 'Harvard University', 'Southern Methodist University', 'California Polytechnic State University-San Luis Obispo', 'Emory University', 'Northeastern University', 'Columbia University in the City of New York', 'Case Western Reserve University', 'Princeton University', 'Georgia Institute of Technology-Main Campus', 'University of San Francisco', 'Dartmouth College', 'University of California-Berkeley', 'Grand Canyon University', 'Pace University'], 'alias': ['Johns Hopkins', 'CWRU|Case|Case Western Reserve', 'SCU', 'WashU', 'Carnegie Mellon; CMU', 'UC Berkeley', 'Columbia University', 'Georgetown|GU', 'Penn, U of PA, U-Penn, U of P, Pennsylvania, UPenn, Pennsylvania University, University of Pennsylvania, Wharton, Wharton School of Business', 'Virginia Tech', 'USC', 'GWU|GW', 'MIT, M.I.T.', 'Drexel', 'nan', 'USD', 'GCU', 'U of Michigan|U of M|Univ of Michigan|U Michigan Ann Arbor|University of Michigan Ann Arbor', 'RPI, Rensselaer', 'Dartmouth, Big Green', 'Notre Dame | Fighting Irish | ND', 'Pace University'], 'city': ['Phoenix', 'Pittsburgh', 'Ithaca', 'Stanford', 'Troy', 'San Luis Obispo', 'Saint Louis', 'Newark', 'Charlottesville', 'Santa Clara', 'Rochester', 'San Francisco', 'Durham', 'Bethlehem', 'Nashville', 'Cleveland', 'Atlanta', 'Washington', 'New York', 'Evanston', 'Hanover', 'Philadelphia', 'Villanova', 'Princeton', 'Bronx', 'Notre Dame', 'Boston', 'Fairfield', 'Blacksburg', 'Ann Arbor', 'Providence', 'Berkeley'], 'state': ['Georgia', 'Missouri', 'Pennsylvania', 'Indiana', 'Illinois', 'New Hampshire']}\n",
      "error:  {'name': ['University of Rochester', 'Michigan Technological University', 'Duke University', 'Brown University', 'University of Pennsylvania', 'Georgetown University', 'Johns Hopkins University', 'Fairfield University', 'Cornell University', 'University of Southern California', 'Massachusetts Institute of Technology', 'Fordham University', 'Tufts University', 'Washington University in St Louis', 'Vanderbilt University', 'Wake Forest University', 'Santa Clara University', 'Carnegie Mellon University', 'University of San Diego', 'Boston College', 'New York University', 'Harvard University', 'Southern Methodist University', 'California Polytechnic State University-San Luis Obispo', 'Emory University', 'Northeastern University', 'Columbia University in the City of New York', 'Case Western Reserve University', 'Princeton University', 'Georgia Institute of Technology-Main Campus', 'University of San Francisco', 'Dartmouth College', 'University of California-Berkeley', 'Grand Canyon University', 'Pace University'], 'alias': ['Johns Hopkins', 'CWRU|Case|Case Western Reserve', 'SCU', 'WashU', 'Carnegie Mellon; CMU', 'UC Berkeley', 'Columbia University', 'Georgetown|GU', 'Penn, U of PA, U-Penn, U of P, Pennsylvania, UPenn, Pennsylvania University, University of Pennsylvania, Wharton, Wharton School of Business', 'Virginia Tech', 'USC', 'GWU|GW', 'MIT, M.I.T.', 'Drexel', 'nan', 'USD', 'GCU', 'U of Michigan|U of M|Univ of Michigan|U Michigan Ann Arbor|University of Michigan Ann Arbor', 'RPI, Rensselaer', 'Dartmouth, Big Green', 'Notre Dame | Fighting Irish | ND', 'Pace University'], 'city': ['Phoenix', 'Pittsburgh', 'Ithaca', 'Stanford', 'Troy', 'San Luis Obispo', 'Saint Louis', 'Newark', 'Charlottesville', 'Santa Clara', 'Rochester', 'San Francisco', 'Durham', 'Bethlehem', 'Nashville', 'Cleveland', 'Atlanta', 'Washington', 'New York', 'Evanston', 'Hanover', 'Philadelphia', 'Villanova', 'Princeton', 'Bronx', 'Notre Dame', 'Boston', 'Fairfield', 'Blacksburg', 'Providence', 'Berkeley'], 'state': ['Georgia', 'Missouri', 'Pennsylvania', 'Indiana', 'Illinois', 'New Hampshire']}\n",
      "error:  {'name': ['University of Rochester', 'Michigan Technological University', 'Duke University', 'Brown University', 'University of Pennsylvania', 'Georgetown University', 'Johns Hopkins University', 'Fairfield University', 'Cornell University', 'University of Southern California', 'Massachusetts Institute of Technology', 'Fordham University', 'Tufts University', 'Washington University in St Louis', 'Vanderbilt University', 'Wake Forest University', 'Santa Clara University', 'Carnegie Mellon University', 'University of San Diego', 'Boston College', 'New York University', 'Harvard University', 'Southern Methodist University', 'California Polytechnic State University-San Luis Obispo', 'Emory University', 'Northeastern University', 'Columbia University in the City of New York', 'Case Western Reserve University', 'Princeton University', 'Georgia Institute of Technology-Main Campus', 'University of San Francisco', 'Dartmouth College', 'University of California-Berkeley', 'Grand Canyon University', 'Pace University'], 'alias': ['Johns Hopkins', 'CWRU|Case|Case Western Reserve', 'SCU', 'WashU', 'Carnegie Mellon; CMU', 'UC Berkeley', 'Columbia University', 'Georgetown|GU', 'Penn, U of PA, U-Penn, U of P, Pennsylvania, UPenn, Pennsylvania University, University of Pennsylvania, Wharton, Wharton School of Business', 'Virginia Tech', 'USC', 'GWU|GW', 'MIT, M.I.T.', 'Drexel', 'nan', 'USD', 'GCU', 'U of Michigan|U of M|Univ of Michigan|U Michigan Ann Arbor|University of Michigan Ann Arbor', 'RPI, Rensselaer', 'Dartmouth, Big Green', 'Notre Dame | Fighting Irish | ND', 'Pace University'], 'city': ['Phoenix', 'Pittsburgh', 'Ithaca', 'Stanford', 'Troy', 'San Luis Obispo', 'Saint Louis', 'Newark', 'Charlottesville', 'Santa Clara', 'Rochester', 'San Francisco', 'Durham', 'Bethlehem', 'Nashville', 'Cleveland', 'Atlanta', 'Washington', 'New York', 'Evanston', 'Hanover', 'Philadelphia', 'Villanova', 'Princeton', 'Bronx', 'Notre Dame', 'Boston', 'Fairfield', 'Blacksburg', 'Providence', 'Berkeley'], 'state': ['Georgia', 'Missouri', 'Pennsylvania', 'Indiana', 'Illinois', 'New Hampshire']}\n",
      "error:  {'name': ['University of Rochester', 'Michigan Technological University', 'Duke University', 'Brown University', 'University of Pennsylvania', 'Georgetown University', 'Johns Hopkins University', 'Fairfield University', 'Cornell University', 'University of Southern California', 'Massachusetts Institute of Technology', 'Fordham University', 'Tufts University', 'Washington University in St Louis', 'Vanderbilt University', 'Wake Forest University', 'Santa Clara University', 'Carnegie Mellon University', 'University of San Diego', 'Boston College', 'New York University', 'Harvard University', 'Southern Methodist University', 'Emory University', 'Northeastern University', 'Case Western Reserve University', 'Princeton University', 'Georgia Institute of Technology-Main Campus', 'University of San Francisco', 'Dartmouth College', 'University of California-Berkeley', 'Grand Canyon University', 'Pace University'], 'alias': ['Johns Hopkins', 'CWRU|Case|Case Western Reserve', 'WashU', 'Carnegie Mellon; CMU', 'UC Berkeley', 'Columbia University', 'Georgetown|GU', 'Penn, U of PA, U-Penn, U of P, Pennsylvania, UPenn, Pennsylvania University, University of Pennsylvania, Wharton, Wharton School of Business', 'Virginia Tech', 'USC', 'GWU|GW', 'MIT, M.I.T.', 'Drexel', 'nan', 'USD', 'GCU', 'U of Michigan|U of M|Univ of Michigan|U Michigan Ann Arbor|University of Michigan Ann Arbor', 'RPI, Rensselaer', 'Dartmouth, Big Green', 'Notre Dame | Fighting Irish | ND', 'Pace University'], 'city': ['Phoenix', 'Pittsburgh', 'Ithaca', 'Stanford', 'Troy', 'Saint Louis', 'Newark', 'Charlottesville', 'Santa Clara', 'Rochester', 'San Francisco', 'Durham', 'Bethlehem', 'Nashville', 'Cleveland', 'Atlanta', 'Washington', 'New York', 'Evanston', 'Hanover', 'Philadelphia', 'Villanova', 'Princeton', 'Bronx', 'Notre Dame', 'Boston', 'Fairfield', 'Blacksburg', 'Providence', 'Berkeley'], 'state': ['Georgia', 'Missouri', 'Pennsylvania', 'Indiana', 'Illinois', 'New Hampshire']}\n",
      "error:  {'name': ['University of Rochester', 'Michigan Technological University', 'Duke University', 'Brown University', 'University of Pennsylvania', 'Johns Hopkins University', 'Fairfield University', 'Cornell University', 'University of Southern California', 'Massachusetts Institute of Technology', 'Fordham University', 'Tufts University', 'Washington University in St Louis', 'Vanderbilt University', 'Wake Forest University', 'Santa Clara University', 'Carnegie Mellon University', 'University of San Diego', 'Boston College', 'New York University', 'Harvard University', 'Southern Methodist University', 'Emory University', 'Northeastern University', 'Case Western Reserve University', 'Princeton University', 'Georgia Institute of Technology-Main Campus', 'University of San Francisco', 'Dartmouth College', 'University of California-Berkeley', 'Grand Canyon University', 'Pace University'], 'alias': ['Johns Hopkins', 'WashU', 'Carnegie Mellon; CMU', 'UC Berkeley', 'Columbia University', 'Georgetown|GU', 'Penn, U of PA, U-Penn, U of P, Pennsylvania, UPenn, Pennsylvania University, University of Pennsylvania, Wharton, Wharton School of Business', 'Virginia Tech', 'USC', 'GWU|GW', 'MIT, M.I.T.', 'Drexel', 'nan', 'USD', 'GCU', 'U of Michigan|U of M|Univ of Michigan|U Michigan Ann Arbor|University of Michigan Ann Arbor', 'RPI, Rensselaer', 'Dartmouth, Big Green', 'Notre Dame | Fighting Irish | ND', 'Pace University'], 'city': ['Phoenix', 'Pittsburgh', 'Ithaca', 'Stanford', 'Troy', 'Saint Louis', 'Newark', 'Charlottesville', 'Santa Clara', 'Rochester', 'San Francisco', 'Durham', 'Bethlehem', 'Nashville', 'Cleveland', 'Atlanta', 'Washington', 'New York', 'Evanston', 'Hanover', 'Philadelphia', 'Villanova', 'Princeton', 'Bronx', 'Notre Dame', 'Boston', 'Fairfield', 'Blacksburg', 'Providence', 'Berkeley'], 'state': ['Georgia', 'Pennsylvania', 'Indiana', 'Illinois', 'New Hampshire']}\n",
      "error:  {'name': ['University of Rochester', 'Michigan Technological University', 'Duke University', 'Brown University', 'University of Pennsylvania', 'Johns Hopkins University', 'Fairfield University', 'Cornell University', 'University of Southern California', 'Massachusetts Institute of Technology', 'Fordham University', 'Tufts University', 'Washington University in St Louis', 'Vanderbilt University', 'Wake Forest University', 'Santa Clara University', 'Carnegie Mellon University', 'University of San Diego', 'Boston College', 'New York University', 'Harvard University', 'Southern Methodist University', 'Emory University', 'Northeastern University', 'Case Western Reserve University', 'Princeton University', 'Georgia Institute of Technology-Main Campus', 'University of San Francisco', 'Dartmouth College', 'University of California-Berkeley', 'Grand Canyon University', 'Pace University'], 'alias': ['Johns Hopkins', 'WashU', 'Carnegie Mellon; CMU', 'UC Berkeley', 'Columbia University', 'Georgetown|GU', 'Penn, U of PA, U-Penn, U of P, Pennsylvania, UPenn, Pennsylvania University, University of Pennsylvania, Wharton, Wharton School of Business', 'Virginia Tech', 'USC', 'GWU|GW', 'MIT, M.I.T.', 'Drexel', 'nan', 'USD', 'GCU', 'U of Michigan|U of M|Univ of Michigan|U Michigan Ann Arbor|University of Michigan Ann Arbor', 'RPI, Rensselaer', 'Dartmouth, Big Green', 'Notre Dame | Fighting Irish | ND', 'Pace University'], 'city': ['Phoenix', 'Pittsburgh', 'Ithaca', 'Stanford', 'Troy', 'Newark', 'Charlottesville', 'Santa Clara', 'Rochester', 'San Francisco', 'Durham', 'Bethlehem', 'Nashville', 'Cleveland', 'Atlanta', 'Washington', 'New York', 'Evanston', 'Hanover', 'Philadelphia', 'Villanova', 'Princeton', 'Bronx', 'Notre Dame', 'Boston', 'Fairfield', 'Blacksburg', 'Providence', 'Berkeley'], 'state': ['Georgia', 'Pennsylvania', 'Indiana']}\n",
      "error:  {'name': ['University of Rochester', 'Michigan Technological University', 'Duke University', 'Brown University', 'University of Pennsylvania', 'Johns Hopkins University', 'Fairfield University', 'Cornell University', 'University of Southern California', 'Massachusetts Institute of Technology', 'Fordham University', 'Tufts University', 'Washington University in St Louis', 'Vanderbilt University', 'Wake Forest University', 'Santa Clara University', 'Carnegie Mellon University', 'University of San Diego', 'Boston College', 'New York University', 'Harvard University', 'Southern Methodist University', 'Emory University', 'Northeastern University', 'Case Western Reserve University', 'Princeton University', 'Georgia Institute of Technology-Main Campus', 'University of San Francisco', 'Dartmouth College', 'University of California-Berkeley', 'Grand Canyon University', 'Pace University'], 'alias': ['Johns Hopkins', 'WashU', 'Carnegie Mellon; CMU', 'UC Berkeley', 'Columbia University', 'Georgetown|GU', 'Penn, U of PA, U-Penn, U of P, Pennsylvania, UPenn, Pennsylvania University, University of Pennsylvania, Wharton, Wharton School of Business', 'Virginia Tech', 'USC', 'GWU|GW', 'MIT, M.I.T.', 'Drexel', 'nan', 'USD', 'GCU', 'U of Michigan|U of M|Univ of Michigan|U Michigan Ann Arbor|University of Michigan Ann Arbor', 'RPI, Rensselaer', 'Dartmouth, Big Green', 'Notre Dame | Fighting Irish | ND'], 'city': ['Phoenix', 'Pittsburgh', 'Ithaca', 'Stanford', 'Troy', 'Charlottesville', 'Santa Clara', 'Rochester', 'San Francisco', 'Durham', 'Bethlehem', 'Nashville', 'Cleveland', 'Atlanta', 'Washington', 'New York', 'Evanston', 'Hanover', 'Philadelphia', 'Villanova', 'Princeton', 'Bronx', 'Notre Dame', 'Boston', 'Fairfield', 'Blacksburg', 'Providence', 'Berkeley'], 'state': ['Georgia', 'Pennsylvania', 'Indiana']}\n",
      "error:  {'name': ['University of Rochester', 'Michigan Technological University', 'Duke University', 'Brown University', 'University of Pennsylvania', 'Johns Hopkins University', 'Fairfield University', 'Cornell University', 'University of Southern California', 'Massachusetts Institute of Technology', 'Fordham University', 'Tufts University', 'Washington University in St Louis', 'Vanderbilt University', 'Wake Forest University', 'Carnegie Mellon University', 'University of San Diego', 'Boston College', 'New York University', 'Harvard University', 'Southern Methodist University', 'Emory University', 'Northeastern University', 'Case Western Reserve University', 'Princeton University', 'Georgia Institute of Technology-Main Campus', 'University of San Francisco', 'Dartmouth College', 'University of California-Berkeley', 'Grand Canyon University', 'Pace University'], 'alias': ['UC Berkeley', 'Columbia University', 'Georgetown|GU', 'Penn, U of PA, U-Penn, U of P, Pennsylvania, UPenn, Pennsylvania University, University of Pennsylvania, Wharton, Wharton School of Business', 'Virginia Tech', 'USC', 'GWU|GW', 'MIT, M.I.T.', 'Drexel', 'nan', 'USD', 'GCU', 'U of Michigan|U of M|Univ of Michigan|U Michigan Ann Arbor|University of Michigan Ann Arbor', 'RPI, Rensselaer', 'Dartmouth, Big Green', 'Notre Dame | Fighting Irish | ND'], 'city': ['Phoenix', 'Pittsburgh', 'Stanford', 'Troy', 'Charlottesville', 'Santa Clara', 'Rochester', 'San Francisco', 'Durham', 'Bethlehem', 'Nashville', 'Cleveland', 'Atlanta', 'Washington', 'New York', 'Evanston', 'Hanover', 'Philadelphia', 'Villanova', 'Princeton', 'Bronx', 'Notre Dame', 'Boston', 'Fairfield', 'Blacksburg', 'Providence', 'Berkeley']}\n",
      "error:  {'name': ['Michigan Technological University', 'Duke University', 'Brown University', 'University of Pennsylvania', 'Johns Hopkins University', 'Fairfield University', 'Cornell University', 'University of Southern California', 'Fordham University', 'Tufts University', 'Washington University in St Louis', 'Vanderbilt University', 'Wake Forest University', 'Carnegie Mellon University', 'University of San Diego', 'Boston College', 'New York University', 'Harvard University', 'Southern Methodist University', 'Emory University', 'Northeastern University', 'Case Western Reserve University', 'Princeton University', 'Georgia Institute of Technology-Main Campus', 'University of San Francisco', 'Dartmouth College', 'University of California-Berkeley', 'Grand Canyon University', 'Pace University'], 'alias': ['UC Berkeley', 'Columbia University', 'Georgetown|GU', 'Penn, U of PA, U-Penn, U of P, Pennsylvania, UPenn, Pennsylvania University, University of Pennsylvania, Wharton, Wharton School of Business', 'Virginia Tech', 'USC', 'GWU|GW', 'MIT, M.I.T.', 'Drexel', 'USD', 'GCU', 'U of Michigan|U of M|Univ of Michigan|U Michigan Ann Arbor|University of Michigan Ann Arbor', 'RPI, Rensselaer', 'Dartmouth, Big Green', 'Notre Dame | Fighting Irish | ND'], 'city': ['Phoenix', 'Pittsburgh', 'Stanford', 'Charlottesville', 'Durham', 'Bethlehem', 'Nashville', 'Cleveland', 'Washington', 'New York', 'Evanston', 'Hanover', 'Philadelphia', 'Princeton', 'Bronx', 'Notre Dame', 'Boston', 'Fairfield', 'Blacksburg', 'Providence', 'Berkeley']}\n",
      "error:  {'name': ['Michigan Technological University', 'Duke University', 'Brown University', 'University of Pennsylvania', 'Johns Hopkins University', 'Fairfield University', 'Cornell University', 'University of Southern California', 'Fordham University', 'Tufts University', 'Washington University in St Louis', 'Vanderbilt University', 'Wake Forest University', 'Carnegie Mellon University', 'University of San Diego', 'Boston College', 'New York University', 'Harvard University', 'Southern Methodist University', 'Emory University', 'Northeastern University', 'Case Western Reserve University', 'Princeton University', 'Georgia Institute of Technology-Main Campus', 'University of San Francisco', 'Dartmouth College', 'University of California-Berkeley', 'Grand Canyon University', 'Pace University'], 'alias': ['UC Berkeley', 'Columbia University', 'Georgetown|GU', 'Penn, U of PA, U-Penn, U of P, Pennsylvania, UPenn, Pennsylvania University, University of Pennsylvania, Wharton, Wharton School of Business', 'Virginia Tech', 'USC', 'GWU|GW', 'MIT, M.I.T.', 'Drexel', 'USD', 'GCU', 'U of Michigan|U of M|Univ of Michigan|U Michigan Ann Arbor|University of Michigan Ann Arbor', 'RPI, Rensselaer', 'Dartmouth, Big Green', 'Notre Dame | Fighting Irish | ND'], 'city': ['Phoenix', 'Pittsburgh', 'Stanford', 'Charlottesville', 'Durham', 'Bethlehem', 'Nashville', 'Cleveland', 'Washington', 'New York', 'Evanston', 'Hanover', 'Philadelphia', 'Princeton', 'Bronx', 'Notre Dame', 'Boston', 'Fairfield', 'Blacksburg', 'Providence', 'Berkeley']}\n",
      "error:  {'name': ['Michigan Technological University', 'Duke University', 'Brown University', 'University of Pennsylvania', 'Johns Hopkins University', 'Cornell University', 'University of Southern California', 'Fordham University', 'Tufts University', 'Washington University in St Louis', 'Vanderbilt University', 'Wake Forest University', 'Carnegie Mellon University', 'University of San Diego', 'Boston College', 'New York University', 'Harvard University', 'Southern Methodist University', 'Emory University', 'Northeastern University', 'Princeton University', 'Georgia Institute of Technology-Main Campus', 'University of San Francisco', 'Dartmouth College', 'University of California-Berkeley', 'Grand Canyon University', 'Pace University'], 'alias': ['UC Berkeley', 'Columbia University', 'Georgetown|GU', 'Penn, U of PA, U-Penn, U of P, Pennsylvania, UPenn, Pennsylvania University, University of Pennsylvania, Wharton, Wharton School of Business', 'USC', 'GWU|GW', 'MIT, M.I.T.', 'USD', 'GCU', 'U of Michigan|U of M|Univ of Michigan|U Michigan Ann Arbor|University of Michigan Ann Arbor', 'RPI, Rensselaer', 'Dartmouth, Big Green', 'Notre Dame | Fighting Irish | ND'], 'city': ['Phoenix', 'Pittsburgh', 'Stanford', 'Charlottesville', 'Durham', 'Bethlehem', 'Nashville', 'Cleveland', 'Washington', 'New York', 'Philadelphia', 'Princeton', 'Bronx', 'Notre Dame', 'Boston', 'Fairfield', 'Blacksburg', 'Berkeley']}\n",
      "error:  {'name': ['Michigan Technological University', 'Duke University', 'Brown University', 'University of Pennsylvania', 'Johns Hopkins University', 'Cornell University', 'University of Southern California', 'Fordham University', 'Tufts University', 'Washington University in St Louis', 'Vanderbilt University', 'Wake Forest University', 'Carnegie Mellon University', 'University of San Diego', 'Boston College', 'New York University', 'Harvard University', 'Southern Methodist University', 'Emory University', 'Northeastern University', 'Princeton University', 'Georgia Institute of Technology-Main Campus', 'University of San Francisco', 'Dartmouth College', 'University of California-Berkeley', 'Grand Canyon University', 'Pace University'], 'alias': ['Columbia University', 'Georgetown|GU', 'Penn, U of PA, U-Penn, U of P, Pennsylvania, UPenn, Pennsylvania University, University of Pennsylvania, Wharton, Wharton School of Business', 'USC', 'GWU|GW', 'MIT, M.I.T.', 'USD', 'GCU', 'U of Michigan|U of M|Univ of Michigan|U Michigan Ann Arbor|University of Michigan Ann Arbor', 'RPI, Rensselaer', 'Dartmouth, Big Green', 'Notre Dame | Fighting Irish | ND'], 'city': ['Phoenix', 'Pittsburgh', 'Stanford', 'Charlottesville', 'Durham', 'Bethlehem', 'Cleveland', 'Washington', 'New York', 'Philadelphia', 'Princeton', 'Bronx', 'Notre Dame', 'Boston', 'Fairfield', 'Blacksburg']}\n",
      "error:  {'name': ['Michigan Technological University', 'Duke University', 'Brown University', 'University of Pennsylvania', 'Johns Hopkins University', 'Cornell University', 'University of Southern California', 'Fordham University', 'Tufts University', 'Washington University in St Louis', 'Vanderbilt University', 'Wake Forest University', 'Carnegie Mellon University', 'University of San Diego', 'Boston College', 'New York University', 'Harvard University', 'Southern Methodist University', 'Emory University', 'Northeastern University', 'Princeton University', 'Georgia Institute of Technology-Main Campus', 'University of San Francisco', 'Dartmouth College', 'University of California-Berkeley', 'Grand Canyon University', 'Pace University'], 'alias': ['Columbia University', 'Georgetown|GU', 'Penn, U of PA, U-Penn, U of P, Pennsylvania, UPenn, Pennsylvania University, University of Pennsylvania, Wharton, Wharton School of Business', 'USC', 'GWU|GW', 'MIT, M.I.T.', 'USD', 'GCU', 'U of Michigan|U of M|Univ of Michigan|U Michigan Ann Arbor|University of Michigan Ann Arbor', 'RPI, Rensselaer', 'Dartmouth, Big Green', 'Notre Dame | Fighting Irish | ND'], 'city': ['Phoenix', 'Pittsburgh', 'Stanford', 'Charlottesville', 'Durham', 'Bethlehem', 'Cleveland', 'Washington', 'New York', 'Philadelphia', 'Princeton', 'Bronx', 'Notre Dame', 'Boston', 'Fairfield', 'Blacksburg']}\n",
      "error:  {'name': ['Michigan Technological University', 'Duke University', 'Brown University', 'University of Pennsylvania', 'Johns Hopkins University', 'Cornell University', 'University of Southern California', 'Fordham University', 'Tufts University', 'Washington University in St Louis', 'Vanderbilt University', 'Wake Forest University', 'Carnegie Mellon University', 'University of San Diego', 'Boston College', 'New York University', 'Harvard University', 'Southern Methodist University', 'Emory University', 'Northeastern University', 'Princeton University', 'Georgia Institute of Technology-Main Campus', 'University of San Francisco', 'Dartmouth College', 'University of California-Berkeley', 'Grand Canyon University', 'Pace University'], 'alias': ['Columbia University', 'Georgetown|GU', 'USC', 'GWU|GW', 'MIT, M.I.T.', 'USD', 'GCU', 'U of Michigan|U of M|Univ of Michigan|U Michigan Ann Arbor|University of Michigan Ann Arbor', 'RPI, Rensselaer', 'Dartmouth, Big Green'], 'city': ['Phoenix', 'Pittsburgh', 'Stanford', 'Charlottesville', 'Durham', 'Bethlehem', 'Cleveland', 'Washington', 'New York', 'Philadelphia', 'Princeton', 'Bronx', 'Notre Dame', 'Boston', 'Fairfield', 'Blacksburg']}\n",
      "error:  {'name': ['Michigan Technological University', 'Duke University', 'Brown University', 'University of Pennsylvania', 'Johns Hopkins University', 'Cornell University', 'University of Southern California', 'Fordham University', 'Tufts University', 'Washington University in St Louis', 'Vanderbilt University', 'Wake Forest University', 'Carnegie Mellon University', 'University of San Diego', 'Boston College', 'New York University', 'Harvard University', 'Southern Methodist University', 'Emory University', 'Northeastern University', 'Princeton University', 'Georgia Institute of Technology-Main Campus', 'University of San Francisco', 'Dartmouth College', 'University of California-Berkeley', 'Grand Canyon University'], 'alias': ['Columbia University', 'Georgetown|GU', 'USC', 'GWU|GW', 'MIT, M.I.T.', 'USD', 'GCU', 'U of Michigan|U of M|Univ of Michigan|U Michigan Ann Arbor|University of Michigan Ann Arbor', 'RPI, Rensselaer', 'Dartmouth, Big Green'], 'city': ['Phoenix', 'Pittsburgh', 'Stanford', 'Charlottesville', 'Durham', 'Bethlehem', 'Cleveland', 'Washington', 'New York', 'Philadelphia', 'Princeton', 'Bronx', 'Notre Dame', 'Boston', 'Fairfield']}\n",
      "error:  {'name': ['Michigan Technological University', 'Duke University', 'Brown University', 'University of Pennsylvania', 'Johns Hopkins University', 'Cornell University', 'Fordham University', 'Tufts University', 'Washington University in St Louis', 'Vanderbilt University', 'Wake Forest University', 'Carnegie Mellon University', 'University of San Diego', 'Boston College', 'New York University', 'Harvard University', 'Southern Methodist University', 'Emory University', 'Northeastern University', 'Princeton University', 'Georgia Institute of Technology-Main Campus', 'University of San Francisco', 'Dartmouth College', 'University of California-Berkeley', 'Grand Canyon University'], 'alias': ['Columbia University', 'Georgetown|GU', 'USC', 'GWU|GW', 'MIT, M.I.T.', 'USD', 'GCU', 'U of Michigan|U of M|Univ of Michigan|U Michigan Ann Arbor|University of Michigan Ann Arbor', 'RPI, Rensselaer', 'Dartmouth, Big Green'], 'city': ['Phoenix', 'Pittsburgh', 'Stanford', 'Charlottesville', 'Durham', 'Bethlehem', 'Cleveland', 'Washington', 'New York', 'Philadelphia', 'Princeton', 'Bronx', 'Notre Dame', 'Boston', 'Fairfield']}\n",
      "error:  {'name': ['Michigan Technological University', 'Duke University', 'Brown University', 'University of Pennsylvania', 'Johns Hopkins University', 'Cornell University', 'Fordham University', 'Tufts University', 'Washington University in St Louis', 'Vanderbilt University', 'Wake Forest University', 'Carnegie Mellon University', 'University of San Diego', 'Boston College', 'New York University', 'Harvard University', 'Southern Methodist University', 'Emory University', 'Northeastern University', 'Princeton University', 'Georgia Institute of Technology-Main Campus', 'University of San Francisco', 'Dartmouth College', 'University of California-Berkeley', 'Grand Canyon University'], 'alias': ['Columbia University', 'Georgetown|GU', 'USC', 'MIT, M.I.T.', 'USD', 'GCU', 'U of Michigan|U of M|Univ of Michigan|U Michigan Ann Arbor|University of Michigan Ann Arbor', 'RPI, Rensselaer', 'Dartmouth, Big Green'], 'city': ['Phoenix', 'Pittsburgh', 'Stanford', 'Charlottesville', 'Durham', 'Bethlehem', 'Cleveland', 'Washington', 'New York', 'Philadelphia', 'Princeton', 'Notre Dame', 'Boston', 'Fairfield']}\n",
      "error:  {'name': ['Michigan Technological University', 'Duke University', 'Brown University', 'University of Pennsylvania', 'Johns Hopkins University', 'Cornell University', 'Fordham University', 'Tufts University', 'Washington University in St Louis', 'Vanderbilt University', 'Wake Forest University', 'Carnegie Mellon University', 'University of San Diego', 'Boston College', 'New York University', 'Harvard University', 'Southern Methodist University', 'Emory University', 'Northeastern University', 'Princeton University', 'Georgia Institute of Technology-Main Campus', 'University of San Francisco', 'Dartmouth College', 'University of California-Berkeley', 'Grand Canyon University'], 'alias': ['Columbia University', 'USC', 'MIT, M.I.T.', 'USD', 'U of Michigan|U of M|Univ of Michigan|U Michigan Ann Arbor|University of Michigan Ann Arbor', 'RPI, Rensselaer'], 'city': ['Pittsburgh', 'Stanford', 'Charlottesville', 'Durham', 'Bethlehem', 'Cleveland', 'Washington', 'Princeton', 'Notre Dame', 'Boston', 'Fairfield']}\n",
      "error:  {'name': ['Michigan Technological University', 'Duke University', 'Brown University', 'University of Pennsylvania', 'Johns Hopkins University', 'Cornell University', 'Fordham University', 'Tufts University', 'Washington University in St Louis', 'Vanderbilt University', 'Wake Forest University', 'Carnegie Mellon University', 'University of San Diego', 'Boston College', 'New York University', 'Harvard University', 'Southern Methodist University', 'Emory University', 'Northeastern University', 'Princeton University', 'Georgia Institute of Technology-Main Campus', 'University of San Francisco', 'Dartmouth College', 'University of California-Berkeley', 'Grand Canyon University'], 'alias': ['Columbia University', 'USC', 'MIT, M.I.T.', 'USD', 'U of Michigan|U of M|Univ of Michigan|U Michigan Ann Arbor|University of Michigan Ann Arbor', 'RPI, Rensselaer'], 'city': ['Pittsburgh', 'Stanford', 'Durham', 'Bethlehem', 'Cleveland', 'Washington', 'Princeton', 'Notre Dame', 'Boston', 'Fairfield']}\n",
      "error:  {'name': ['Michigan Technological University', 'Duke University', 'Brown University', 'University of Pennsylvania', 'Johns Hopkins University', 'Cornell University', 'Fordham University', 'Tufts University', 'Washington University in St Louis', 'Vanderbilt University', 'Wake Forest University', 'University of San Diego', 'Boston College', 'New York University', 'Harvard University', 'Emory University', 'Northeastern University', 'Princeton University', 'Georgia Institute of Technology-Main Campus', 'University of San Francisco', 'Dartmouth College', 'University of California-Berkeley', 'Grand Canyon University'], 'alias': ['Columbia University', 'USD', 'RPI, Rensselaer'], 'city': ['Pittsburgh', 'Stanford', 'Durham', 'Bethlehem', 'Cleveland', 'Notre Dame', 'Boston', 'Fairfield']}\n",
      "error:  {'name': ['Michigan Technological University', 'Duke University', 'Brown University', 'University of Pennsylvania', 'Johns Hopkins University', 'Cornell University', 'Fordham University', 'Washington University in St Louis', 'Vanderbilt University', 'Wake Forest University', 'Boston College', 'New York University', 'Harvard University', 'Emory University', 'Northeastern University', 'Princeton University', 'Georgia Institute of Technology-Main Campus', 'University of San Francisco', 'University of California-Berkeley', 'Grand Canyon University'], 'city': ['Pittsburgh', 'Stanford', 'Bethlehem', 'Cleveland', 'Boston']}\n",
      "error:  {'name': ['Michigan Technological University', 'Duke University', 'University of Pennsylvania', 'Johns Hopkins University', 'Cornell University', 'Fordham University', 'Washington University in St Louis', 'Vanderbilt University', 'Wake Forest University', 'Boston College', 'New York University', 'Harvard University', 'Emory University', 'Northeastern University', 'Princeton University', 'Georgia Institute of Technology-Main Campus', 'University of San Francisco', 'University of California-Berkeley', 'Grand Canyon University'], 'city': ['Pittsburgh', 'Stanford', 'Bethlehem', 'Cleveland', 'Boston']}\n",
      "error:  {'name': ['Michigan Technological University', 'Duke University', 'University of Pennsylvania', 'Cornell University', 'Fordham University', 'Washington University in St Louis', 'Vanderbilt University', 'Wake Forest University', 'Boston College', 'New York University', 'Harvard University', 'Emory University', 'Northeastern University', 'Princeton University', 'Georgia Institute of Technology-Main Campus', 'University of San Francisco', 'University of California-Berkeley', 'Grand Canyon University'], 'city': ['Pittsburgh', 'Stanford', 'Bethlehem', 'Cleveland', 'Boston']}\n",
      "error:  {'name': ['Michigan Technological University', 'Duke University', 'University of Pennsylvania', 'Cornell University', 'Fordham University', 'Washington University in St Louis', 'Vanderbilt University', 'Wake Forest University', 'Boston College', 'New York University', 'Harvard University', 'Emory University', 'Northeastern University', 'Princeton University', 'Georgia Institute of Technology-Main Campus', 'University of San Francisco', 'University of California-Berkeley', 'Grand Canyon University'], 'city': ['Stanford', 'Cleveland', 'Boston']}\n",
      "error:  {'name': ['Michigan Technological University', 'Duke University', 'University of Pennsylvania', 'Cornell University', 'Fordham University', 'Washington University in St Louis', 'Vanderbilt University', 'Wake Forest University', 'Boston College', 'Emory University', 'Northeastern University', 'Princeton University', 'Georgia Institute of Technology-Main Campus', 'University of San Francisco', 'University of California-Berkeley', 'Grand Canyon University'], 'city': ['Stanford']}\n",
      "error:  {'name': ['Michigan Technological University', 'Duke University', 'University of Pennsylvania', 'Cornell University', 'Fordham University', 'Washington University in St Louis', 'Vanderbilt University', 'Wake Forest University', 'Boston College', 'Emory University', 'Northeastern University', 'Princeton University', 'Georgia Institute of Technology-Main Campus', 'University of San Francisco', 'University of California-Berkeley', 'Grand Canyon University'], 'city': ['Stanford']}\n",
      "error:  {'name': ['Michigan Technological University', 'Duke University', 'Cornell University', 'Fordham University', 'Washington University in St Louis', 'Vanderbilt University', 'Wake Forest University', 'Boston College', 'Emory University', 'Northeastern University', 'University of San Francisco', 'University of California-Berkeley']}\n",
      "error:  {'name': ['Michigan Technological University', 'Duke University', 'Cornell University', 'Fordham University', 'Washington University in St Louis', 'Vanderbilt University', 'Wake Forest University', 'Boston College', 'Emory University', 'Northeastern University', 'University of San Francisco', 'University of California-Berkeley']}\n",
      "error:  {'name': ['Duke University', 'Cornell University', 'Fordham University', 'Washington University in St Louis', 'Vanderbilt University', 'Wake Forest University', 'Boston College', 'Emory University', 'Northeastern University', 'University of California-Berkeley']}\n",
      "error:  {'name': ['Duke University', 'Cornell University', 'Fordham University', 'Washington University in St Louis', 'Wake Forest University', 'Boston College', 'Emory University', 'Northeastern University', 'University of California-Berkeley']}\n",
      "error:  {'name': ['Duke University', 'Cornell University', 'Fordham University', 'Washington University in St Louis', 'Wake Forest University', 'Boston College', 'Emory University', 'Northeastern University', 'University of California-Berkeley']}\n",
      "error:  {'name': ['Duke University', 'Cornell University', 'Fordham University', 'Wake Forest University', 'Boston College', 'Emory University', 'Northeastern University', 'University of California-Berkeley']}\n",
      "error:  {'name': ['Duke University', 'Cornell University', 'Fordham University', 'Wake Forest University', 'Boston College', 'Emory University', 'Northeastern University']}\n",
      "error:  {'name': ['Duke University', 'Cornell University', 'Fordham University', 'Wake Forest University', 'Boston College', 'Emory University', 'Northeastern University']}\n",
      "error:  {'name': ['Cornell University', 'Fordham University', 'Wake Forest University', 'Boston College', 'Emory University', 'Northeastern University']}\n",
      "error:  {'name': ['Cornell University', 'Fordham University', 'Wake Forest University', 'Emory University']}\n",
      "error:  {'name': ['Cornell University', 'Fordham University', 'Wake Forest University']}\n",
      "error:  {'name': ['Fordham University', 'Wake Forest University']}\n",
      "error:  {'name': ['Fordham University']}\n",
      "error:  {}\n",
      "118\n",
      "[{'city': 'Cambridge', 'engineering': '0'}, {'control': 'private', 'arts': '1'}, {'architecture': '1'}, {'education': '0', 'history': '1'}, {'engineering': '1'}, {'city': 'New Haven'}, {'social sciences': '0'}, {'architecture': '0'}, {'literature': '1'}, {'computer science': '1'}]\n"
     ]
    }
   ],
   "source": [
    "dialogue_configs = [] # list of dictionaries with up to three keys, key = slot, value = value; no combination occurs twice\n",
    "slot_values_TODO = copy.deepcopy(slot_values)\n",
    "slot_list = list(set(simple_slots.keys()))\n",
    "while len(slot_values_TODO)>0:\n",
    "    config = dict()\n",
    "    turns_in_dialog = random.choice([i for i in range(1,3)]) # up to two turns # TODO: maybe only do up to two dialogues?\n",
    "    try:\n",
    "        random.shuffle(slot_list)\n",
    "        slots_to_consider = slot_list[:min(len(slot_list),turns_in_dialog)]\n",
    "        # print(\"slots to consider: \",slots_to_consider)\n",
    "        for slot in slots_to_consider:\n",
    "            value = random.choice(slot_values_TODO[slot])\n",
    "            config[slot] = value\n",
    "            # print(\"chosen slot-value combi: \",config)\n",
    "            slot_values_TODO[slot].remove(value)\n",
    "            if len(slot_values_TODO[slot]) == 0:\n",
    "                slot_values_TODO.pop(slot)\n",
    "                slot_list.remove(slot)\n",
    "        dialogue_configs += [copy.deepcopy(config)]\n",
    "        # print(\"left slot-values: \",slot_values_TODO)\n",
    "    except:\n",
    "        print(\"error: \",slot_values_TODO)\n",
    "print(len(dialogue_configs))\n",
    "print(dialogue_configs[:10])"
   ]
  },
  {
   "cell_type": "code",
   "execution_count": 57,
   "metadata": {},
   "outputs": [],
   "source": [
    "all_dialogues = []\n",
    "for dialog_config in dialogue_configs:\n",
    "    dialogues = generate_dialogue(db,dialog_config)\n",
    "    all_dialogues += dialogues"
   ]
  },
  {
   "cell_type": "code",
   "execution_count": 58,
   "metadata": {},
   "outputs": [],
   "source": [
    "# save dialogues to file\n",
    "with open(\"/mount/studenten-temp1/users/godberja/SpokenDialogSystems/college_adviser/adviser/resources/example_dialogues/automatic_dialogues.json\", \"w\") as outfile:\n",
    "    json.dump(all_dialogues, outfile,indent=4)"
   ]
  },
  {
   "cell_type": "markdown",
   "metadata": {},
   "source": [
    "## Create sample dialogues for testing"
   ]
  },
  {
   "cell_type": "code",
   "execution_count": 17,
   "metadata": {},
   "outputs": [],
   "source": [
    "# extract the pairs from the test data to make sure we don't test for the same combination of slot-values\n",
    "with open(\"/mount/studenten-temp1/users/godberja/SpokenDialogSystems/college_adviser/some soloist files/combined_lowercase.json\", \"r\") as infile:\n",
    "    training_data = json.load(infile)"
   ]
  },
  {
   "cell_type": "code",
   "execution_count": 20,
   "metadata": {},
   "outputs": [
    {
     "name": "stdout",
     "output_type": "stream",
     "text": [
      "417\n",
      "[('state', 'north carolina'), ('state', 'california'), ('area', 'architecture'), ('state', 'virginia'), ('area', 'architecture'), ('price_range', 'affordable'), ('state', 'california'), ('area', 'biology'), ('price_range', 'affordable'), ('name', 'uc berkeley'), ('state', 'california, area'), ('price_range', 'affordable'), ('name', 'uc berkeley'), ('price_range', 'expensive'), ('price_range', 'expensive'), ('region', 'new england'), ('price_range', 'expensive'), ('area', 'dontcare'), ('region', 'new england'), ('price_range', 'expensive'), ('area', 'dontcare'), ('region', 'new england'), ('name', 'northeastern university'), ('price_range', 'expensive'), ('area', 'dontcare'), ('region', 'new england'), ('name', 'northeastern university'), ('price_range', 'expensive'), ('area', 'dontcare'), ('region', 'new england'), ('name', 'northeastern university'), ('state', 'wisconsin'), ('state', 'michigan'), ('state', 'michigan'), ('area', 'education'), ('state', 'michigan'), ('area', 'law'), ('name', 'university of michigan-ann arbor'), ('state', 'michigan'), ('area', 'law'), ('name', 'university of michigan-ann arbor'), ('state', 'michigan'), ('area', 'education'), ('name', 'university of michigan-ann arbor'), ('price_range', 'affordable'), ('area', 'literature'), ('price_range', 'expensive'), ('area', 'mathematics'), ('region', 'far west'), ('price_range', 'affordable'), ('control', 'public'), ('area', 'health'), ('region', 'southeast'), ('name', 'university of virginia-main campus'), ('price_range', 'very expensive'), ('area', 'arts'), ('region', 'plains'), ('name', 'washington university in st louis'), ('price_range', 'affordable'), ('area', 'linguistics'), ('region', 'great lakes'), ('name', 'university of michigan-ann arbor'), ('price_range', 'affordable'), ('area', 'mathematics'), ('region', 'mid east'), ('name', 'new jersey institute of technology'), ('price_range', 'affordable'), ('area', 'mathematics'), ('region', 'mid east'), ('name', 'new jersey institute of technology'), ('area', 'education'), ('name', 'yale university'), ('area', 'engineering'), ('name', 'yale'), ('area', 'engineering'), ('name', 'yale'), ('area', 'engineering'), ('name', 'yale'), ('area', 'business'), ('area', 'business'), ('state', 'new york'), ('area', 'business'), ('state', 'new york'), ('price_range', 'affordable'), ('area', 'business'), ('state', 'new york'), ('price_range', 'pricey'), ('area', 'business'), ('state', 'new york'), ('price_range', 'pricey'), ('name', 'pace university'), ('area', 'business'), ('state', 'new york'), ('price_range', 'pricey'), ('name', 'pace university'), ('area', 'business'), ('state', 'new york'), ('price_range', 'pricey'), ('name', 'pace university'), ('control', 'public'), ('region', 'great lakes'), ('control', 'public'), ('region', 'southwest'), ('area', 'linguistics'), ('control', 'public'), ('region', 'southwest'), ('area', 'literature'), ('name', 'southern methodist university'), ('control', 'public'), ('region', 'southwest'), ('area', 'physics'), ('name', 'grand canyon university'), ('control', 'public'), ('region', 'southwest'), ('area', 'journalism'), ('name', 'grand canyon university'), ('control', 'public'), ('region', 'southwest'), ('area', 'journalism'), ('name', 'grand canyon university'), ('state', 'indiana'), ('state', 'pennsylvania'), ('city', 'los angeles'), ('city', 'los angeles'), ('city', 'los angeles, name'), ('name', 'princeton university'), ('area', 'engineering'), ('city', 'cambridge'), ('city', 'stanford, name'), ('name', 'lehigh university'), ('price_range', 'expensive'), ('area', 'health'), ('name', 'duke university'), ('name', 'duke university'), ('alias', 'mit'), ('city', 'phoenix'), ('state', 'texas'), ('area', 'communication'), ('state', 'maryland'), ('area', 'psychology'), ('region', 'mid east'), ('area', 'legal'), ('state', 'alaska'), ('price_range', 'affordable'), ('state', 'utah, state'), ('state', 'new mexico'), ('state', 'michigan'), ('area', 'engineering'), ('state', 'michigan'), ('area', 'architecture'), ('state', 'connecticut'), ('price_range', 'very expensive'), ('area', 'visual'), ('state', 'georgia'), ('price_range', 'affordable'), ('price_range', 'pricey'), ('city', 'new york'), ('price_range', 'expensive'), ('state', 'new york'), ('price_range', 'expensive'), ('state', 'new york, area'), ('state', 'maryland'), ('area', 'computer'), ('state', 'maryland'), ('area', 'computer'), ('state', 'maryland'), ('area', 'computer'), ('price_range', 'affordable'), ('control', 'public'), ('price_range', 'affordable'), ('control', 'private'), ('price_range', 'pricey'), ('region', 'southeast'), ('area', 'mathematic'), ('region', 'southeast'), ('area', 'mathematic'), ('state', 'connecticut'), ('state', 'washington, dc'), ('state', 'georgia'), ('state', 'indiana'), ('state', 'maryland'), ('state', 'michigan, price_range'), ('state', 'missouri, control'), ('state', 'new hampshire, area'), ('state', 'new jersey'), ('state', 'pennsylvania, area'), ('state', 'virginia, control'), ('state', 'new jersey, control'), ('state', 'missouri, area'), ('alias', 'cwru'), ('area', 'journalism'), ('name', 'villanova university'), ('control', 'public'), ('region', 'mid east'), ('region', 'new england, area'), ('name', 'emory university, area'), ('region', 'southwest, area'), ('city', 'cambridge'), ('city', 'cambridge'), ('area', 'engineering'), ('control', 'private'), ('control', 'private'), ('area', 'arts'), ('area', 'architecture'), ('area', 'education'), ('area', 'education'), ('area', 'history'), ('area', 'engineering'), ('area', 'engineering'), ('city', 'new haven'), ('city', 'new haven'), ('area', 'social sciences'), ('area', 'architecture'), ('area', 'literature'), ('area', 'computer science'), ('area', 'physics'), ('area', 'physics'), ('control', 'public'), ('area', 'literature'), ('area', 'biology'), ('area', 'biology'), ('alias', 'michigan tech|mtu|michigan tech university|mich tech|michigan technological univ|michigan tech univ|mt'), ('area', 'journalism'), ('area', 'psychology'), ('area', 'psychology'), ('area', 'law'), ('area', 'social sciences'), ('area', 'social sciences'), ('area', 'linguistics'), ('name', 'yale university'), ('area', 'education'), ('area', 'philosophy'), ('area', 'psychology'), ('area', 'psychology'), ('city', 'chestnut hill'), ('area', 'philosophy'), ('area', 'philosophy'), ('city', 'medford'), ('area', 'mathematics'), ('area', 'mathematics'), ('area', 'health'), ('area', 'mathematics'), ('area', 'health'), ('city', 'los angeles'), ('city', 'los angeles'), ('area', 'journalism'), ('area', 'linguistics'), ('city', 'houghton'), ('area', 'law'), ('area', 'business'), ('area', 'business'), ('alias', 'georgia tech'), ('area', 'business'), ('area', 'health'), ('area', 'health'), ('region', 'mid east'), ('area', 'health'), ('region', 'mid east'), ('state', 'tennessee'), ('state', 'tennessee'), ('name', 'new jersey institute of technology'), ('name', 'university of notre dame'), ('name', 'villanova university'), ('name', 'villanova university'), ('region', 'great lakes'), ('city', 'dallas'), ('state', 'michigan'), ('alias', 'university of virginia  uva  uva'), ('alias', 'university of virginia  uva  uva'), ('name', 'stanford university'), ('name', 'lehigh university'), ('name', 'lehigh university'), ('region', 'plains'), ('city', 'baltimore'), ('city', 'baltimore'), ('name', 'university of michigan-ann arbor'), ('city', 'winston-salem'), ('city', 'winston-salem'), ('name', 'george washington university'), ('alias', 'smu'), ('region', 'southwest'), ('city', 'chicago'), ('state', 'new york'), ('city', 'san diego'), ('region', 'new england'), ('state', 'texas'), ('name', 'rensselaer polytechnic institute'), ('region', 'southeast'), ('name', 'university of chicago'), ('alias', 'njit'), ('alias', 'njit'), ('state', 'connecticut'), ('alias', 'cal poly'), ('name', 'drexel university'), ('state', 'california'), ('region', 'far west'), ('region', 'far west'), ('state', 'new jersey'), ('region', 'far west'), ('state', 'new jersey'), ('name', 'university of virginia-main campus'), ('name', 'university of virginia-main campus'), ('state', 'arizona'), ('name', 'virginia polytechnic institute and state university'), ('state', 'ohio'), ('state', 'north carolina'), ('state', 'rhode island'), ('state', 'virginia'), ('city', 'ann arbor'), ('name', 'columbia university in the city of new york'), ('name', 'columbia university in the city of new york'), ('alias', 'scu'), ('name', 'california polytechnic state university-san luis obispo'), ('alias', 'cwru|case|case western reserve'), ('alias', 'cwru|case|case western reserve'), ('state', 'missouri'), ('state', 'illinois'), ('city', 'saint louis'), ('alias', 'pace university'), ('alias', 'pace university'), ('city', 'newark'), ('alias', 'carnegie mellon'), ('alias', 'johns hopkins'), ('state', 'pennsylvania'), ('state', 'indiana'), ('state', 'indiana'), ('name', 'santa clara university'), ('state', 'georgia'), ('state', 'georgia'), ('alias', 'washu'), ('state', 'georgia'), ('alias', 'washu'), ('city', 'ithaca'), ('city', 'ithaca'), ('city', 'troy'), ('alias', 'nan'), ('alias', 'nan'), ('city', 'san francisco'), ('city', 'rochester'), ('city', 'rochester'), ('name', 'university of rochester'), ('city', 'santa clara'), ('name', 'massachusetts institute of technology'), ('name', 'massachusetts institute of technology'), ('city', 'villanova'), ('name', 'massachusetts institute of technology'), ('city', 'villanova'), ('city', 'atlanta'), ('city', 'providence'), ('city', 'providence'), ('alias', 'virginia tech'), ('alias', 'drexel'), ('name', 'case western reserve university'), ('city', 'hanover'), ('city', 'evanston'), ('city', 'evanston'), ('name', 'fairfield university'), ('city', 'berkeley'), ('city', 'berkeley'), ('alias', 'uc berkeley'), ('city', 'berkeley'), ('alias', 'uc berkeley'), ('city', 'nashville'), ('alias', 'penn, u of pa, u-penn, u of p, pennsylvania, upenn, pennsylvania university, university of pennsylvania, wharton, wharton school of business'), ('city', 'blacksburg'), ('city', 'blacksburg'), ('name', 'university of southern california'), ('city', 'bronx'), ('city', 'bronx'), ('alias', 'gwu|gw'), ('alias', 'georgetown|gu'), ('city', 'philadelphia'), ('city', 'philadelphia'), ('alias', 'dartmouth, big green'), ('city', 'new york'), ('city', 'phoenix'), ('city', 'charlottesville'), ('alias', 'usc'), ('city', 'washington'), ('alias', 'u of michigan|u of m|univ of michigan|u michigan ann arbor|university of michigan ann arbor'), ('alias', 'u of michigan|u of m|univ of michigan|u michigan ann arbor|university of michigan ann arbor'), ('name', 'carnegie mellon university'), ('name', 'southern methodist university'), ('name', 'southern methodist university'), ('city', 'princeton'), ('alias', 'rpi, rensselaer'), ('name', 'tufts university'), ('alias', 'usd'), ('alias', 'usd'), ('city', 'notre dame'), ('city', 'durham'), ('city', 'durham'), ('alias', 'columbia university'), ('name', 'dartmouth college'), ('name', 'dartmouth college'), ('city', 'fairfield'), ('name', 'johns hopkins university'), ('city', 'bethlehem'), ('city', 'bethlehem'), ('name', 'harvard university'), ('city', 'boston'), ('city', 'boston'), ('name', 'new york university'), ('city', 'cleveland'), ('city', 'stanford'), ('name', 'georgia institute of technology-main campus'), ('name', 'university of pennsylvania'), ('name', 'university of pennsylvania'), ('name', 'princeton university'), ('name', 'princeton university'), ('name', 'grand canyon university'), ('name', 'michigan technological university'), ('name', 'michigan technological university'), ('name', 'university of california-berkeley'), ('name', 'university of california-berkeley'), ('name', 'northeastern university'), ('name', 'boston college')]\n"
     ]
    }
   ],
   "source": [
    "train_slotvalues = []\n",
    "for dialogue in training_data:\n",
    "    belief_state = dialogue[\"belief\"]\n",
    "    belief_state = belief_state.replace(\"belief : \",\"\")\n",
    "    belief_state_list = belief_state.split(\";\")\n",
    "    for slot_value in belief_state_list:\n",
    "        if \"=\" in slot_value: # a belief state needs to be present\n",
    "            splitted = slot_value.split(\"=\")\n",
    "            slot = splitted[0].strip()\n",
    "            value = splitted[1].strip()\n",
    "            train_slotvalues += [(slot,value)]\n",
    "print(len(train_slotvalues))\n",
    "print(train_slotvalues)"
   ]
  },
  {
   "cell_type": "code",
   "execution_count": 23,
   "metadata": {},
   "outputs": [
    {
     "name": "stdout",
     "output_type": "stream",
     "text": [
      "[('area', 92), ('name', 78), ('state', 68), ('city', 66), ('alias', 36), ('region', 33), ('price_range', 31), ('control', 13)]\n",
      "[('affordable', 13), ('expensive', 10), ('public', 10), ('business', 10), ('new york', 10), ('michigan', 8), ('engineering', 8), ('health', 7), ('new england', 6), ('education', 6), ('mathematics', 6), ('mid east', 6), ('pricey', 6), ('southwest', 6), ('architecture', 5), ('university of michigan-ann arbor', 5), ('pace university', 5), ('journalism', 5), ('maryland', 5), ('psychology', 5), ('georgia', 5), ('uc berkeley', 4), ('dontcare', 4), ('northeastern university', 4), ('law', 4), ('literature', 4), ('far west', 4), ('southeast', 4), ('linguistics', 4), ('grand canyon university', 4), ('indiana', 4), ('los angeles', 4), ('california', 3), ('biology', 3), ('university of virginia-main campus', 3), ('great lakes', 3), ('new jersey institute of technology', 3), ('yale', 3), ('southern methodist university', 3), ('physics', 3), ('princeton university', 3), ('cambridge', 3), ('lehigh university', 3), ('connecticut', 3), ('computer', 3), ('private', 3), ('new jersey', 3), ('villanova university', 3), ('social sciences', 3), ('philosophy', 3), ('massachusetts institute of technology', 3), ('berkeley', 3), ('north carolina', 2), ('virginia', 2), ('very expensive', 2), ('arts', 2), ('plains', 2), ('yale university', 2), ('pennsylvania', 2), ('duke university', 2), ('phoenix', 2), ('texas', 2), ('mathematic', 2), ('new haven', 2), ('tennessee', 2), ('university of virginia  uva  uva', 2), ('baltimore', 2), ('winston-salem', 2), ('njit', 2), ('columbia university in the city of new york', 2), ('cwru|case|case western reserve', 2), ('washu', 2), ('ithaca', 2), ('nan', 2), ('rochester', 2), ('villanova', 2), ('providence', 2), ('evanston', 2), ('blacksburg', 2), ('bronx', 2), ('philadelphia', 2), ('u of michigan|u of m|univ of michigan|u michigan ann arbor|university of michigan ann arbor', 2), ('usd', 2), ('durham', 2), ('dartmouth college', 2), ('bethlehem', 2), ('boston', 2), ('university of pennsylvania', 2), ('michigan technological university', 2), ('university of california-berkeley', 2), ('california, area', 1), ('wisconsin', 1), ('washington university in st louis', 1), ('los angeles, name', 1), ('stanford, name', 1), ('mit', 1), ('communication', 1), ('legal', 1), ('alaska', 1), ('utah, state', 1), ('new mexico', 1), ('visual', 1), ('new york, area', 1), ('washington, dc', 1), ('michigan, price_range', 1), ('missouri, control', 1), ('new hampshire, area', 1), ('pennsylvania, area', 1), ('virginia, control', 1), ('new jersey, control', 1), ('missouri, area', 1), ('cwru', 1), ('new england, area', 1), ('emory university, area', 1), ('southwest, area', 1), ('history', 1), ('computer science', 1), ('michigan tech|mtu|michigan tech university|mich tech|michigan technological univ|michigan tech univ|mt', 1), ('chestnut hill', 1), ('medford', 1), ('houghton', 1), ('georgia tech', 1), ('university of notre dame', 1), ('dallas', 1), ('stanford university', 1), ('george washington university', 1), ('smu', 1), ('chicago', 1), ('san diego', 1), ('rensselaer polytechnic institute', 1), ('university of chicago', 1), ('cal poly', 1), ('drexel university', 1), ('arizona', 1), ('virginia polytechnic institute and state university', 1), ('ohio', 1), ('rhode island', 1), ('ann arbor', 1), ('scu', 1), ('california polytechnic state university-san luis obispo', 1), ('missouri', 1), ('illinois', 1), ('saint louis', 1), ('newark', 1), ('carnegie mellon', 1), ('johns hopkins', 1), ('santa clara university', 1), ('troy', 1), ('san francisco', 1), ('university of rochester', 1), ('santa clara', 1), ('atlanta', 1), ('virginia tech', 1), ('drexel', 1), ('case western reserve university', 1), ('hanover', 1), ('fairfield university', 1), ('nashville', 1), ('penn, u of pa, u-penn, u of p, pennsylvania, upenn, pennsylvania university, university of pennsylvania, wharton, wharton school of business', 1), ('university of southern california', 1), ('gwu|gw', 1), ('georgetown|gu', 1), ('dartmouth, big green', 1), ('charlottesville', 1), ('usc', 1), ('washington', 1), ('carnegie mellon university', 1), ('princeton', 1), ('rpi, rensselaer', 1), ('tufts university', 1), ('notre dame', 1), ('columbia university', 1), ('fairfield', 1), ('johns hopkins university', 1), ('harvard university', 1), ('new york university', 1), ('cleveland', 1), ('stanford', 1), ('georgia institute of technology-main campus', 1), ('boston college', 1)]\n"
     ]
    }
   ],
   "source": [
    "# as we already checked the tuples of training dialogues, also quickly analyze them\n",
    "train_slots = [t_sv[0] for t_sv in train_slotvalues]\n",
    "train_values = [t_sv[1] for t_sv in train_slotvalues]\n",
    "train_slot_counter = Counter(train_slots)\n",
    "train_value_counter = Counter(train_values)\n",
    "print(train_slot_counter.most_common())\n",
    "print(train_value_counter.most_common())"
   ]
  },
  {
   "cell_type": "markdown",
   "metadata": {},
   "source": [
    "Note: Originally I was thinking to exclude slot-value pairs from the test data (as they have been seen in the training data), but this would not be feasible as the majority of the dialogues consists of one and two turns. Thus the approach is just to generate automatic dialogues again (in the same way as for the creation of the training dialogues) and to hope that no dialogue already appears in the same way in the training data."
   ]
  },
  {
   "cell_type": "code",
   "execution_count": 24,
   "metadata": {},
   "outputs": [
    {
     "name": "stdout",
     "output_type": "stream",
     "text": [
      "error:  {'name': ['Tufts University', 'George Washington University', 'University of Chicago', 'Northeastern University', 'University of Michigan-Ann Arbor', 'University of Rochester', 'Princeton University', 'Wake Forest University', 'California Polytechnic State University-San Luis Obispo', 'Yale University', 'Michigan Technological University', 'Stanford University', 'University of San Diego', 'Massachusetts Institute of Technology', 'Villanova University', 'New York University', 'Brown University', 'Dartmouth College', 'Santa Clara University', 'Grand Canyon University', 'Northwestern University', 'University of California-Berkeley', 'University of Virginia-Main Campus', 'Drexel University', 'University of Southern California', 'Fairfield University', 'Pace University', 'Johns Hopkins University', 'Carnegie Mellon University', 'University of San Francisco', 'Vanderbilt University', 'Virginia Polytechnic Institute and State University', 'Harvard University', 'Southern Methodist University', 'Emory University', 'New Jersey Institute of Technology', 'Washington University in St Louis', 'Case Western Reserve University', 'Columbia University in the City of New York', 'Fordham University', 'Boston College', 'University of Pennsylvania', 'Lehigh University', 'Cornell University', 'Duke University', 'Georgia Institute of Technology-Main Campus', 'University of Notre Dame', 'Rensselaer Polytechnic Institute', 'Georgetown University'], 'alias': ['CWRU|Case|Case Western Reserve', 'Cal Poly', 'MIT, M.I.T.', 'Columbia University', 'USC', 'Michigan Tech|MTU|Michigan Tech University|Mich Tech|Michigan Technological Univ|Michigan Tech Univ|MT', 'Dartmouth, Big Green', 'University of Virginia  UVa  UVA', 'GCU', 'nan', 'Georgetown|GU', 'Georgia Tech', 'RPI, Rensselaer', 'SCU', 'Pace University', 'SMU', 'UC Berkeley', 'NJIT', 'WashU', 'Drexel', 'Johns Hopkins', 'Penn, U of PA, U-Penn, U of P, Pennsylvania, UPenn, Pennsylvania University, University of Pennsylvania, Wharton, Wharton School of Business', 'USD', 'U of Michigan|U of M|Univ of Michigan|U Michigan Ann Arbor|University of Michigan Ann Arbor', 'Carnegie Mellon; CMU', 'Notre Dame | Fighting Irish | ND', 'GWU|GW'], 'city': ['San Diego', 'Providence', 'Bethlehem', 'Cleveland', 'Newark', 'Bronx', 'San Francisco', 'Pittsburgh', 'Troy', 'Ithaca', 'New Haven', 'Charlottesville', 'Fairfield', 'Medford', 'Villanova', 'Blacksburg', 'Cambridge', 'Baltimore', 'New York', 'Ann Arbor', 'Boston', 'Evanston', 'Dallas', 'Los Angeles', 'Chicago', 'San Luis Obispo', 'Phoenix', 'Princeton', 'Winston-Salem', 'Hanover', 'Philadelphia', 'Berkeley', 'Stanford', 'Chestnut Hill', 'Durham', 'Nashville', 'Notre Dame', 'Saint Louis', 'Santa Clara', 'Washington', 'Houghton', 'Atlanta'], 'state': ['Michigan', 'North Carolina', 'Washington, DC', 'Missouri', 'Pennsylvania', 'New Hampshire', 'New Jersey', 'Ohio', 'Massachusetts', 'Georgia', 'Indiana', 'Maryland', 'New York', 'Virginia', 'California', 'Tennessee', 'Connecticut', 'Rhode Island', 'Illinois', 'Arizona', 'Texas'], 'region': ['Far West', 'Plains', 'Southwest', 'Southeast', 'New England', 'Great Lakes', 'Mid East'], 'control': ['private', 'public'], 'architecture': ['1'], 'journalism': ['0', '1'], 'education': ['0', '1'], 'engineering': ['0', '1'], 'linguistics': ['1'], 'law': ['0'], 'mathematics': ['0', '1'], 'philosophy': ['0', '1'], 'physics': ['1'], 'psychology': ['0', '1'], 'social sciences': ['0', '1'], 'health': ['0', '1'], 'business': ['0', '1'], 'history': ['0']}\n",
      "error:  {'name': ['Tufts University', 'George Washington University', 'University of Chicago', 'Northeastern University', 'University of Michigan-Ann Arbor', 'University of Rochester', 'Princeton University', 'California Polytechnic State University-San Luis Obispo', 'Yale University', 'Michigan Technological University', 'Stanford University', 'University of San Diego', 'Massachusetts Institute of Technology', 'Villanova University', 'New York University', 'Brown University', 'Dartmouth College', 'Santa Clara University', 'Grand Canyon University', 'Northwestern University', 'University of California-Berkeley', 'University of Virginia-Main Campus', 'Drexel University', 'University of Southern California', 'Fairfield University', 'Pace University', 'Johns Hopkins University', 'Carnegie Mellon University', 'University of San Francisco', 'Vanderbilt University', 'Virginia Polytechnic Institute and State University', 'Harvard University', 'Southern Methodist University', 'Emory University', 'New Jersey Institute of Technology', 'Washington University in St Louis', 'Columbia University in the City of New York', 'Fordham University', 'Boston College', 'University of Pennsylvania', 'Lehigh University', 'Cornell University', 'Duke University', 'Georgia Institute of Technology-Main Campus', 'University of Notre Dame', 'Rensselaer Polytechnic Institute', 'Georgetown University'], 'alias': ['CWRU|Case|Case Western Reserve', 'Cal Poly', 'MIT, M.I.T.', 'Columbia University', 'USC', 'Michigan Tech|MTU|Michigan Tech University|Mich Tech|Michigan Technological Univ|Michigan Tech Univ|MT', 'Dartmouth, Big Green', 'University of Virginia  UVa  UVA', 'GCU', 'nan', 'Georgetown|GU', 'Georgia Tech', 'RPI, Rensselaer', 'SCU', 'Pace University', 'SMU', 'UC Berkeley', 'NJIT', 'WashU', 'Drexel', 'Johns Hopkins', 'Penn, U of PA, U-Penn, U of P, Pennsylvania, UPenn, Pennsylvania University, University of Pennsylvania, Wharton, Wharton School of Business', 'USD', 'U of Michigan|U of M|Univ of Michigan|U Michigan Ann Arbor|University of Michigan Ann Arbor', 'Carnegie Mellon; CMU', 'Notre Dame | Fighting Irish | ND', 'GWU|GW'], 'city': ['San Diego', 'Providence', 'Bethlehem', 'Cleveland', 'Newark', 'Bronx', 'San Francisco', 'Pittsburgh', 'Troy', 'Ithaca', 'New Haven', 'Charlottesville', 'Fairfield', 'Medford', 'Villanova', 'Blacksburg', 'Cambridge', 'Baltimore', 'New York', 'Ann Arbor', 'Boston', 'Evanston', 'Dallas', 'Los Angeles', 'Chicago', 'San Luis Obispo', 'Phoenix', 'Princeton', 'Winston-Salem', 'Hanover', 'Philadelphia', 'Berkeley', 'Stanford', 'Chestnut Hill', 'Durham', 'Nashville', 'Notre Dame', 'Saint Louis', 'Santa Clara', 'Washington', 'Houghton', 'Atlanta'], 'state': ['Michigan', 'North Carolina', 'Washington, DC', 'Missouri', 'Pennsylvania', 'New Hampshire', 'Ohio', 'Massachusetts', 'Georgia', 'Indiana', 'Maryland', 'New York', 'Virginia', 'California', 'Tennessee', 'Connecticut', 'Rhode Island', 'Illinois', 'Arizona', 'Texas'], 'region': ['Plains', 'Southwest', 'Southeast', 'New England', 'Great Lakes', 'Mid East'], 'control': ['private', 'public'], 'architecture': ['1'], 'education': ['1'], 'linguistics': ['1'], 'law': ['0'], 'mathematics': ['1'], 'philosophy': ['0', '1'], 'physics': ['1'], 'psychology': ['1'], 'social sciences': ['1'], 'health': ['0'], 'business': ['0', '1']}\n",
      "error:  {'name': ['Tufts University', 'George Washington University', 'University of Chicago', 'Northeastern University', 'University of Michigan-Ann Arbor', 'University of Rochester', 'Princeton University', 'California Polytechnic State University-San Luis Obispo', 'Yale University', 'Michigan Technological University', 'Stanford University', 'University of San Diego', 'Massachusetts Institute of Technology', 'Villanova University', 'New York University', 'Brown University', 'Dartmouth College', 'Santa Clara University', 'Grand Canyon University', 'Northwestern University', 'University of California-Berkeley', 'Drexel University', 'University of Southern California', 'Fairfield University', 'Pace University', 'Johns Hopkins University', 'Carnegie Mellon University', 'University of San Francisco', 'Vanderbilt University', 'Virginia Polytechnic Institute and State University', 'Southern Methodist University', 'Emory University', 'New Jersey Institute of Technology', 'Washington University in St Louis', 'Columbia University in the City of New York', 'Fordham University', 'Boston College', 'University of Pennsylvania', 'Lehigh University', 'Cornell University', 'Duke University', 'Georgia Institute of Technology-Main Campus', 'University of Notre Dame', 'Rensselaer Polytechnic Institute', 'Georgetown University'], 'alias': ['CWRU|Case|Case Western Reserve', 'Cal Poly', 'MIT, M.I.T.', 'Columbia University', 'USC', 'Michigan Tech|MTU|Michigan Tech University|Mich Tech|Michigan Technological Univ|Michigan Tech Univ|MT', 'Dartmouth, Big Green', 'University of Virginia  UVa  UVA', 'GCU', 'nan', 'Georgetown|GU', 'Georgia Tech', 'RPI, Rensselaer', 'SCU', 'Pace University', 'SMU', 'UC Berkeley', 'NJIT', 'WashU', 'Drexel', 'Johns Hopkins', 'Penn, U of PA, U-Penn, U of P, Pennsylvania, UPenn, Pennsylvania University, University of Pennsylvania, Wharton, Wharton School of Business', 'USD', 'U of Michigan|U of M|Univ of Michigan|U Michigan Ann Arbor|University of Michigan Ann Arbor', 'Carnegie Mellon; CMU', 'GWU|GW'], 'city': ['Providence', 'Bethlehem', 'Cleveland', 'Newark', 'Bronx', 'Pittsburgh', 'Troy', 'Ithaca', 'New Haven', 'Charlottesville', 'Fairfield', 'Medford', 'Villanova', 'Blacksburg', 'Cambridge', 'Baltimore', 'New York', 'Ann Arbor', 'Boston', 'Evanston', 'Dallas', 'Los Angeles', 'Chicago', 'San Luis Obispo', 'Phoenix', 'Princeton', 'Winston-Salem', 'Hanover', 'Philadelphia', 'Berkeley', 'Stanford', 'Chestnut Hill', 'Durham', 'Nashville', 'Notre Dame', 'Saint Louis', 'Santa Clara', 'Washington', 'Houghton', 'Atlanta'], 'state': ['Michigan', 'North Carolina', 'Washington, DC', 'Pennsylvania', 'New Hampshire', 'Ohio', 'Massachusetts', 'Georgia', 'Indiana', 'Maryland', 'New York', 'Virginia', 'California', 'Tennessee', 'Connecticut', 'Rhode Island', 'Illinois', 'Arizona', 'Texas'], 'region': ['Southwest', 'New England', 'Great Lakes'], 'business': ['0']}\n",
      "error:  {'name': ['Tufts University', 'George Washington University', 'University of Chicago', 'Northeastern University', 'University of Michigan-Ann Arbor', 'University of Rochester', 'Princeton University', 'California Polytechnic State University-San Luis Obispo', 'Yale University', 'Michigan Technological University', 'Stanford University', 'University of San Diego', 'Massachusetts Institute of Technology', 'Villanova University', 'New York University', 'Brown University', 'Dartmouth College', 'Santa Clara University', 'Grand Canyon University', 'Northwestern University', 'University of California-Berkeley', 'Drexel University', 'University of Southern California', 'Fairfield University', 'Pace University', 'Johns Hopkins University', 'Carnegie Mellon University', 'University of San Francisco', 'Vanderbilt University', 'Virginia Polytechnic Institute and State University', 'Southern Methodist University', 'Emory University', 'New Jersey Institute of Technology', 'Washington University in St Louis', 'Columbia University in the City of New York', 'Fordham University', 'Boston College', 'University of Pennsylvania', 'Lehigh University', 'Cornell University', 'Duke University', 'Georgia Institute of Technology-Main Campus', 'University of Notre Dame', 'Rensselaer Polytechnic Institute', 'Georgetown University'], 'alias': ['CWRU|Case|Case Western Reserve', 'Cal Poly', 'MIT, M.I.T.', 'Columbia University', 'USC', 'Michigan Tech|MTU|Michigan Tech University|Mich Tech|Michigan Technological Univ|Michigan Tech Univ|MT', 'Dartmouth, Big Green', 'University of Virginia  UVa  UVA', 'GCU', 'nan', 'Georgetown|GU', 'Georgia Tech', 'RPI, Rensselaer', 'SCU', 'Pace University', 'SMU', 'UC Berkeley', 'NJIT', 'WashU', 'Drexel', 'Johns Hopkins', 'Penn, U of PA, U-Penn, U of P, Pennsylvania, UPenn, Pennsylvania University, University of Pennsylvania, Wharton, Wharton School of Business', 'USD', 'U of Michigan|U of M|Univ of Michigan|U Michigan Ann Arbor|University of Michigan Ann Arbor', 'Carnegie Mellon; CMU', 'GWU|GW'], 'city': ['Providence', 'Bethlehem', 'Cleveland', 'Newark', 'Bronx', 'Pittsburgh', 'Troy', 'Ithaca', 'New Haven', 'Charlottesville', 'Fairfield', 'Medford', 'Villanova', 'Blacksburg', 'Cambridge', 'Baltimore', 'New York', 'Ann Arbor', 'Boston', 'Evanston', 'Dallas', 'Los Angeles', 'Chicago', 'San Luis Obispo', 'Phoenix', 'Princeton', 'Winston-Salem', 'Hanover', 'Philadelphia', 'Berkeley', 'Stanford', 'Chestnut Hill', 'Durham', 'Nashville', 'Notre Dame', 'Saint Louis', 'Santa Clara', 'Washington', 'Houghton', 'Atlanta'], 'state': ['Michigan', 'North Carolina', 'Washington, DC', 'Pennsylvania', 'New Hampshire', 'Ohio', 'Massachusetts', 'Georgia', 'Indiana', 'Maryland', 'New York', 'Virginia', 'California', 'Tennessee', 'Connecticut', 'Rhode Island', 'Illinois', 'Arizona', 'Texas'], 'region': ['Southwest', 'New England', 'Great Lakes'], 'business': ['0']}\n",
      "error:  {'name': ['George Washington University', 'University of Chicago', 'Northeastern University', 'University of Michigan-Ann Arbor', 'University of Rochester', 'Princeton University', 'California Polytechnic State University-San Luis Obispo', 'Yale University', 'Michigan Technological University', 'Stanford University', 'University of San Diego', 'Massachusetts Institute of Technology', 'Villanova University', 'New York University', 'Brown University', 'Dartmouth College', 'Santa Clara University', 'Grand Canyon University', 'Northwestern University', 'University of California-Berkeley', 'Drexel University', 'University of Southern California', 'Fairfield University', 'Pace University', 'Johns Hopkins University', 'Carnegie Mellon University', 'University of San Francisco', 'Vanderbilt University', 'Virginia Polytechnic Institute and State University', 'Southern Methodist University', 'Emory University', 'New Jersey Institute of Technology', 'Washington University in St Louis', 'Columbia University in the City of New York', 'Fordham University', 'Boston College', 'University of Pennsylvania', 'Lehigh University', 'Cornell University', 'Duke University', 'Georgia Institute of Technology-Main Campus', 'University of Notre Dame', 'Rensselaer Polytechnic Institute', 'Georgetown University'], 'alias': ['CWRU|Case|Case Western Reserve', 'Cal Poly', 'MIT, M.I.T.', 'Columbia University', 'USC', 'Michigan Tech|MTU|Michigan Tech University|Mich Tech|Michigan Technological Univ|Michigan Tech Univ|MT', 'Dartmouth, Big Green', 'University of Virginia  UVa  UVA', 'GCU', 'nan', 'Georgetown|GU', 'Georgia Tech', 'RPI, Rensselaer', 'SCU', 'Pace University', 'SMU', 'UC Berkeley', 'NJIT', 'WashU', 'Drexel', 'Johns Hopkins', 'Penn, U of PA, U-Penn, U of P, Pennsylvania, UPenn, Pennsylvania University, University of Pennsylvania, Wharton, Wharton School of Business', 'USD', 'U of Michigan|U of M|Univ of Michigan|U Michigan Ann Arbor|University of Michigan Ann Arbor', 'Carnegie Mellon; CMU', 'GWU|GW'], 'city': ['Providence', 'Bethlehem', 'Cleveland', 'Newark', 'Bronx', 'Pittsburgh', 'Troy', 'Ithaca', 'New Haven', 'Charlottesville', 'Fairfield', 'Medford', 'Villanova', 'Blacksburg', 'Cambridge', 'Baltimore', 'New York', 'Ann Arbor', 'Boston', 'Evanston', 'Dallas', 'Los Angeles', 'Chicago', 'San Luis Obispo', 'Phoenix', 'Princeton', 'Winston-Salem', 'Hanover', 'Philadelphia', 'Berkeley', 'Stanford', 'Chestnut Hill', 'Durham', 'Nashville', 'Notre Dame', 'Saint Louis', 'Santa Clara', 'Washington', 'Houghton', 'Atlanta'], 'state': ['Michigan', 'Washington, DC', 'Pennsylvania', 'New Hampshire', 'Ohio', 'Massachusetts', 'Georgia', 'Indiana', 'Maryland', 'New York', 'Virginia', 'California', 'Tennessee', 'Connecticut', 'Rhode Island', 'Illinois', 'Arizona', 'Texas'], 'region': ['Southwest', 'Great Lakes']}\n",
      "error:  {'name': ['George Washington University', 'University of Chicago', 'Northeastern University', 'University of Michigan-Ann Arbor', 'University of Rochester', 'Princeton University', 'California Polytechnic State University-San Luis Obispo', 'Yale University', 'Michigan Technological University', 'Stanford University', 'University of San Diego', 'Massachusetts Institute of Technology', 'Villanova University', 'New York University', 'Brown University', 'Dartmouth College', 'Santa Clara University', 'Grand Canyon University', 'Northwestern University', 'University of California-Berkeley', 'Drexel University', 'University of Southern California', 'Fairfield University', 'Pace University', 'Johns Hopkins University', 'Carnegie Mellon University', 'University of San Francisco', 'Vanderbilt University', 'Virginia Polytechnic Institute and State University', 'Southern Methodist University', 'Emory University', 'New Jersey Institute of Technology', 'Washington University in St Louis', 'Columbia University in the City of New York', 'Fordham University', 'Boston College', 'University of Pennsylvania', 'Lehigh University', 'Cornell University', 'Duke University', 'Georgia Institute of Technology-Main Campus', 'University of Notre Dame', 'Rensselaer Polytechnic Institute', 'Georgetown University'], 'alias': ['CWRU|Case|Case Western Reserve', 'Cal Poly', 'MIT, M.I.T.', 'Columbia University', 'USC', 'Michigan Tech|MTU|Michigan Tech University|Mich Tech|Michigan Technological Univ|Michigan Tech Univ|MT', 'Dartmouth, Big Green', 'University of Virginia  UVa  UVA', 'GCU', 'nan', 'Georgetown|GU', 'Georgia Tech', 'RPI, Rensselaer', 'SCU', 'Pace University', 'SMU', 'UC Berkeley', 'NJIT', 'WashU', 'Drexel', 'Johns Hopkins', 'Penn, U of PA, U-Penn, U of P, Pennsylvania, UPenn, Pennsylvania University, University of Pennsylvania, Wharton, Wharton School of Business', 'USD', 'U of Michigan|U of M|Univ of Michigan|U Michigan Ann Arbor|University of Michigan Ann Arbor', 'Carnegie Mellon; CMU', 'GWU|GW'], 'city': ['Providence', 'Bethlehem', 'Cleveland', 'Newark', 'Bronx', 'Pittsburgh', 'Troy', 'Ithaca', 'New Haven', 'Charlottesville', 'Fairfield', 'Medford', 'Villanova', 'Blacksburg', 'Cambridge', 'Baltimore', 'New York', 'Ann Arbor', 'Boston', 'Evanston', 'Dallas', 'Los Angeles', 'Chicago', 'San Luis Obispo', 'Phoenix', 'Princeton', 'Winston-Salem', 'Hanover', 'Philadelphia', 'Berkeley', 'Stanford', 'Chestnut Hill', 'Durham', 'Nashville', 'Notre Dame', 'Saint Louis', 'Santa Clara', 'Washington', 'Atlanta'], 'state': ['Michigan', 'Washington, DC', 'Pennsylvania', 'New Hampshire', 'Ohio', 'Massachusetts', 'Georgia', 'Indiana', 'Maryland', 'New York', 'Virginia', 'California', 'Tennessee', 'Connecticut', 'Rhode Island', 'Illinois', 'Arizona', 'Texas'], 'region': ['Great Lakes']}\n",
      "error:  {'name': ['George Washington University', 'University of Chicago', 'Northeastern University', 'University of Michigan-Ann Arbor', 'University of Rochester', 'Princeton University', 'California Polytechnic State University-San Luis Obispo', 'Yale University', 'Stanford University', 'University of San Diego', 'Massachusetts Institute of Technology', 'Villanova University', 'New York University', 'Brown University', 'Dartmouth College', 'Santa Clara University', 'Grand Canyon University', 'Northwestern University', 'University of California-Berkeley', 'Drexel University', 'University of Southern California', 'Fairfield University', 'Pace University', 'Johns Hopkins University', 'Carnegie Mellon University', 'University of San Francisco', 'Vanderbilt University', 'Virginia Polytechnic Institute and State University', 'Southern Methodist University', 'Emory University', 'New Jersey Institute of Technology', 'Washington University in St Louis', 'Columbia University in the City of New York', 'Fordham University', 'Boston College', 'Lehigh University', 'Cornell University', 'Duke University', 'Georgia Institute of Technology-Main Campus', 'University of Notre Dame', 'Georgetown University'], 'alias': ['CWRU|Case|Case Western Reserve', 'Cal Poly', 'MIT, M.I.T.', 'Columbia University', 'USC', 'Michigan Tech|MTU|Michigan Tech University|Mich Tech|Michigan Technological Univ|Michigan Tech Univ|MT', 'University of Virginia  UVa  UVA', 'GCU', 'nan', 'Georgetown|GU', 'Georgia Tech', 'SCU', 'Pace University', 'SMU', 'UC Berkeley', 'NJIT', 'WashU', 'Drexel', 'Johns Hopkins', 'Penn, U of PA, U-Penn, U of P, Pennsylvania, UPenn, Pennsylvania University, University of Pennsylvania, Wharton, Wharton School of Business', 'U of Michigan|U of M|Univ of Michigan|U Michigan Ann Arbor|University of Michigan Ann Arbor', 'Carnegie Mellon; CMU', 'GWU|GW'], 'city': ['Providence', 'Bethlehem', 'Cleveland', 'Newark', 'Bronx', 'Pittsburgh', 'Troy', 'Ithaca', 'New Haven', 'Charlottesville', 'Fairfield', 'Medford', 'Villanova', 'Blacksburg', 'Cambridge', 'Baltimore', 'New York', 'Ann Arbor', 'Boston', 'Evanston', 'Dallas', 'Los Angeles', 'Chicago', 'San Luis Obispo', 'Phoenix', 'Princeton', 'Winston-Salem', 'Hanover', 'Philadelphia', 'Berkeley', 'Stanford', 'Chestnut Hill', 'Durham', 'Nashville', 'Notre Dame', 'Saint Louis', 'Santa Clara', 'Washington', 'Atlanta'], 'state': ['Washington, DC', 'Pennsylvania', 'New Hampshire', 'Ohio', 'Massachusetts', 'Georgia', 'Indiana', 'Maryland', 'New York', 'Virginia', 'California', 'Connecticut', 'Rhode Island', 'Illinois', 'Arizona', 'Texas'], 'region': ['Great Lakes']}\n",
      "error:  {'name': ['George Washington University', 'University of Chicago', 'Northeastern University', 'University of Michigan-Ann Arbor', 'University of Rochester', 'Princeton University', 'California Polytechnic State University-San Luis Obispo', 'Yale University', 'Stanford University', 'University of San Diego', 'Massachusetts Institute of Technology', 'Villanova University', 'New York University', 'Brown University', 'Dartmouth College', 'Santa Clara University', 'Grand Canyon University', 'Northwestern University', 'University of California-Berkeley', 'Drexel University', 'University of Southern California', 'Fairfield University', 'Pace University', 'Johns Hopkins University', 'Carnegie Mellon University', 'University of San Francisco', 'Vanderbilt University', 'Virginia Polytechnic Institute and State University', 'Southern Methodist University', 'Emory University', 'New Jersey Institute of Technology', 'Washington University in St Louis', 'Columbia University in the City of New York', 'Fordham University', 'Boston College', 'Lehigh University', 'Cornell University', 'Duke University', 'Georgia Institute of Technology-Main Campus', 'University of Notre Dame', 'Georgetown University'], 'alias': ['CWRU|Case|Case Western Reserve', 'Cal Poly', 'MIT, M.I.T.', 'Columbia University', 'USC', 'Michigan Tech|MTU|Michigan Tech University|Mich Tech|Michigan Technological Univ|Michigan Tech Univ|MT', 'University of Virginia  UVa  UVA', 'nan', 'Georgetown|GU', 'Georgia Tech', 'SCU', 'Pace University', 'SMU', 'UC Berkeley', 'NJIT', 'WashU', 'Drexel', 'Johns Hopkins', 'Penn, U of PA, U-Penn, U of P, Pennsylvania, UPenn, Pennsylvania University, University of Pennsylvania, Wharton, Wharton School of Business', 'U of Michigan|U of M|Univ of Michigan|U Michigan Ann Arbor|University of Michigan Ann Arbor', 'Carnegie Mellon; CMU', 'GWU|GW'], 'city': ['Providence', 'Bethlehem', 'Cleveland', 'Newark', 'Bronx', 'Pittsburgh', 'Troy', 'Ithaca', 'New Haven', 'Charlottesville', 'Fairfield', 'Medford', 'Villanova', 'Blacksburg', 'Cambridge', 'Baltimore', 'New York', 'Ann Arbor', 'Boston', 'Evanston', 'Dallas', 'Los Angeles', 'Chicago', 'San Luis Obispo', 'Phoenix', 'Princeton', 'Winston-Salem', 'Hanover', 'Philadelphia', 'Berkeley', 'Stanford', 'Chestnut Hill', 'Durham', 'Nashville', 'Notre Dame', 'Saint Louis', 'Santa Clara', 'Washington', 'Atlanta'], 'state': ['Washington, DC', 'Pennsylvania', 'New Hampshire', 'Ohio', 'Massachusetts', 'Georgia', 'Indiana', 'Maryland', 'New York', 'Virginia', 'California', 'Connecticut', 'Rhode Island', 'Illinois', 'Arizona', 'Texas'], 'region': ['Great Lakes']}\n",
      "error:  {'name': ['George Washington University', 'University of Chicago', 'Northeastern University', 'University of Michigan-Ann Arbor', 'University of Rochester', 'Princeton University', 'California Polytechnic State University-San Luis Obispo', 'Yale University', 'Stanford University', 'University of San Diego', 'Massachusetts Institute of Technology', 'Villanova University', 'New York University', 'Brown University', 'Dartmouth College', 'Santa Clara University', 'Grand Canyon University', 'Northwestern University', 'University of California-Berkeley', 'Drexel University', 'University of Southern California', 'Fairfield University', 'Pace University', 'Johns Hopkins University', 'Carnegie Mellon University', 'University of San Francisco', 'Vanderbilt University', 'Virginia Polytechnic Institute and State University', 'Southern Methodist University', 'Emory University', 'New Jersey Institute of Technology', 'Washington University in St Louis', 'Columbia University in the City of New York', 'Fordham University', 'Boston College', 'Lehigh University', 'Cornell University', 'Duke University', 'Georgia Institute of Technology-Main Campus', 'University of Notre Dame', 'Georgetown University'], 'alias': ['CWRU|Case|Case Western Reserve', 'Cal Poly', 'MIT, M.I.T.', 'Columbia University', 'USC', 'Michigan Tech|MTU|Michigan Tech University|Mich Tech|Michigan Technological Univ|Michigan Tech Univ|MT', 'nan', 'Georgetown|GU', 'Georgia Tech', 'SCU', 'Pace University', 'SMU', 'UC Berkeley', 'NJIT', 'WashU', 'Drexel', 'Johns Hopkins', 'Penn, U of PA, U-Penn, U of P, Pennsylvania, UPenn, Pennsylvania University, University of Pennsylvania, Wharton, Wharton School of Business', 'U of Michigan|U of M|Univ of Michigan|U Michigan Ann Arbor|University of Michigan Ann Arbor', 'Carnegie Mellon; CMU', 'GWU|GW'], 'city': ['Providence', 'Bethlehem', 'Cleveland', 'Newark', 'Bronx', 'Pittsburgh', 'Troy', 'Ithaca', 'New Haven', 'Charlottesville', 'Fairfield', 'Medford', 'Villanova', 'Blacksburg', 'Cambridge', 'Baltimore', 'New York', 'Ann Arbor', 'Boston', 'Evanston', 'Dallas', 'Los Angeles', 'Chicago', 'San Luis Obispo', 'Phoenix', 'Princeton', 'Winston-Salem', 'Hanover', 'Philadelphia', 'Berkeley', 'Stanford', 'Chestnut Hill', 'Durham', 'Nashville', 'Notre Dame', 'Saint Louis', 'Santa Clara', 'Washington', 'Atlanta'], 'state': ['Washington, DC', 'Pennsylvania', 'New Hampshire', 'Ohio', 'Massachusetts', 'Georgia', 'Indiana', 'New York', 'Virginia', 'California', 'Connecticut', 'Rhode Island', 'Illinois', 'Arizona', 'Texas']}\n",
      "error:  {'name': ['George Washington University', 'University of Chicago', 'University of Rochester', 'Princeton University', 'California Polytechnic State University-San Luis Obispo', 'Stanford University', 'University of San Diego', 'Massachusetts Institute of Technology', 'Villanova University', 'New York University', 'Brown University', 'Dartmouth College', 'Santa Clara University', 'Northwestern University', 'University of California-Berkeley', 'Drexel University', 'University of Southern California', 'Fairfield University', 'Pace University', 'Johns Hopkins University', 'Carnegie Mellon University', 'University of San Francisco', 'Vanderbilt University', 'Virginia Polytechnic Institute and State University', 'Southern Methodist University', 'Emory University', 'New Jersey Institute of Technology', 'Washington University in St Louis', 'Columbia University in the City of New York', 'Fordham University', 'Boston College', 'Lehigh University', 'Cornell University', 'Duke University', 'Georgia Institute of Technology-Main Campus', 'University of Notre Dame', 'Georgetown University'], 'alias': ['CWRU|Case|Case Western Reserve', 'Cal Poly', 'MIT, M.I.T.', 'Columbia University', 'USC', 'Michigan Tech|MTU|Michigan Tech University|Mich Tech|Michigan Technological Univ|Michigan Tech Univ|MT', 'nan', 'Georgetown|GU', 'Georgia Tech', 'SCU', 'Pace University', 'SMU', 'UC Berkeley', 'NJIT', 'WashU', 'Drexel', 'Johns Hopkins', 'Penn, U of PA, U-Penn, U of P, Pennsylvania, UPenn, Pennsylvania University, University of Pennsylvania, Wharton, Wharton School of Business', 'U of Michigan|U of M|Univ of Michigan|U Michigan Ann Arbor|University of Michigan Ann Arbor', 'Carnegie Mellon; CMU', 'GWU|GW'], 'city': ['Providence', 'Bethlehem', 'Newark', 'Bronx', 'Troy', 'Ithaca', 'New Haven', 'Fairfield', 'Medford', 'Villanova', 'Blacksburg', 'Cambridge', 'Baltimore', 'New York', 'Ann Arbor', 'Boston', 'Dallas', 'Los Angeles', 'Chicago', 'San Luis Obispo', 'Princeton', 'Winston-Salem', 'Hanover', 'Philadelphia', 'Berkeley', 'Stanford', 'Durham', 'Nashville', 'Notre Dame', 'Saint Louis', 'Santa Clara', 'Washington', 'Atlanta'], 'state': ['Washington, DC', 'Pennsylvania', 'New Hampshire', 'Ohio', 'Georgia', 'New York', 'Virginia', 'California', 'Rhode Island', 'Illinois', 'Texas']}\n",
      "error:  {'name': ['George Washington University', 'University of Chicago', 'University of Rochester', 'Princeton University', 'California Polytechnic State University-San Luis Obispo', 'Stanford University', 'University of San Diego', 'Massachusetts Institute of Technology', 'Villanova University', 'New York University', 'Brown University', 'Dartmouth College', 'Santa Clara University', 'Northwestern University', 'University of California-Berkeley', 'Drexel University', 'University of Southern California', 'Fairfield University', 'Pace University', 'Johns Hopkins University', 'Carnegie Mellon University', 'University of San Francisco', 'Vanderbilt University', 'Virginia Polytechnic Institute and State University', 'Southern Methodist University', 'Emory University', 'New Jersey Institute of Technology', 'Washington University in St Louis', 'Columbia University in the City of New York', 'Fordham University', 'Boston College', 'Lehigh University', 'Cornell University', 'Duke University', 'Georgia Institute of Technology-Main Campus', 'University of Notre Dame', 'Georgetown University'], 'alias': ['CWRU|Case|Case Western Reserve', 'Cal Poly', 'MIT, M.I.T.', 'Columbia University', 'USC', 'Michigan Tech|MTU|Michigan Tech University|Mich Tech|Michigan Technological Univ|Michigan Tech Univ|MT', 'nan', 'Georgetown|GU', 'Georgia Tech', 'SCU', 'Pace University', 'SMU', 'UC Berkeley', 'NJIT', 'WashU', 'Drexel', 'Johns Hopkins', 'Penn, U of PA, U-Penn, U of P, Pennsylvania, UPenn, Pennsylvania University, University of Pennsylvania, Wharton, Wharton School of Business', 'U of Michigan|U of M|Univ of Michigan|U Michigan Ann Arbor|University of Michigan Ann Arbor', 'Carnegie Mellon; CMU', 'GWU|GW'], 'city': ['Providence', 'Bethlehem', 'Newark', 'Bronx', 'Troy', 'Ithaca', 'New Haven', 'Fairfield', 'Medford', 'Villanova', 'Blacksburg', 'Cambridge', 'Baltimore', 'New York', 'Ann Arbor', 'Boston', 'Dallas', 'Los Angeles', 'Chicago', 'San Luis Obispo', 'Princeton', 'Winston-Salem', 'Hanover', 'Philadelphia', 'Berkeley', 'Stanford', 'Durham', 'Nashville', 'Notre Dame', 'Saint Louis', 'Santa Clara', 'Washington', 'Atlanta'], 'state': ['Washington, DC', 'Pennsylvania', 'New Hampshire', 'Ohio', 'Georgia', 'New York', 'Virginia', 'California', 'Rhode Island', 'Illinois', 'Texas']}\n",
      "error:  {'name': ['George Washington University', 'University of Chicago', 'University of Rochester', 'Princeton University', 'California Polytechnic State University-San Luis Obispo', 'Stanford University', 'University of San Diego', 'Massachusetts Institute of Technology', 'Villanova University', 'New York University', 'Brown University', 'Dartmouth College', 'Santa Clara University', 'Northwestern University', 'University of California-Berkeley', 'Drexel University', 'University of Southern California', 'Fairfield University', 'Pace University', 'Johns Hopkins University', 'Carnegie Mellon University', 'University of San Francisco', 'Vanderbilt University', 'Virginia Polytechnic Institute and State University', 'Southern Methodist University', 'Emory University', 'New Jersey Institute of Technology', 'Washington University in St Louis', 'Columbia University in the City of New York', 'Fordham University', 'Boston College', 'Lehigh University', 'Cornell University', 'Duke University', 'Georgia Institute of Technology-Main Campus', 'University of Notre Dame', 'Georgetown University'], 'alias': ['CWRU|Case|Case Western Reserve', 'Cal Poly', 'MIT, M.I.T.', 'Columbia University', 'USC', 'Michigan Tech|MTU|Michigan Tech University|Mich Tech|Michigan Technological Univ|Michigan Tech Univ|MT', 'nan', 'Georgetown|GU', 'Georgia Tech', 'SCU', 'Pace University', 'SMU', 'UC Berkeley', 'NJIT', 'WashU', 'Drexel', 'Johns Hopkins', 'U of Michigan|U of M|Univ of Michigan|U Michigan Ann Arbor|University of Michigan Ann Arbor', 'Carnegie Mellon; CMU', 'GWU|GW'], 'city': ['Providence', 'Bethlehem', 'Newark', 'Bronx', 'Ithaca', 'New Haven', 'Fairfield', 'Medford', 'Villanova', 'Blacksburg', 'Cambridge', 'Baltimore', 'New York', 'Ann Arbor', 'Boston', 'Dallas', 'Los Angeles', 'Chicago', 'San Luis Obispo', 'Princeton', 'Winston-Salem', 'Hanover', 'Philadelphia', 'Berkeley', 'Stanford', 'Durham', 'Nashville', 'Notre Dame', 'Saint Louis', 'Santa Clara', 'Washington', 'Atlanta'], 'state': ['Washington, DC', 'Pennsylvania', 'New Hampshire', 'Ohio', 'Georgia', 'New York', 'Virginia', 'Rhode Island', 'Illinois', 'Texas']}\n",
      "error:  {'name': ['George Washington University', 'University of Chicago', 'Princeton University', 'California Polytechnic State University-San Luis Obispo', 'Stanford University', 'University of San Diego', 'Villanova University', 'New York University', 'Brown University', 'Dartmouth College', 'Santa Clara University', 'Northwestern University', 'University of California-Berkeley', 'Drexel University', 'University of Southern California', 'Fairfield University', 'Pace University', 'Johns Hopkins University', 'Carnegie Mellon University', 'University of San Francisco', 'Vanderbilt University', 'Virginia Polytechnic Institute and State University', 'Emory University', 'Washington University in St Louis', 'Columbia University in the City of New York', 'Fordham University', 'Lehigh University', 'Cornell University', 'Georgia Institute of Technology-Main Campus', 'University of Notre Dame', 'Georgetown University'], 'alias': ['CWRU|Case|Case Western Reserve', 'Cal Poly', 'MIT, M.I.T.', 'Columbia University', 'USC', 'Michigan Tech|MTU|Michigan Tech University|Mich Tech|Michigan Technological Univ|Michigan Tech Univ|MT', 'nan', 'Georgetown|GU', 'Georgia Tech', 'SCU', 'Pace University', 'SMU', 'UC Berkeley', 'NJIT', 'Drexel', 'Johns Hopkins', 'U of Michigan|U of M|Univ of Michigan|U Michigan Ann Arbor|University of Michigan Ann Arbor', 'Carnegie Mellon; CMU', 'GWU|GW'], 'city': ['Providence', 'Bethlehem', 'Bronx', 'Ithaca', 'Medford', 'Villanova', 'Blacksburg', 'Cambridge', 'Baltimore', 'Ann Arbor', 'Boston', 'Dallas', 'Chicago', 'Princeton', 'Winston-Salem', 'Hanover', 'Philadelphia', 'Berkeley', 'Stanford', 'Durham', 'Nashville', 'Notre Dame', 'Saint Louis', 'Santa Clara', 'Washington', 'Atlanta'], 'state': ['Pennsylvania', 'New Hampshire', 'Ohio', 'Georgia', 'New York', 'Rhode Island', 'Illinois', 'Texas']}\n",
      "error:  {'name': ['George Washington University', 'University of Chicago', 'Princeton University', 'California Polytechnic State University-San Luis Obispo', 'Stanford University', 'University of San Diego', 'Villanova University', 'New York University', 'Brown University', 'Dartmouth College', 'Santa Clara University', 'Northwestern University', 'University of California-Berkeley', 'Drexel University', 'University of Southern California', 'Fairfield University', 'Pace University', 'Johns Hopkins University', 'Carnegie Mellon University', 'University of San Francisco', 'Vanderbilt University', 'Virginia Polytechnic Institute and State University', 'Emory University', 'Washington University in St Louis', 'Columbia University in the City of New York', 'Fordham University', 'Lehigh University', 'Cornell University', 'Georgia Institute of Technology-Main Campus', 'University of Notre Dame', 'Georgetown University'], 'alias': ['CWRU|Case|Case Western Reserve', 'Cal Poly', 'MIT, M.I.T.', 'Columbia University', 'USC', 'Michigan Tech|MTU|Michigan Tech University|Mich Tech|Michigan Technological Univ|Michigan Tech Univ|MT', 'nan', 'Georgetown|GU', 'Georgia Tech', 'SCU', 'Pace University', 'SMU', 'UC Berkeley', 'NJIT', 'Drexel', 'U of Michigan|U of M|Univ of Michigan|U Michigan Ann Arbor|University of Michigan Ann Arbor', 'Carnegie Mellon; CMU', 'GWU|GW'], 'city': ['Providence', 'Bethlehem', 'Bronx', 'Ithaca', 'Medford', 'Villanova', 'Blacksburg', 'Cambridge', 'Baltimore', 'Ann Arbor', 'Boston', 'Dallas', 'Chicago', 'Princeton', 'Winston-Salem', 'Hanover', 'Philadelphia', 'Berkeley', 'Stanford', 'Durham', 'Nashville', 'Notre Dame', 'Saint Louis', 'Santa Clara', 'Washington', 'Atlanta'], 'state': ['Pennsylvania', 'New Hampshire', 'Ohio', 'Georgia', 'New York', 'Rhode Island', 'Illinois']}\n",
      "error:  {'name': ['George Washington University', 'University of Chicago', 'Princeton University', 'California Polytechnic State University-San Luis Obispo', 'Stanford University', 'University of San Diego', 'Villanova University', 'Brown University', 'Dartmouth College', 'Santa Clara University', 'Northwestern University', 'University of California-Berkeley', 'Drexel University', 'University of Southern California', 'Fairfield University', 'Pace University', 'Johns Hopkins University', 'Carnegie Mellon University', 'University of San Francisco', 'Vanderbilt University', 'Virginia Polytechnic Institute and State University', 'Emory University', 'Washington University in St Louis', 'Columbia University in the City of New York', 'Fordham University', 'Lehigh University', 'Cornell University', 'Georgia Institute of Technology-Main Campus', 'University of Notre Dame', 'Georgetown University'], 'alias': ['CWRU|Case|Case Western Reserve', 'MIT, M.I.T.', 'Columbia University', 'USC', 'Michigan Tech|MTU|Michigan Tech University|Mich Tech|Michigan Technological Univ|Michigan Tech Univ|MT', 'nan', 'Georgetown|GU', 'Georgia Tech', 'SCU', 'SMU', 'UC Berkeley', 'NJIT', 'Drexel', 'U of Michigan|U of M|Univ of Michigan|U Michigan Ann Arbor|University of Michigan Ann Arbor', 'Carnegie Mellon; CMU', 'GWU|GW'], 'city': ['Providence', 'Bethlehem', 'Bronx', 'Ithaca', 'Medford', 'Villanova', 'Blacksburg', 'Cambridge', 'Baltimore', 'Ann Arbor', 'Boston', 'Dallas', 'Chicago', 'Princeton', 'Winston-Salem', 'Hanover', 'Philadelphia', 'Berkeley', 'Stanford', 'Durham', 'Nashville', 'Notre Dame', 'Saint Louis', 'Santa Clara', 'Washington', 'Atlanta'], 'state': ['New Hampshire', 'Ohio', 'Georgia', 'New York', 'Rhode Island', 'Illinois']}\n",
      "error:  {'name': ['George Washington University', 'University of Chicago', 'Princeton University', 'California Polytechnic State University-San Luis Obispo', 'Stanford University', 'University of San Diego', 'Villanova University', 'Brown University', 'Dartmouth College', 'Santa Clara University', 'Northwestern University', 'University of California-Berkeley', 'Drexel University', 'University of Southern California', 'Fairfield University', 'Pace University', 'Johns Hopkins University', 'Carnegie Mellon University', 'University of San Francisco', 'Vanderbilt University', 'Virginia Polytechnic Institute and State University', 'Emory University', 'Washington University in St Louis', 'Columbia University in the City of New York', 'Fordham University', 'Lehigh University', 'Cornell University', 'Georgia Institute of Technology-Main Campus', 'University of Notre Dame', 'Georgetown University'], 'alias': ['CWRU|Case|Case Western Reserve', 'MIT, M.I.T.', 'Columbia University', 'USC', 'Michigan Tech|MTU|Michigan Tech University|Mich Tech|Michigan Technological Univ|Michigan Tech Univ|MT', 'nan', 'Georgetown|GU', 'Georgia Tech', 'SCU', 'SMU', 'UC Berkeley', 'NJIT', 'Drexel', 'U of Michigan|U of M|Univ of Michigan|U Michigan Ann Arbor|University of Michigan Ann Arbor', 'Carnegie Mellon; CMU', 'GWU|GW'], 'city': ['Providence', 'Bethlehem', 'Bronx', 'Ithaca', 'Medford', 'Villanova', 'Blacksburg', 'Cambridge', 'Baltimore', 'Ann Arbor', 'Boston', 'Dallas', 'Chicago', 'Princeton', 'Winston-Salem', 'Hanover', 'Philadelphia', 'Berkeley', 'Stanford', 'Durham', 'Nashville', 'Notre Dame', 'Saint Louis', 'Santa Clara', 'Washington', 'Atlanta'], 'state': ['Ohio', 'Georgia', 'New York', 'Rhode Island', 'Illinois']}\n",
      "error:  {'name': ['George Washington University', 'University of Chicago', 'Princeton University', 'California Polytechnic State University-San Luis Obispo', 'Stanford University', 'University of San Diego', 'Villanova University', 'Brown University', 'Dartmouth College', 'Santa Clara University', 'Northwestern University', 'University of California-Berkeley', 'Drexel University', 'University of Southern California', 'Fairfield University', 'Pace University', 'Johns Hopkins University', 'Carnegie Mellon University', 'University of San Francisco', 'Vanderbilt University', 'Virginia Polytechnic Institute and State University', 'Emory University', 'Washington University in St Louis', 'Columbia University in the City of New York', 'Fordham University', 'Lehigh University', 'Georgia Institute of Technology-Main Campus', 'Georgetown University'], 'alias': ['CWRU|Case|Case Western Reserve', 'MIT, M.I.T.', 'Columbia University', 'USC', 'Michigan Tech|MTU|Michigan Tech University|Mich Tech|Michigan Technological Univ|Michigan Tech Univ|MT', 'nan', 'Georgetown|GU', 'Georgia Tech', 'SCU', 'SMU', 'UC Berkeley', 'NJIT', 'Drexel', 'U of Michigan|U of M|Univ of Michigan|U Michigan Ann Arbor|University of Michigan Ann Arbor', 'Carnegie Mellon; CMU', 'GWU|GW'], 'city': ['Providence', 'Bethlehem', 'Bronx', 'Ithaca', 'Medford', 'Villanova', 'Blacksburg', 'Cambridge', 'Baltimore', 'Ann Arbor', 'Boston', 'Dallas', 'Chicago', 'Princeton', 'Winston-Salem', 'Hanover', 'Philadelphia', 'Berkeley', 'Stanford', 'Durham', 'Notre Dame', 'Saint Louis', 'Santa Clara', 'Washington', 'Atlanta'], 'state': ['Ohio', 'Georgia', 'New York', 'Rhode Island', 'Illinois']}\n",
      "error:  {'name': ['George Washington University', 'University of Chicago', 'Princeton University', 'California Polytechnic State University-San Luis Obispo', 'Stanford University', 'University of San Diego', 'Villanova University', 'Brown University', 'Dartmouth College', 'Santa Clara University', 'Northwestern University', 'University of California-Berkeley', 'Drexel University', 'University of Southern California', 'Fairfield University', 'Pace University', 'Johns Hopkins University', 'Carnegie Mellon University', 'University of San Francisco', 'Vanderbilt University', 'Virginia Polytechnic Institute and State University', 'Emory University', 'Washington University in St Louis', 'Columbia University in the City of New York', 'Fordham University', 'Lehigh University', 'Georgia Institute of Technology-Main Campus', 'Georgetown University'], 'alias': ['CWRU|Case|Case Western Reserve', 'MIT, M.I.T.', 'Columbia University', 'USC', 'Michigan Tech|MTU|Michigan Tech University|Mich Tech|Michigan Technological Univ|Michigan Tech Univ|MT', 'nan', 'Georgetown|GU', 'Georgia Tech', 'SCU', 'SMU', 'UC Berkeley', 'NJIT', 'Drexel', 'U of Michigan|U of M|Univ of Michigan|U Michigan Ann Arbor|University of Michigan Ann Arbor', 'Carnegie Mellon; CMU', 'GWU|GW'], 'city': ['Providence', 'Bethlehem', 'Bronx', 'Ithaca', 'Medford', 'Villanova', 'Blacksburg', 'Cambridge', 'Baltimore', 'Ann Arbor', 'Boston', 'Dallas', 'Chicago', 'Princeton', 'Winston-Salem', 'Hanover', 'Philadelphia', 'Berkeley', 'Stanford', 'Durham', 'Saint Louis', 'Santa Clara', 'Washington', 'Atlanta'], 'state': ['Ohio', 'Georgia', 'New York', 'Rhode Island', 'Illinois']}\n",
      "error:  {'name': ['George Washington University', 'University of Chicago', 'Princeton University', 'California Polytechnic State University-San Luis Obispo', 'Stanford University', 'University of San Diego', 'Villanova University', 'Brown University', 'Dartmouth College', 'Santa Clara University', 'Northwestern University', 'University of California-Berkeley', 'Drexel University', 'University of Southern California', 'Fairfield University', 'Johns Hopkins University', 'Carnegie Mellon University', 'University of San Francisco', 'Vanderbilt University', 'Virginia Polytechnic Institute and State University', 'Emory University', 'Washington University in St Louis', 'Columbia University in the City of New York', 'Fordham University', 'Lehigh University', 'Georgia Institute of Technology-Main Campus', 'Georgetown University'], 'alias': ['CWRU|Case|Case Western Reserve', 'Columbia University', 'USC', 'nan', 'Georgetown|GU', 'Georgia Tech', 'SMU', 'NJIT', 'Drexel', 'Carnegie Mellon; CMU', 'GWU|GW'], 'city': ['Providence', 'Bethlehem', 'Bronx', 'Ithaca', 'Medford', 'Villanova', 'Blacksburg', 'Cambridge', 'Baltimore', 'Ann Arbor', 'Boston', 'Dallas', 'Chicago', 'Princeton', 'Winston-Salem', 'Philadelphia', 'Berkeley', 'Stanford', 'Saint Louis', 'Santa Clara', 'Washington', 'Atlanta']}\n",
      "error:  {'name': ['George Washington University', 'Princeton University', 'California Polytechnic State University-San Luis Obispo', 'Stanford University', 'University of San Diego', 'Villanova University', 'Brown University', 'Santa Clara University', 'Northwestern University', 'University of California-Berkeley', 'Drexel University', 'University of Southern California', 'Fairfield University', 'Johns Hopkins University', 'Carnegie Mellon University', 'University of San Francisco', 'Vanderbilt University', 'Virginia Polytechnic Institute and State University', 'Emory University', 'Columbia University in the City of New York', 'Lehigh University', 'Georgia Institute of Technology-Main Campus', 'Georgetown University'], 'alias': ['CWRU|Case|Case Western Reserve', 'nan', 'Georgetown|GU', 'Georgia Tech', 'NJIT', 'Drexel'], 'city': ['Providence', 'Bethlehem', 'Bronx', 'Ithaca', 'Cambridge', 'Baltimore', 'Ann Arbor', 'Boston', 'Dallas', 'Chicago', 'Princeton', 'Philadelphia', 'Berkeley', 'Stanford', 'Washington', 'Atlanta']}\n",
      "error:  {'name': ['George Washington University', 'University of San Diego', 'Villanova University', 'Brown University', 'University of California-Berkeley', 'University of Southern California', 'Fairfield University', 'Johns Hopkins University', 'Carnegie Mellon University', 'Vanderbilt University', 'Virginia Polytechnic Institute and State University', 'Emory University', 'Columbia University in the City of New York', 'Lehigh University', 'Georgia Institute of Technology-Main Campus', 'Georgetown University'], 'city': ['Bethlehem', 'Bronx', 'Boston', 'Dallas', 'Chicago', 'Princeton', 'Berkeley', 'Stanford', 'Washington']}\n",
      "error:  {'name': ['University of San Diego', 'Villanova University', 'Brown University', 'University of California-Berkeley', 'University of Southern California', 'Fairfield University', 'Johns Hopkins University', 'Carnegie Mellon University', 'Virginia Polytechnic Institute and State University', 'Emory University', 'Columbia University in the City of New York', 'Lehigh University', 'Georgia Institute of Technology-Main Campus', 'Georgetown University'], 'city': ['Bethlehem', 'Boston', 'Dallas', 'Chicago', 'Princeton', 'Berkeley', 'Stanford', 'Washington']}\n",
      "error:  {'name': ['University of San Diego', 'Villanova University', 'Brown University', 'University of California-Berkeley', 'University of Southern California', 'Fairfield University', 'Johns Hopkins University', 'Carnegie Mellon University', 'Virginia Polytechnic Institute and State University', 'Emory University', 'Columbia University in the City of New York', 'Lehigh University', 'Georgia Institute of Technology-Main Campus', 'Georgetown University'], 'city': ['Bethlehem', 'Boston', 'Dallas', 'Chicago', 'Berkeley', 'Stanford', 'Washington']}\n",
      "error:  {'name': ['University of San Diego', 'Villanova University', 'Brown University', 'University of California-Berkeley', 'University of Southern California', 'Fairfield University', 'Johns Hopkins University', 'Carnegie Mellon University', 'Virginia Polytechnic Institute and State University', 'Emory University', 'Columbia University in the City of New York', 'Lehigh University', 'Georgia Institute of Technology-Main Campus', 'Georgetown University'], 'city': ['Bethlehem', 'Boston', 'Dallas', 'Chicago', 'Berkeley', 'Stanford', 'Washington']}\n",
      "error:  {'name': ['University of San Diego', 'Villanova University', 'Brown University', 'University of California-Berkeley', 'University of Southern California', 'Fairfield University', 'Johns Hopkins University', 'Carnegie Mellon University', 'Virginia Polytechnic Institute and State University', 'Columbia University in the City of New York', 'Lehigh University', 'Georgia Institute of Technology-Main Campus', 'Georgetown University'], 'city': ['Bethlehem', 'Boston', 'Chicago', 'Berkeley', 'Stanford', 'Washington']}\n",
      "error:  {'name': ['University of San Diego', 'Villanova University', 'Brown University', 'University of California-Berkeley', 'University of Southern California', 'Fairfield University', 'Johns Hopkins University', 'Carnegie Mellon University', 'Virginia Polytechnic Institute and State University', 'Columbia University in the City of New York', 'Lehigh University', 'Georgia Institute of Technology-Main Campus', 'Georgetown University'], 'city': ['Bethlehem', 'Boston', 'Chicago', 'Berkeley', 'Stanford', 'Washington']}\n",
      "error:  {'name': ['University of San Diego', 'Villanova University', 'Brown University', 'University of California-Berkeley', 'University of Southern California', 'Fairfield University', 'Johns Hopkins University', 'Carnegie Mellon University', 'Virginia Polytechnic Institute and State University', 'Columbia University in the City of New York', 'Lehigh University', 'Georgia Institute of Technology-Main Campus', 'Georgetown University'], 'city': ['Bethlehem', 'Boston', 'Chicago', 'Stanford', 'Washington']}\n",
      "error:  {'name': ['University of San Diego', 'Villanova University', 'Brown University', 'University of California-Berkeley', 'University of Southern California', 'Fairfield University', 'Johns Hopkins University', 'Carnegie Mellon University', 'Columbia University in the City of New York', 'Lehigh University', 'Georgia Institute of Technology-Main Campus', 'Georgetown University'], 'city': ['Boston', 'Chicago', 'Stanford', 'Washington']}\n",
      "error:  {'name': ['University of San Diego', 'Villanova University', 'Brown University', 'University of California-Berkeley', 'University of Southern California', 'Fairfield University', 'Johns Hopkins University', 'Carnegie Mellon University', 'Columbia University in the City of New York', 'Lehigh University', 'Georgia Institute of Technology-Main Campus', 'Georgetown University'], 'city': ['Boston', 'Chicago', 'Stanford', 'Washington']}\n",
      "error:  {'name': ['University of San Diego', 'Villanova University', 'Brown University', 'University of California-Berkeley', 'University of Southern California', 'Fairfield University', 'Johns Hopkins University', 'Carnegie Mellon University', 'Columbia University in the City of New York', 'Lehigh University', 'Georgia Institute of Technology-Main Campus', 'Georgetown University'], 'city': ['Boston', 'Chicago', 'Stanford', 'Washington']}\n",
      "error:  {'name': ['University of San Diego', 'Villanova University', 'Brown University', 'University of California-Berkeley', 'University of Southern California', 'Fairfield University', 'Carnegie Mellon University', 'Columbia University in the City of New York', 'Lehigh University', 'Georgia Institute of Technology-Main Campus', 'Georgetown University'], 'city': ['Boston', 'Chicago', 'Stanford']}\n",
      "error:  {'name': ['University of San Diego', 'Villanova University', 'Brown University', 'Fairfield University', 'Carnegie Mellon University', 'Columbia University in the City of New York', 'Lehigh University', 'Georgia Institute of Technology-Main Campus', 'Georgetown University'], 'city': ['Boston', 'Chicago', 'Stanford']}\n",
      "error:  {'name': ['University of San Diego', 'Villanova University', 'Brown University', 'Carnegie Mellon University', 'Columbia University in the City of New York', 'Lehigh University', 'Georgia Institute of Technology-Main Campus', 'Georgetown University'], 'city': ['Boston', 'Chicago', 'Stanford']}\n",
      "error:  {'name': ['University of San Diego', 'Villanova University', 'Brown University', 'Carnegie Mellon University', 'Columbia University in the City of New York', 'Lehigh University', 'Georgia Institute of Technology-Main Campus', 'Georgetown University'], 'city': ['Chicago']}\n",
      "error:  {'name': ['University of San Diego', 'Villanova University', 'Brown University', 'Carnegie Mellon University', 'Columbia University in the City of New York', 'Lehigh University', 'Georgia Institute of Technology-Main Campus', 'Georgetown University']}\n",
      "error:  {'name': ['University of San Diego', 'Villanova University', 'Brown University', 'Carnegie Mellon University', 'Columbia University in the City of New York', 'Lehigh University', 'Georgia Institute of Technology-Main Campus', 'Georgetown University']}\n",
      "error:  {'name': ['University of San Diego', 'Villanova University', 'Brown University', 'Carnegie Mellon University', 'Columbia University in the City of New York', 'Lehigh University', 'Georgia Institute of Technology-Main Campus', 'Georgetown University']}\n",
      "error:  {'name': ['University of San Diego', 'Villanova University', 'Brown University', 'Carnegie Mellon University', 'Columbia University in the City of New York', 'Lehigh University', 'Georgia Institute of Technology-Main Campus', 'Georgetown University']}\n",
      "error:  {'name': ['University of San Diego', 'Villanova University', 'Brown University', 'Carnegie Mellon University', 'Columbia University in the City of New York', 'Lehigh University', 'Georgia Institute of Technology-Main Campus', 'Georgetown University']}\n",
      "error:  {'name': ['University of San Diego', 'Villanova University', 'Brown University', 'Carnegie Mellon University', 'Columbia University in the City of New York', 'Lehigh University', 'Georgia Institute of Technology-Main Campus']}\n",
      "error:  {'name': ['University of San Diego', 'Villanova University', 'Carnegie Mellon University', 'Columbia University in the City of New York', 'Lehigh University']}\n",
      "error:  {'name': ['Villanova University', 'Carnegie Mellon University', 'Columbia University in the City of New York', 'Lehigh University']}\n",
      "error:  {'name': ['Villanova University', 'Carnegie Mellon University', 'Columbia University in the City of New York', 'Lehigh University']}\n",
      "error:  {'name': ['Villanova University', 'Columbia University in the City of New York', 'Lehigh University']}\n",
      "error:  {'name': ['Villanova University', 'Lehigh University']}\n",
      "error:  {'name': ['Villanova University', 'Lehigh University']}\n",
      "error:  {'name': ['Villanova University', 'Lehigh University']}\n",
      "error:  {'name': ['Villanova University']}\n",
      "error:  {'name': ['Villanova University']}\n",
      "115\n",
      "[{'alias': 'Virginia Tech', 'linguistics': '0'}, {'arts': '1', 'computer science': '1'}, {'literature': '1', 'biology': '1'}, {'city': 'Rochester'}, {'literature': '0', 'architecture': '0'}, {'law': '1', 'history': '1'}, {'name': 'Wake Forest University'}, {'state': 'New Jersey', 'engineering': '0'}, {'health': '1', 'psychology': '0'}, {'social sciences': '0'}]\n"
     ]
    }
   ],
   "source": [
    "dialogue_configs_test = [] # list of dictionaries with up to two keys, key = slot, value = value; no combination occurs twice\n",
    "slot_values_TODO = copy.deepcopy(slot_values)\n",
    "slot_list = list(set(simple_slots.keys()))\n",
    "while len(slot_values_TODO)>0:\n",
    "    config = dict()\n",
    "    turns_in_dialog = random.choice([i for i in range(1,3)]) # up to two turns # TODO: maybe only do up to two dialogues?\n",
    "    try:\n",
    "        random.shuffle(slot_list)\n",
    "        slots_to_consider = slot_list[:min(len(slot_list),turns_in_dialog)]\n",
    "        # print(\"slots to consider: \",slots_to_consider)\n",
    "        for slot in slots_to_consider:\n",
    "            value = random.choice(slot_values_TODO[slot])\n",
    "            config[slot] = value\n",
    "            # print(\"chosen slot-value combi: \",config)\n",
    "            slot_values_TODO[slot].remove(value)\n",
    "            if len(slot_values_TODO[slot]) == 0:\n",
    "                slot_values_TODO.pop(slot)\n",
    "                slot_list.remove(slot)\n",
    "        dialogue_configs_test += [copy.deepcopy(config)]\n",
    "        # print(\"left slot-values: \",slot_values_TODO)\n",
    "    except:\n",
    "        print(\"error: \",slot_values_TODO)\n",
    "print(len(dialogue_configs_test))\n",
    "print(dialogue_configs_test[:10])"
   ]
  },
  {
   "cell_type": "code",
   "execution_count": 25,
   "metadata": {},
   "outputs": [],
   "source": [
    "all_test_dialogues = []\n",
    "for dialog_config in dialogue_configs_test:\n",
    "    dialogues = generate_dialogue(db,dialog_config)\n",
    "    all_test_dialogues += dialogues"
   ]
  },
  {
   "cell_type": "code",
   "execution_count": null,
   "metadata": {},
   "outputs": [],
   "source": [
    "# save dialogues to file\n",
    "with open(\"/mount/studenten-temp1/users/godberja/SpokenDialogSystems/college_adviser/evaluation/test_dialogues.json\", \"w\") as outfile:\n",
    "    json.dump(all_test_dialogues, outfile,indent=4)"
   ]
  },
  {
   "attachments": {},
   "cell_type": "markdown",
   "metadata": {},
   "source": [
    "## Manually add further dialogues"
   ]
  },
  {
   "cell_type": "code",
   "execution_count": null,
   "metadata": {},
   "outputs": [],
   "source": [
    "others = [\n",
    "    {\n",
    "      \"history\": [\n",
    "        \"user : do you know any unis in wisconsin?\"\n",
    "      ],\n",
    "      \"belief\": \"belief : state = wisconsin\" ,\n",
    "      \"kb\": \"database 0 results\",\n",
    "      \"reply\": \"system : i couldn't find any colleges matching your query. would you like to try again?\"\n",
    "    },\n",
    "    {\n",
    "      \"history\": [\n",
    "        \"user : do you know any unis in wisconsin?\",\n",
    "        \"system : i couldn't find any colleges matching your query. would you like to try again?\",\n",
    "        \"user : how about michigan?\"\n",
    "      ],\n",
    "      \"belief\": \"belief : state = michigan\" ,\n",
    "      \"kb\": \"database 2 results\",\n",
    "      \"reply\": \"system : what would you like to study there?\"\n",
    "    },  \n",
    "    {\n",
    "      \"history\": [\n",
    "        \"user : do you know any unis in wisconsin?\",\n",
    "        \"system : i couldn't find any colleges matching your query. would you like to try again?\",\n",
    "        \"user : how about michigan?\",\n",
    "        \"system : what would you like to study there?\",\n",
    "        \"user : education\"\n",
    "      ],\n",
    "      \"belief\": \"belief : state = michigan; area = education\" ,\n",
    "      \"kb\": \"database 1 results\",\n",
    "      \"reply\": \"system : how about [name]? it's a great university in [city], [state].\"\n",
    "    },  \n",
    "    {\n",
    "      \"history\": [\n",
    "        \"user : do you know any unis in wisconsin?\",\n",
    "        \"system : i couldn't find any colleges matching your query. would you like to try again?\",\n",
    "        \"user : how about michigan?\",\n",
    "        \"system : what would you like to study there?\",\n",
    "        \"user : education\",\n",
    "        \"system : how about university of michigan-ann arbor? it's a great university in ann arbor, michigan.\",\n",
    "        \"user : can you also study law there?\"\n",
    "      ],\n",
    "      \"belief\": \"belief : state = michigan; area = law; name = university of michigan-ann arbor\" ,\n",
    "      \"kb\": \"database 0 results\",\n",
    "      \"reply\": \"system : no, you can't study that at [name].\"\n",
    "    },  \n",
    "    {\n",
    "      \"history\": [\n",
    "        \"user : do you know any unis in wisconsin?\",\n",
    "        \"system : i couldn't find any colleges matching your query. would you like to try again?\",\n",
    "        \"user : how about michigan?\",\n",
    "        \"system : what would you like to study there?\",\n",
    "        \"user : education\",\n",
    "        \"system : how about university of michigan-ann arbor? it's a great university in ann arbor, michigan.\",\n",
    "        \"user : can you also study law there?\",\n",
    "        \"system : no, you can't study that at university of michigan-ann arbor.\",\n",
    "        \"user : thanks!\"\n",
    "      ],\n",
    "      \"belief\": \"belief : state = michigan; area = law; name = university of michigan-ann arbor\" ,\n",
    "      \"kb\": \"database 0 results\",\n",
    "      \"reply\": \"system : is there anything else i can help you with?\"\n",
    "    },  \n",
    "    {\n",
    "      \"history\": [\n",
    "        \"user : do you know any unis in wisconsin?\",\n",
    "        \"system : i couldn't find any colleges matching your query. would you like to try again?\",\n",
    "        \"user : how about michigan?\",\n",
    "        \"system : what would you like to study there?\",\n",
    "        \"user : education\",\n",
    "        \"system : how about university of michigan-ann arbor? it's a great university in ann arbor, michigan.\",\n",
    "        \"user : can you also study law there?\",\n",
    "        \"system : no, you can't study that at university of michigan-ann arbor.\",\n",
    "        \"user : thanks!\",\n",
    "        \"system : is there anything else i can help you with?\",\n",
    "        \"user : no, goodbye!\"\n",
    "      ],\n",
    "      \"belief\": \"belief : state = michigan; study = education; name = university of michigan-ann arbor\" ,\n",
    "      \"kb\": \"database 1 results\",\n",
    "      \"reply\": \"system : goodbye!\"\n",
    "    },\n",
    "    # TODO check our already collected dialogues and include them here\n",
    "]"
   ]
  },
  {
   "attachments": {},
   "cell_type": "markdown",
   "metadata": {},
   "source": [
    "## Further notes"
   ]
  },
  {
   "attachments": {},
   "cell_type": "markdown",
   "metadata": {},
   "source": [
    "* Until now we expect in each turn that there's some information given, but what about:\n",
    "    * \"user : tell me more about it\"\n",
    "    * \"user : don't care\"\n",
    "* Also we don't consider requestables, like:\n",
    "    * \"user : What is its admission rate?\"\n",
    "* User only mentioning a value, like:\n",
    "    * \"user : Education\" (as a reply to what the user would like to study)\n",
    "* User mentioning more than one slot at a turn, e.g.\n",
    "    * \"user : Show me cheap universities where I can study maths\" (price_range + area)\n",
    "* We don't cover questions like: \"system : Would you like to know more about it?\"\n",
    "* We don't cover users mentioning the profession (e.g. lawyer instead of law)"
   ]
  },
  {
   "attachments": {},
   "cell_type": "markdown",
   "metadata": {},
   "source": [
    "## Manually add dialogues for some edge cases"
   ]
  },
  {
   "cell_type": "code",
   "execution_count": null,
   "metadata": {},
   "outputs": [],
   "source": [
    "edge_cases = dict()"
   ]
  },
  {
   "cell_type": "code",
   "execution_count": null,
   "metadata": {},
   "outputs": [],
   "source": [
    "# information not existing / no result\n",
    "edge_cases[\"no info\"] = [ # TODO add more edge cases for this category\n",
    "    {\n",
    "      \"history\": [\n",
    "        \"user : Where is the University of Stuttgart located?\"\n",
    "      ],\n",
    "      \"belief\": \"belief : name = University of Stuttgart\",\n",
    "      \"kb\": \"Database 0 results\",\n",
    "      \"reply\": \"system : I'm sorry, I don't have any information on this college.\"\n",
    "    },\n",
    "    {\n",
    "      \"history\": [\n",
    "        \"user : What about a college in Stuttgart?\"\n",
    "      ],\n",
    "      \"belief\": \"belief : city = Stuttgart\",\n",
    "      \"kb\": \"Database 0 results\",\n",
    "      \"reply\": \"system : Sorry, I have no information about colleges in Stuttgart. Can I help you any further?\"\n",
    "    }\n",
    "]"
   ]
  },
  {
   "cell_type": "code",
   "execution_count": null,
   "metadata": {},
   "outputs": [],
   "source": [
    "# paraphrases\n",
    "edge_cases[\"paraphrases\"] = [ # TODO add more edge cases for this category\n",
    "    # test if different formulations of same request lead to same results\n",
    "]"
   ]
  },
  {
   "cell_type": "code",
   "execution_count": null,
   "metadata": {},
   "outputs": [],
   "source": [
    "# user requests\n",
    "edge_cases[\"user requests\"] = [ # TODO add more edge cases for this category\n",
    "    {\n",
    "      \"history\": [\n",
    "        \"user : What is the SAT-score of the Santa Clara University? \"\n",
    "      ],\n",
    "      \"belief\": \"belief : name = Santa Clara University\",\n",
    "      \"kb\": \"Database 1 result\",\n",
    "      \"reply\": \"system : [name] has a SAT-score of [sat].\"\n",
    "    }\n",
    "]"
   ]
  },
  {
   "cell_type": "code",
   "execution_count": null,
   "metadata": {},
   "outputs": [],
   "source": [
    "# typos\n",
    "edge_cases[\"typos\"] = [ # TODO add more edge cases for this category\n",
    "    {\n",
    "      \"history\": [\n",
    "        \"user : Is there a University in Nwe York?\",\n",
    "        \"system : Did you mean New York?\",\n",
    "        \"user : Yes.\"\n",
    "      ],\n",
    "      \"belief\": \"belief : city = New York\",\n",
    "      \"kb\": \"Database 1 result\",\n",
    "      \"reply\": \"system : The [name] is in [city].\"\n",
    "    },\n",
    "    {\n",
    "      \"history\": [\n",
    "        \"user : Is there a University in Nwe York?\"\n",
    "      ],\n",
    "      \"belief\": \"belief : city = Nwe York\",\n",
    "      \"kb\": \"Database 0 results\",\n",
    "      \"reply\": \"system : Did you mean New York?\"\n",
    "    },\n",
    "    {\n",
    "      \"history\": [\n",
    "        \"user : Is there a University in Nwe York?\"\n",
    "      ],\n",
    "      \"belief\": \"belief : city = Nwe York\",\n",
    "      \"kb\": \"Database 0 results\",\n",
    "      \"reply\": \"system : I didn't find a result. Is it possible you spelled something wrong?\"\n",
    "    }\n",
    "]"
   ]
  },
  {
   "cell_type": "code",
   "execution_count": null,
   "metadata": {},
   "outputs": [],
   "source": [
    "# negations\n",
    "edge_cases[\"negations\"] = [ # TODO add more edge cases for this category\n",
    "        {\n",
    "      \"history\": [\n",
    "        \"user : Hi!\",\n",
    "        \"system : How can I help you?\",\n",
    "        \"user : For my studies I want to move away from New York. Which college might be a good choice?\"\n",
    "      ],\n",
    "      \"belief\": \"belief : city != New York\",\n",
    "      \"kb\": \"Database 42 results\",\n",
    "      \"reply\": \"system : Do you have other criteria for the college?\"\n",
    "    },\n",
    "    {\n",
    "      \"history\": [\n",
    "        \"user : Hi!\",\n",
    "        \"system : How can I help you?\",\n",
    "        \"user : For my studies I want to move away from New York. Which college might be a good choice?\",\n",
    "        \"system : Do you have other criteria for the college?\",\n",
    "        \"user : It should offer a study program of education\"\n",
    "      ],\n",
    "      \"belief\": \"belief : state != New York ; area = education\",\n",
    "      \"kb\": \"Database 22 results\",\n",
    "      \"reply\": \"system : Alright. There is a lot of colleges left. Any other criteria left?\"\n",
    "    }\n",
    "]"
   ]
  },
  {
   "cell_type": "code",
   "execution_count": null,
   "metadata": {},
   "outputs": [],
   "source": [
    "# larger or smaller\n",
    "edge_cases[\"relative_values\"] = [ # TODO add more edge cases for this category\n",
    "        {\n",
    "      \"history\": [\n",
    "        \"user : Hi\",\n",
    "        \"system : Hello! How can I help you?\",\n",
    "        \"user : Can you give me information on the Princeton University?\",\n",
    "        \"system : The Princeton University is located in New Jersey. It's admission rate is 4%.\",\n",
    "        \"user : Okay. Do you have information on another college in New Jersey that has a higher admission rate?\"\n",
    "      ],\n",
    "      \"belief\": \"belief : admission_rate >= 4 ; city = New Jersey\",\n",
    "      \"kb\": \"Database 1 result\",\n",
    "      \"reply\": \"system : I can advise you studying at [name]\"\n",
    "    },\n",
    "    {\n",
    "      \"history\": [\n",
    "        \"user : Can you help me to find a college where I can study engineering?\",\n",
    "        \"system : Do you have any other requirements for the college?\",\n",
    "        \"user : It should be likely to complete the studies\"\n",
    "      ],\n",
    "      \"belief\": \"belief : area = engineering ; completion >= 50\",\n",
    "      \"kb\": \"Database 45 results\",\n",
    "      \"reply\": \"system : There still is a lot of possible colleges.\"\n",
    "    },\n",
    "    {\n",
    "      \"history\": [\n",
    "        \"user : Is it correct that the Yale University is expensive but still has a high completion rate?\"\n",
    "      ],\n",
    "      \"belief\": \"belief : name = Yale university ; price_range = expensive ; completion rate >= 70\",\n",
    "      \"kb\": \"Database 1 result\",\n",
    "      \"reply\": \"system : [name] is [price_range] and has an admission rate of [admission rate].\"\n",
    "    },\n",
    "    {\n",
    "      \"history\": [\n",
    "        \"user : Is there a college with an admission rate higher than 0.8?\"\n",
    "      ],\n",
    "      \"belief\": \"belief : admission_rate >= 0.8\",\n",
    "      \"kb\": \"Database 5 results\",\n",
    "      \"reply\": \"system : Do you want to limit the search for a college further?\"\n",
    "    }\n",
    "]"
   ]
  },
  {
   "cell_type": "code",
   "execution_count": null,
   "metadata": {},
   "outputs": [],
   "source": [
    "# opinion change\n",
    "edge_cases[\"opinion_change\"] = [ # TODO add more edge cases for this category\n",
    "    {\n",
    "      \"history\": [\n",
    "        \"user : Tell me more about Georgetown University.\"\n",
    "      ],\n",
    "      \"belief\": \"belief : name = Georgetown University\",\n",
    "      \"kb\": \"Database 1 result\",\n",
    "      \"reply\": \"system : [name] is a [control] college in [city]\"\n",
    "    },\n",
    "    {\n",
    "      \"history\": [\n",
    "        \"user : Tell me more about Georgetown University.\",\n",
    "        \"system : Georgetown University is a private college in Washington.\",\n",
    "        \"user : And what about the University of California-Berkeley?\"\n",
    "      ],\n",
    "      \"belief\": \"belief : name = University of California-Berkeley\",\n",
    "      \"kb\": \"Database 1 result\",\n",
    "      \"reply\": \"system : [name] is a [control] college in [city]\"\n",
    "    },\n",
    "    {\n",
    "      \"history\": [\n",
    "        \"user : Tell me more about Georgetown University.\",\n",
    "        \"system : Georgetown University is a private college in Washington.\",\n",
    "        \"user : And what about the UC Berkeley?\"\n",
    "      ],\n",
    "      \"belief\": \"belief : alias = UC Berkeley\",\n",
    "      \"kb\": \"Database 1 result\",\n",
    "      \"reply\": \"system : [name] is a [control] college in [city]\"\n",
    "    }\n",
    "]"
   ]
  },
  {
   "cell_type": "code",
   "execution_count": null,
   "metadata": {},
   "outputs": [],
   "source": [
    "# two slots in one turn\n",
    "edge_cases[\"two slots\"] = [ # TODO add more edge cases for this category\n",
    "\n",
    "]"
   ]
  }
 ],
 "metadata": {
  "kernelspec": {
   "display_name": "Python 3",
   "language": "python",
   "name": "python3"
  },
  "language_info": {
   "codemirror_mode": {
    "name": "ipython",
    "version": 3
   },
   "file_extension": ".py",
   "mimetype": "text/x-python",
   "name": "python",
   "nbconvert_exporter": "python",
   "pygments_lexer": "ipython3",
   "version": "3.10.8"
  },
  "orig_nbformat": 4
 },
 "nbformat": 4,
 "nbformat_minor": 2
}
