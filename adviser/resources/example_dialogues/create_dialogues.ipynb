{
 "cells": [
  {
   "attachments": {},
   "cell_type": "markdown",
   "metadata": {},
   "source": [
    "# Notebook for automatically generating some dialogues in the soloist format"
   ]
  },
  {
   "cell_type": "code",
   "execution_count": 44,
   "metadata": {},
   "outputs": [],
   "source": [
    "import pandas as pd\n",
    "import random\n",
    "import copy"
   ]
  },
  {
   "attachments": {},
   "cell_type": "markdown",
   "metadata": {},
   "source": [
    "Load the dataset:"
   ]
  },
  {
   "cell_type": "code",
   "execution_count": 45,
   "metadata": {},
   "outputs": [],
   "source": [
    "db = pd.read_csv(\"/mount/studenten-temp1/users/godberja/SpokenDialogSystems/college_adviser/pruned_dataset_final_v3.csv\")"
   ]
  },
  {
   "cell_type": "code",
   "execution_count": 46,
   "metadata": {},
   "outputs": [],
   "source": [
    "name_changer = {\"NAME\": \"name\", \"ALIAS\": \"alias\", \"CITY\": \"city\", \"STATE\": \"state\", \"REGION\":\"region\", \"URL\": \"url\", \"CONTROL\":\"control\" ,\n",
    "\"NUM_UGDS\": \"students\", \"ADM_RATE\":\"admission_rate\", \"SAT_AVG\": \"sat\", \"COSTT4_A\": \"cost\", \t\"PRICE_RANGE\": \"price_range\", \"EARNINGS_MDN\":\"earnings\", \"DEBT_MDN\":\"debt\", \"COMPL_RATE\": \"completion\",\n",
    "\"CIP04BACHL\":\"architecture\", \"CIP09BACHL\":\"journalism\",\t\"CIP11BACHL\":\"computer science\", \"CIP13BACHL\":\"education\", \"CIP14BACHL\":\"engineering\", \"CIP16BACHL\":\"linguistics\", \"CIP22BACHL\":\"law\", \t\n",
    "\"CIP23BACHL\":\"literature\", \"CIP26BACHL\":\"biology\", \"CIP27BACHL\":\"mathematics\", \"CIP38BACHL\":\"philosophy\", \"CIP40BACHL\":\"physics\", \"CIP42BACHL\":\"psychology\", \"CIP45BACHL\":\"social sciences\",\n",
    "\"CIP50BACHL\":\"arts\", \"CIP51BACHL\":\"health\", \"CIP52BACHL\":\"business\", \"CIP54BACHL\":\"history\",\n",
    "\"SUM\": \"areas\"}"
   ]
  },
  {
   "cell_type": "code",
   "execution_count": 47,
   "metadata": {},
   "outputs": [
    {
     "name": "stdout",
     "output_type": "stream",
     "text": [
      "Index(['UNITID', 'NAME', 'ALIAS', 'CITY', 'STATE', 'REGION', 'URL', 'CONTROL',\n",
      "       'NUM_UGDS', 'ADM_RATE', 'SAT_AVG', 'COSTT4_A', 'PRICE_RANGE',\n",
      "       'EARNINGS_MDN', 'DEBT_MDN', 'COMPL_RATE', 'CIP04BACHL', 'CIP09BACHL',\n",
      "       'CIP11BACHL', 'CIP13BACHL', 'CIP14BACHL', 'CIP16BACHL', 'CIP22BACHL',\n",
      "       'CIP23BACHL', 'CIP26BACHL', 'CIP27BACHL', 'CIP38BACHL', 'CIP40BACHL',\n",
      "       'CIP42BACHL', 'CIP45BACHL', 'CIP50BACHL', 'CIP51BACHL', 'CIP52BACHL',\n",
      "       'CIP54BACHL', 'SUM'],\n",
      "      dtype='object')\n",
      "Index(['UNITID', 'name', 'alias', 'city', 'state', 'region', 'url', 'control',\n",
      "       'students', 'admission_rate', 'sat', 'cost', 'price_range', 'earnings',\n",
      "       'debt', 'completion', 'architecture', 'journalism', 'computer science',\n",
      "       'education', 'engineering', 'linguistics', 'law', 'literature',\n",
      "       'biology', 'mathematics', 'philosophy', 'physics', 'psychology',\n",
      "       'social sciences', 'arts', 'health', 'business', 'history', 'areas'],\n",
      "      dtype='object')\n"
     ]
    }
   ],
   "source": [
    "# change the column names!\n",
    "print(db.columns)\n",
    "db.rename(columns=name_changer,inplace=True)\n",
    "print(db.columns)"
   ]
  },
  {
   "cell_type": "code",
   "execution_count": 48,
   "metadata": {},
   "outputs": [
    {
     "name": "stdout",
     "output_type": "stream",
     "text": [
      "{'name': ['University of Pennsylvania', 'Duke University', 'Santa Clara University', 'Virginia Polytechnic Institute and State University', 'New Jersey Institute of Technology', 'University of Virginia-Main Campus', 'Drexel University', 'George Washington University', 'Grand Canyon University', 'Southern Methodist University', 'Dartmouth College', 'Columbia University in the City of New York', 'Wake Forest University', 'Carnegie Mellon University', 'Northeastern University', 'Vanderbilt University', 'Case Western Reserve University', 'Stanford University', 'Massachusetts Institute of Technology', 'Fairfield University', 'Villanova University', 'Georgia Institute of Technology-Main Campus', 'Fordham University', 'Georgetown University', 'Cornell University', 'University of San Diego', 'Lehigh University', 'Pace University', 'University of Notre Dame', 'University of California-Berkeley', 'New York University', 'University of Rochester', 'Rensselaer Polytechnic Institute', 'Tufts University', 'University of Chicago', 'Emory University', 'Johns Hopkins University', 'Boston College', 'Yale University', 'Brown University', 'Princeton University', 'Harvard University', 'California Polytechnic State University-San Luis Obispo', 'University of Southern California', 'Michigan Technological University', 'University of Michigan-Ann Arbor', 'University of San Francisco', 'Northwestern University', 'Washington University in St Louis'], 'alias': ['University of Virginia  UVa  UVA', 'GCU', 'USD', 'WashU', 'CWRU|Case|Case Western Reserve', 'Penn, U of PA, U-Penn, U of P, Pennsylvania, UPenn, Pennsylvania University, University of Pennsylvania, Wharton, Wharton School of Business', 'RPI, Rensselaer', 'GWU|GW', 'UC Berkeley', 'Notre Dame | Fighting Irish | ND', 'Virginia Tech', 'Columbia University', 'Drexel', 'Johns Hopkins', 'Michigan Tech|MTU|Michigan Tech University|Mich Tech|Michigan Technological Univ|Michigan Tech Univ|MT', 'SCU', 'Cal Poly', 'U of Michigan|U of M|Univ of Michigan|U Michigan Ann Arbor|University of Michigan Ann Arbor', 'NJIT', 'Carnegie Mellon; CMU', 'Pace University', 'USC', 'Dartmouth, Big Green', 'Georgetown|GU', 'MIT, M.I.T.', 'SMU', nan, 'Georgia Tech'], 'city': ['Berkeley', 'Notre Dame', 'Houghton', 'Hanover', 'Troy', 'New Haven', 'Winston-Salem', 'Boston', 'Durham', 'Philadelphia', 'Cambridge', 'Stanford', 'Chicago', 'Villanova', 'San Luis Obispo', 'Los Angeles', 'Nashville', 'Charlottesville', 'Rochester', 'Newark', 'Washington', 'Phoenix', 'Ann Arbor', 'Pittsburgh', 'Saint Louis', 'Chestnut Hill', 'New York', 'Bronx', 'Cleveland', 'Blacksburg', 'Medford', 'San Diego', 'Providence', 'Evanston', 'Fairfield', 'San Francisco', 'Princeton', 'Santa Clara', 'Bethlehem', 'Dallas', 'Ithaca', 'Atlanta', 'Baltimore'], 'state': ['Indiana', 'Illinois', 'North Carolina', 'Tennessee', 'Virginia', 'Washington, DC', 'Pennsylvania', 'Georgia', 'Rhode Island', 'Massachusetts', 'Michigan', 'New Jersey', 'Arizona', 'New York', 'Maryland', 'Ohio', 'Missouri', 'Connecticut', 'New Hampshire', 'California', 'Texas'], 'region': ['New England', 'Plains', 'Southwest', 'Far West', 'Southeast', 'Great Lakes', 'Mid East'], 'url': ['www.berkeley.edu/', 'www.case.edu/', 'www.fordham.edu/', 'https://umich.edu/', 'www.gatech.edu/', 'www.nd.edu/', 'www.dartmouth.edu/', 'www.stanford.edu/', 'www.sandiego.edu/', 'www.rpi.edu/', 'www.duke.edu/', 'www.scu.edu/', 'https://www.rochester.edu/', 'https://www.smu.edu/', 'www.bc.edu/', 'www.harvard.edu/', 'www.wfu.edu/', 'www.columbia.edu/', 'https://wustl.edu/', 'web.mit.edu/', 'www.villanova.edu/', 'fairfield.edu/', 'www.emory.edu/', 'www.jhu.edu/', 'www.georgetown.edu/', 'www.brown.edu/', 'https://www.gwu.edu/', 'www.vt.edu/', 'www.cornell.edu/', 'www.northeastern.edu/', 'https://www.virginia.edu/', 'https://www.tufts.edu/', 'https://www.nyu.edu/', 'www.vanderbilt.edu/', 'https://www.yale.edu/', 'https://www.njit.edu/', 'www.lehigh.edu/', 'www.northwestern.edu/', 'www.usc.edu/', 'www.uchicago.edu/', 'www.pace.edu/', 'www.gcu.edu/', 'https://www.mtu.edu/', 'https://www.usfca.edu/', 'www.princeton.edu/', 'https://drexel.edu/', 'calpoly.edu/', 'www.upenn.edu/', 'www.cmu.edu/'], 'control': ['public', 'private'], 'students': [6400, 29700, 5900, 15500, 6800, 4500, 10900, 7700, 5500, 5400, 9000, 7600, 31800, 28600, 7100, 5700, 64200, 9800, 6600, 7800, 8400, 5200, 7000, 16600, 7900, 20600, 14300, 5600, 8800, 6500, 32100, 9700, 7400, 10600, 17000, 21100, 15600, 6900, 4600, 8700], 'admission_rate': ['16.0%', '52.7%', '82.6%', '5.5%', '15.6%', '5.3%', '82.8%', '58.3%', '87.6%', '30.2%', '25.2%', '20.7%', '11.4%', '7.1%', '7.0%', '55.8%', '3.9%', '69.1%', '33.0%', '12.5%', '4.1%', '6.2%', '6.5%', '70.9%', '56.5%', '14.4%', '19.0%', '54.0%', '4.4%', '53.1%', '53.0%', '20.2%', '15.1%', '12.0%', '4.0%', '8.7%', '18.4%', '5.9%', '7.5%', '46.0%', '85.7%', '13.5%', '40.5%', '13.0%', '49.7%'], 'sat': [1418.0, 1419.0, 1422.0, 1423.0, 1305.0, 1437.0, nan, 1314.0, 1315.0, 1317.0, 1448.0, 1320.0, 1450.0, 1455.0, 1457.0, 1219.0, 1480.0, nan, 1483.0, 1484.0, 1485.0, 1488.0, nan, 1490.0, nan, nan, 1500.0, nan, nan, 1506.0, 1507.0, 1508.0, 1510.0, 1256.0, 1516.0, 1517.0, 1520.0, 1523.0, 1524.0, nan, 1526.0, 1528.0, 1529.0, 1402.0, 1534.0, 1535.0], 'cost': [28800, 69000, 30600, 77200, 80400, 65300, 59800, 79000, 75800, 27800, 70300, 68000, 75300, 59300, 31400, 32300, 78000, 75700, 67000, 76600, 79300, 72900, 31300, 80200, 77000, 81100, 29900, 71500, 62800, 63700, 74200, 29400, 71000, 65500, 81500, 71900, 76000, 76900, 60900, 72300, 79600, 70900, 78200, 37500], 'price_range': ['pricey', 'expensive', 'very expensive', 'affordable'], 'earnings': [85000, 101000, 74000, 95000, 84000, 89000, 105000, 78000, 94000, 110000, 83000, 88000, 72000, 104000, 77000, 93000, 82000, 71000, 92000, 76000, 129000, 81000, 97000, 86000, 70000, 91000, 75000], 'debt': [12000, 16000, 20000, 23000, 17000, 13000, 9000, 21000, 25000, 15000, 14000, 18000, 22000, 10000, 19000], 'completion': ['95.8%', '97.6%', '93.7%', '96.7%', '86.9%', '85.4%', '83.7%', '73.7%', '84.2%', '91.3%', '78.2%', '83.9%', '95.9%', '95.5%', '44.7%', '94.6%', '91.9%', '80.0%', '90.8%', '83.2%', '96.9%', '97.4%', '82.4%', '69.1%', '86.6%', '93.1%', '93.4%', '95.2%', '96.2%', '92.0%', '90.0%', '90.6%', '92.8%', '90.2%', '84.4%', '93.6%', '75.6%', '59.1%', '90.9%', '94.1%', '85.9%', '87.3%', '93.8%'], 'architecture': [0, 1], 'journalism': [0, 1], 'computer science': [1], 'education': [0, 1], 'engineering': [0, 1], 'linguistics': [0, 1], 'law': [0, 1], 'literature': [0, 1], 'biology': [1], 'mathematics': [0, 1], 'philosophy': [0, 1], 'physics': [1], 'psychology': [0, 1], 'social sciences': [0, 1], 'arts': [1], 'health': [0, 1], 'business': [0, 1], 'history': [0, 1], 'areas': [16, 17, 18, 19, 20, 21, 22, 23, 24, 25, 26]}\n"
     ]
    }
   ],
   "source": [
    "# for each slot collect the possible values:\n",
    "slot_values = dict()\n",
    "for slot in db.columns:\n",
    "    slot_values[slot] = list(set(db[slot].tolist()))\n",
    "del slot_values[\"UNITID\"] # we don't consider unit-ID as a slot\n",
    "print(slot_values)"
   ]
  },
  {
   "attachments": {},
   "cell_type": "markdown",
   "metadata": {},
   "source": [
    "## Scripts to create simple dialogues automatically"
   ]
  },
  {
   "cell_type": "code",
   "execution_count": 6,
   "metadata": {},
   "outputs": [],
   "source": [
    "# TODO: include further example texts\n",
    "system_greetings = [\"Hello! How can I help you?\",\"Hi, I'm the college adviser, how can I help you?\",\"Tell me what you are looking for.\",\"Tell me more about the college you're looking for.\",\"Hi how can I help you?\",\"Hello! I'm the college adviser, how can I help you?\",\"Hi, how may I be of assistance?\",\"Greetings, how may I help you?\"]\n",
    "user_greetings = [\"Hello!\",\"Hi.\",\"Hi\",\"Hello\",\"Hi!\",\"What's up?\",\"Yo\"]\n",
    "system_byes = [\"Goodbye!\",\"I hope I could help you.\",\"See you soon.\",\"Goodbye\",\"Bye.\",\"Your're welcome. Goodbye!\",\"You're welcome, have a nice day!\"]\n",
    "user_byes = [\"Thanks for your help.\",\"Alright, bye!\",\"Thanks, goodbye!\",\"Bye\",\"I don't need more information. Bye!\",\"Thanks, that's all.\",\"Okay, thanks. Goodbye!\",\"Thank you for the information.\",\"I see, thanks, bye\",\"That sounds good, thank you!\"]"
   ]
  },
  {
   "cell_type": "code",
   "execution_count": 7,
   "metadata": {},
   "outputs": [],
   "source": [
    "def greet_dialogue():\n",
    "    return (str(\"user : \"+random.choice(user_greetings)),\"none\",\"Database 0 results\",str(\"system : \"+random.choice(system_greetings)))\n",
    "def bye_dialogue(dialogue_history,belief_states,num_matches):\n",
    "    return (dialogue_history+[str(\"user : \"+random.choice(user_byes))],belief_states,num_matches,str(\"system : \"+random.choice(system_byes)))"
   ]
  },
  {
   "cell_type": "code",
   "execution_count": 8,
   "metadata": {},
   "outputs": [
    {
     "name": "stdout",
     "output_type": "stream",
     "text": [
      "user : Hello! none Database 0 results system : Hello! How can I help you?\n",
      "(['user : Hello!', 'system : Hello! How can I help you?', 'user : Alright, bye!'], 'none', 'Database 0 results', 'system : Goodbye!')\n"
     ]
    }
   ],
   "source": [
    "# example run\n",
    "user_utterance,belief_state,num_matches,sys_reply = greet_dialogue()\n",
    "print(user_utterance, belief_state,num_matches,sys_reply)\n",
    "print(bye_dialogue([user_utterance,sys_reply],belief_state,num_matches))"
   ]
  },
  {
   "cell_type": "code",
   "execution_count": 52,
   "metadata": {},
   "outputs": [],
   "source": [
    "# TODO: include further example texts\n",
    "simple_slots = dict()\n",
    "simple_slots[\"name\"] = [\"I want to know more about [name].\",\"Please tell me more about [name].\",\"[name] sounds interesting to me.\",\"I want to study at [name].\",\"How about [name]?\",\"I want to study at [name].\",\"Tell me more about the [name].\",\"Can you give me more information on [name]?\",\"I heard [name] is great. Can you tell me more about it?\",\"I'm interested in the [name].\"]\n",
    "simple_slots[\"control\"] = [\"The college should be [control].\", \"I'm looking for a [control] college.\", \"I'm looking for a college that is [control].\",\"I want it to be [control].\"]\n",
    "simple_slots[\"alias\"] = [\"How about [alias]?\",\"I want to study at [alias].\",\"I heard [alias] is great. Can you tell me more about it?\",\"What is the [alias]?\"]\n",
    "simple_slots[\"city\"] = [\"I'm looking for a college in [city].\",\"I want to study in [city].\",\"Do you know any unis in [city]?\",\"In [city].\",\"I want to find a college in [city].\",\"Is there a college in [city]?\",\"I want to go to a college in [city].\"]\n",
    "simple_slots[\"state\"] = [\"I'm looking for a college in [state].\", \"I want to study in [state].\",\"Do you know any unis in [state]?\",\"In [state].\",\"I'm interested in colleges in [state].\",\"I want more information on colleges in [state].\",\"I want to go to a college in [city].\"]\n",
    "simple_slots[\"region\"] = [\"I'm looking for a college in [region].\",\"I'm looking for a college in the [region].\",\"I want to study in [region].\",\"Do you know any unis in [region]?\",\"In the [region].\",\"Show me colleges in the [region].\",\"I want to go to a college in the [region].\"]\n",
    "simple_slots[\"url\"] = [\"\"]\n",
    "simple_slots[\"students\"] = [\"\"]\n",
    "simple_slots[\"admission_rate\"] = [\"The admission rate should be lower than [admission_rate].\",\"The admission rate should be higher than [admission_rate]\"]\n",
    "simple_slots[\"sat\"] = [\"On average students should have an sat score of [sat].\"]\n",
    "simple_slots[\"cost\"] = [\"\"]\n",
    "simple_slots[\"price_range\"] = [\"Show me [price_range] colleges.\",\"Show me a [price_range] college.\",\"[price_range] would be good.\",\"It should be [price_range]\",\"It's okay if the college is [price_range].\",\"I can afford a [price_range] university.\",\"Can you give me a [price_range] university?\"]\n",
    "simple_slots[\"earnings\"] = []\n",
    "simple_slots[\"debt\"] = [\"\"]\n",
    "simple_slots[\"completion\"] = [\"\"]\n",
    "simple_slots[\"area\"] = [\"I'd like to study [area]\",\"Can you study [area] there?\",\"I want to study [area].\",\"Can you help me to find a college where I can study [area]?\",\"Is there a study program related to [area] offered?\",\"I want to do something with [area].\",\"Is there a college that offers courses in [area]?\"]\n",
    "study_areas = ['architecture', 'journalism', 'computer science','education', 'engineering', 'linguistics', 'law', 'literature','biology', 'mathematics', 'philosophy', 'physics', 'psychology','social sciences', 'arts', 'health', 'business', 'history']\n",
    "for study_area in study_areas:\n",
    "    simple_slots[study_area] = [x.replace(\"[area]\",str(\"[\"+study_area+\"]\")) for x in list(simple_slots[\"area\"])]\n",
    "simple_slots[\"areas\"] = [\"\"]"
   ]
  },
  {
   "cell_type": "code",
   "execution_count": 50,
   "metadata": {},
   "outputs": [],
   "source": [
    "# TODO: include further example texts\n",
    "\n",
    "system_replies = dict()\n",
    "\n",
    "# no results\n",
    "system_replies[\"None\"] = [\"There is no college matching your preferences.\",\n",
    "                          \"I couldn't find a college for your request.\",\n",
    "                          \"I have no information on such a college.\",\n",
    "                          \"I'm sorry, I don't have any information on this.\",\n",
    "                          \"My apologies, it appears that I don't have any information about such colleges. Would you like to try some other criteria?\",\n",
    "                          \"I couldn't find any colleges matching your query. Do you want to change something?\",\n",
    "                          \"I couldn't find any colleges matching your query. Would you like to try again?\",\n",
    "                          \"I didn't find a result. Is there anything else I can help you with?\"] \n",
    "\n",
    "# one result\n",
    "system_replies[\"One\"] = [\"[name] is a [control] top university in [city], [state] with [students] undergraduate students. You can check out their website at [url].\",\n",
    "                         \"The [name] is [price_range] and is located in [region]. There are courses offered in [area]. Do you need more information?\",\n",
    "                         \"Check [url] if you want more information later.\",\n",
    "                         \"I found a college that could interest you: [name]. Do you want to know more about it?\",\n",
    "                         \"Studying at [name] is [price_range].\",\n",
    "                         \"[name] is a [control] top university in [city], [state] with [students] undergraduate students. find out more about the at [url].\",\n",
    "                         \"[name] matches your preferences.\",\n",
    "                         \"Okay, how about [name]? It's a great university in [city], [state].\",\n",
    "                         \"[name] is a [control] top university with [students] undergraduate students. Find out more about them at [url].\",\n",
    "                         \"[name] has an admission rate of [admission_rate]\",\n",
    "                         \"At [name] graduates earn about [earnings].\",\n",
    "                         \"[name] is located in [city].\",\n",
    "                         \"On average it costs [cost] dollars per year.\",\n",
    "                         \"On average, students accepted into [name] have an sat score of [sat].\"\n",
    "                         \"The [name] could interest you. Would you like to know more about it?\",\n",
    "                         \"[name] might be a match for you. Do you want to know more about it?\",\n",
    "                         \"For more information check its website at [url].\",\n",
    "                         \"Your expected earnings will be around [earnings] dollars anually.\",\n",
    "                         \"You can check out their website at [url].\",\n",
    "                         \"For example [name] is located in [city]. The completion rate is [completion], but it is [price_range].\",\n",
    "                         \"On average, students graduate there with [debt] dollars in debt.\",\n",
    "                         \"[name] is a college in [city] and thus belongs to [region].\",\n",
    "                         \"[name] is often called [alias].\",\n",
    "                         \"The [name] offers studying [area],\"\n",
    "                         \"In case you want more information: visit [url].\",\n",
    "                         \"[students] attent the university.\",\n",
    "                         \"May I offer [name]?\"]\n",
    "\n",
    "# two results\n",
    "system_replies[\"Two\"] = [\"I found two universities that could be of interest to you, [name1] and [name2]. Would you like to know more about one of them?\",\n",
    "                         \"There's two colleges that match your preferences: [name1] and [name2]. Do you want to know more about one of them?\",\n",
    "                         \"For example [name] is located in [city]. The completion rate is [completion], but it is [price_range].\",\n",
    "                         \"Both, [name1] and [name2] match your preferences.\"]\n",
    "\n",
    "# many results\n",
    "system_replies[\"Many\"] = [\"Do you have any other requirements for the college?\",\n",
    "                          \"There's many. Is there anything else you want from the college?\",\n",
    "                          \"Do you have other criteria for the college?\",\n",
    "                          \"Alright. There is a lot of colleges left. What specifically are you looking for?\",\n",
    "                          \"Do you want to limit the search for a college further?\",\n",
    "                          \"In which region do you want to study?\",\n",
    "                          \"What subject would you like to study?\",\n",
    "                          \"What would you like to study?\",\n",
    "                          \"Whare are you interested in studying?\",\n",
    "                          \"Which place would you like to study in?\",\n",
    "                          \"Are you looking for a specific price range?\"\n",
    "                          \"How expensive would you like the college to be?\",\n",
    "                          \"Where do you want your college to be?\",\n",
    "                          \"Do you have any other wishes to limit the amount of colleges?\",\n",
    "                          \"Would you like to narrow your search?\",\n",
    "                          \"There's multiple colleges that match your criteria. Would you like to narrow down your search?\",\n",
    "                          \"Do you have anything else in mind?\"]"
   ]
  },
  {
   "cell_type": "code",
   "execution_count": 11,
   "metadata": {},
   "outputs": [],
   "source": [
    "def generate_dialog_small(current_db,slot,value):\n",
    "    '''\n",
    "    Returns a user utterance (for history), the belief state, the amount of database results, and a possible system response\n",
    "    Note that formalities like greeting and goodbye are not included\n",
    "    Only consider ONE slot/value\n",
    "    Params:\n",
    "        current_db: database (eventually pre-filtered) that is considered for checking the amount of results\n",
    "        slot: the slot the dialogue should cover, e.g. name, region, ...\n",
    "        value: the concrete value of the slot, e.g. expensive, private, ...\n",
    "    '''\n",
    "    user_history = random.choice(simple_slots[slot])\n",
    "    user_history = user_history.replace(str(\"[\"+slot+\"]\"),value)\n",
    "    belief = str(slot+\" = \"+value)\n",
    "    small_db = current_db.loc[current_db[slot]==value]\n",
    "    num_results = len(small_db)\n",
    "    if num_results == 0:\n",
    "        results = \"Database 0 results\"\n",
    "        system_reply = random.choice(system_replies[\"None\"])\n",
    "    elif num_results == 1:\n",
    "        results = \"Database 1 result\"\n",
    "        system_reply = random.choice(system_replies[\"One\"])\n",
    "    elif num_results == 2:\n",
    "        results = \"Database 2 results\"\n",
    "        system_reply = random.choice(system_replies[\"Two\"])\n",
    "    else: # num_results > 1\n",
    "        results = \"Database \" + str(num_results) + \" results\"\n",
    "        system_reply = random.choice(system_replies[\"Many\"])\n",
    "    return user_history, belief, results, system_reply, small_db"
   ]
  },
  {
   "cell_type": "code",
   "execution_count": 12,
   "metadata": {},
   "outputs": [
    {
     "name": "stdout",
     "output_type": "stream",
     "text": [
      "I'm looking for a college that is private.\n",
      "control = private\n",
      "Database 41 results\n",
      "There's many. Is there anything else you want from the college?\n"
     ]
    }
   ],
   "source": [
    "# example run\n",
    "user_history,belief,results,system_reply,small_db = generate_dialog_small(db,\"control\",\"private\")\n",
    "print(user_history)\n",
    "print(belief)\n",
    "print(results)\n",
    "print(system_reply)"
   ]
  },
  {
   "cell_type": "code",
   "execution_count": 13,
   "metadata": {},
   "outputs": [],
   "source": [
    "def generate_dialogue(current_db,slots_values):\n",
    "    '''\n",
    "    Generate a dialogue (sometimes including greeting and goodbye) with the specified slots and values.\n",
    "    Parameters:\n",
    "        current_db: database that is considered for checking the amount of results\n",
    "        slots_values (dict): key = slot, value = value; one key should be covered in one turn of the dialogue\n",
    "    Returns list of created dialogues\n",
    "    '''\n",
    "    dialogues = []\n",
    "    dialogue = {\"history\":[],\"belief\":\"\",\"kb\":\"\",\"reply\":\"\"}\n",
    "    history = []\n",
    "\n",
    "    random_start = random.choice([i for i in range(10)])\n",
    "    if random_start == 5: # only once in 10 dialogues we want to include a start\n",
    "        user_greeting,belief_state,num_results,system_greeting = greet_dialogue()\n",
    "        dialogue[\"history\"] += [user_greeting]\n",
    "        dialogue[\"belief\"] = belief_state # in the beginning this is always none\n",
    "        dialogue[\"kb\"] = num_results\n",
    "        dialogue[\"reply\"] = system_greeting\n",
    "        # print(dialogue)\n",
    "        dialogues += [copy.deepcopy(dialogue)]\n",
    "        history = [user_greeting,system_greeting]\n",
    "        \n",
    "    for slot,value in slots_values.items():\n",
    "        u_h,b_s,n_r,s_r,small_db = generate_dialog_small(current_db,slot,value)\n",
    "        dialogue[\"history\"] = history + [str(\"user : \"+u_h)]\n",
    "        if (dialogue[\"belief\"] == \"\"): # no belief state yet\n",
    "            dialogue[\"belief\"] = b_s\n",
    "        elif (dialogue[\"belief\"] == \"none\") and (b_s != \"none\"): # we found something\n",
    "            dialogue[\"belief\"] = b_s\n",
    "        elif (dialogue[\"belief\"] != \"none\") and (b_s != \"none\"): # concatenate belief states\n",
    "            dialogue[\"belief\"] = dialogue[\"belief\"] + \" ; \" + b_s\n",
    "        dialogue[\"kb\"] = n_r\n",
    "        dialogue[\"reply\"] = str(\"system : \" + s_r)\n",
    "        # print(dialogue)\n",
    "        dialogues += [copy.deepcopy(dialogue)]\n",
    "        history = dialogue[\"history\"] + [dialogue[\"reply\"]]\n",
    "        current_db = small_db\n",
    "            \n",
    "    random_end = random.choice([i for i in range(1)])\n",
    "    if random_end == 5: # only once in 10 dialogues we want to include an end\n",
    "        user_bye,b_s,n_r,system_bye = bye_dialogue(history,dialogue[\"belief\"],dialogue[\"kb\"])\n",
    "        dialogue[\"history\"] = user_bye\n",
    "        dialogue[\"reply\"] = system_bye\n",
    "        # print(dialogue)\n",
    "        dialogues += [copy.deepcopy(dialogue)]\n",
    "\n",
    "    return dialogues"
   ]
  },
  {
   "cell_type": "code",
   "execution_count": 14,
   "metadata": {},
   "outputs": [
    {
     "data": {
      "text/plain": [
       "[{'history': [\"user : I'm looking for a college that is private.\"],\n",
       "  'belief': 'control = private',\n",
       "  'kb': 'Database 41 results',\n",
       "  'reply': 'system : Do you want to limit the search for a college further?'},\n",
       " {'history': [\"user : I'm looking for a college that is private.\",\n",
       "   'system : Do you want to limit the search for a college further?',\n",
       "   'user : I want to study in California.'],\n",
       "  'belief': 'control = private ; state = California',\n",
       "  'kb': 'Database 5 results',\n",
       "  'reply': \"system : There's many. Is there anything else you want from the college?\"}]"
      ]
     },
     "execution_count": 14,
     "metadata": {},
     "output_type": "execute_result"
    }
   ],
   "source": [
    "# example run\n",
    "generate_dialogue(db,{\"control\":\"private\",\"state\":\"California\"})"
   ]
  },
  {
   "attachments": {},
   "cell_type": "markdown",
   "metadata": {},
   "source": [
    "## Create sample dialogues covering multiple / all slots / values"
   ]
  },
  {
   "cell_type": "code",
   "execution_count": 49,
   "metadata": {},
   "outputs": [
    {
     "name": "stdout",
     "output_type": "stream",
     "text": [
      "263\n",
      "[{'students': 6500}, {'city': 'Houghton'}, {'price_range': 'very expensive'}, {'history': 0, 'engineering': 0}, {'business': 1, 'mathematics': 0, 'completion': '80.0%'}, {'students': 17000}, {'cost': 72900, 'social sciences': 1, 'control': 'private'}, {'admission_rate': '5.3%', 'mathematics': 1, 'linguistics': 0}, {'state': 'New Hampshire', 'education': 0, 'engineering': 1}, {'city': 'Bethlehem', 'region': 'New England'}]\n"
     ]
    }
   ],
   "source": [
    "dialogue_configs = [] # list of dictionaries with up to three keys, key = slot, value = value; no combination occurs twice\n",
    "slot_values_TODO = copy.deepcopy(slot_values)\n",
    "slot_list = list(set(slot_values_TODO.keys()))\n",
    "while len(slot_values_TODO)>0:\n",
    "    config = dict()\n",
    "    turns_in_dialog = random.choice([i for i in range(1,4)]) # up to three turns # TODO: maybe only do up to two dialogues?\n",
    "    try:\n",
    "        random.shuffle(slot_list)\n",
    "        slots_to_consider = slot_list[:min(len(slot_list),turns_in_dialog)]\n",
    "        # print(\"slots to consider: \",slots_to_consider)\n",
    "        for slot in slots_to_consider:\n",
    "            value = random.choice(slot_values_TODO[slot])\n",
    "            config[slot] = value\n",
    "            # print(\"chosen slot-value combi: \",config)\n",
    "            slot_values_TODO[slot].remove(value)\n",
    "            if len(slot_values_TODO[slot]) == 0:\n",
    "                slot_values_TODO.pop(slot)\n",
    "                slot_list.remove(slot)\n",
    "        dialogue_configs += [copy.deepcopy(config)]\n",
    "        # print(\"left slot-values: \",slot_values_TODO)\n",
    "    except:\n",
    "        print(\"error: \",slot_values_TODO)\n",
    "print(len(dialogue_configs))\n",
    "print(dialogue_configs[:10])"
   ]
  },
  {
   "cell_type": "code",
   "execution_count": null,
   "metadata": {},
   "outputs": [],
   "source": [
    "all_dialogues = []\n",
    "for dialog_config in dialogue_configs:\n",
    "    dialogues = generate_dialogue(db,dialog_config)\n",
    "    all_dialogues.append(dialogues)"
   ]
  },
  {
   "attachments": {},
   "cell_type": "markdown",
   "metadata": {},
   "source": [
    "## Manually add further dialogues"
   ]
  },
  {
   "cell_type": "code",
   "execution_count": null,
   "metadata": {},
   "outputs": [],
   "source": [
    "others = [\n",
    "    {\n",
    "      \"history\": [\n",
    "        \"user : do you know any unis in wisconsin?\"\n",
    "      ],\n",
    "      \"belief\": \"belief : state = wisconsin\" ,\n",
    "      \"kb\": \"database 0 results\",\n",
    "      \"reply\": \"system : i couldn't find any colleges matching your query. would you like to try again?\"\n",
    "    },\n",
    "    {\n",
    "      \"history\": [\n",
    "        \"user : do you know any unis in wisconsin?\",\n",
    "        \"system : i couldn't find any colleges matching your query. would you like to try again?\",\n",
    "        \"user : how about michigan?\"\n",
    "      ],\n",
    "      \"belief\": \"belief : state = michigan\" ,\n",
    "      \"kb\": \"database 2 results\",\n",
    "      \"reply\": \"system : what would you like to study there?\"\n",
    "    },  \n",
    "    {\n",
    "      \"history\": [\n",
    "        \"user : do you know any unis in wisconsin?\",\n",
    "        \"system : i couldn't find any colleges matching your query. would you like to try again?\",\n",
    "        \"user : how about michigan?\",\n",
    "        \"system : what would you like to study there?\",\n",
    "        \"user : education\"\n",
    "      ],\n",
    "      \"belief\": \"belief : state = michigan; area = education\" ,\n",
    "      \"kb\": \"database 1 results\",\n",
    "      \"reply\": \"system : how about [name]? it's a great university in [city], [state].\"\n",
    "    },  \n",
    "    {\n",
    "      \"history\": [\n",
    "        \"user : do you know any unis in wisconsin?\",\n",
    "        \"system : i couldn't find any colleges matching your query. would you like to try again?\",\n",
    "        \"user : how about michigan?\",\n",
    "        \"system : what would you like to study there?\",\n",
    "        \"user : education\",\n",
    "        \"system : how about university of michigan-ann arbor? it's a great university in ann arbor, michigan.\",\n",
    "        \"user : can you also study law there?\"\n",
    "      ],\n",
    "      \"belief\": \"belief : state = michigan; area = law; name = university of michigan-ann arbor\" ,\n",
    "      \"kb\": \"database 0 results\",\n",
    "      \"reply\": \"system : no, you can't study that at [name].\"\n",
    "    },  \n",
    "    {\n",
    "      \"history\": [\n",
    "        \"user : do you know any unis in wisconsin?\",\n",
    "        \"system : i couldn't find any colleges matching your query. would you like to try again?\",\n",
    "        \"user : how about michigan?\",\n",
    "        \"system : what would you like to study there?\",\n",
    "        \"user : education\",\n",
    "        \"system : how about university of michigan-ann arbor? it's a great university in ann arbor, michigan.\",\n",
    "        \"user : can you also study law there?\",\n",
    "        \"system : no, you can't study that at university of michigan-ann arbor.\",\n",
    "        \"user : thanks!\"\n",
    "      ],\n",
    "      \"belief\": \"belief : state = michigan; area = law; name = university of michigan-ann arbor\" ,\n",
    "      \"kb\": \"database 0 results\",\n",
    "      \"reply\": \"system : is there anything else i can help you with?\"\n",
    "    },  \n",
    "    {\n",
    "      \"history\": [\n",
    "        \"user : do you know any unis in wisconsin?\",\n",
    "        \"system : i couldn't find any colleges matching your query. would you like to try again?\",\n",
    "        \"user : how about michigan?\",\n",
    "        \"system : what would you like to study there?\",\n",
    "        \"user : education\",\n",
    "        \"system : how about university of michigan-ann arbor? it's a great university in ann arbor, michigan.\",\n",
    "        \"user : can you also study law there?\",\n",
    "        \"system : no, you can't study that at university of michigan-ann arbor.\",\n",
    "        \"user : thanks!\",\n",
    "        \"system : is there anything else i can help you with?\",\n",
    "        \"user : no, goodbye!\"\n",
    "      ],\n",
    "      \"belief\": \"belief : state = michigan; study = education; name = university of michigan-ann arbor\" ,\n",
    "      \"kb\": \"database 1 results\",\n",
    "      \"reply\": \"system : goodbye!\"\n",
    "    },\n",
    "    # TODO check our already collected dialogues and include them here\n",
    "]"
   ]
  },
  {
   "attachments": {},
   "cell_type": "markdown",
   "metadata": {},
   "source": [
    "## Further notes"
   ]
  },
  {
   "attachments": {},
   "cell_type": "markdown",
   "metadata": {},
   "source": [
    "* Until now we expect in each turn that there's some information given, but what about:\n",
    "    * \"user : tell me more about it\"\n",
    "    * \"user : don't care\"\n",
    "* Also we don't consider requestables, like:\n",
    "    * \"user : What is its admission rate?\"\n",
    "* User only mentioning a value, like:\n",
    "    * \"user : Education\" (as a reply to what the user would like to study)\n",
    "* User mentioning more than one slot at a turn, e.g.\n",
    "    * \"user : Show me cheap universities where I can study maths\" (price_range + area)\n",
    "* We don't cover questions like: \"system : Would you like to know more about it?\"\n",
    "* We don't cover users mentioning the profession (e.g. lawyer instead of law)"
   ]
  },
  {
   "attachments": {},
   "cell_type": "markdown",
   "metadata": {},
   "source": [
    "## Manually add dialogues for some edge cases"
   ]
  },
  {
   "cell_type": "code",
   "execution_count": null,
   "metadata": {},
   "outputs": [],
   "source": [
    "edge_cases = dict()"
   ]
  },
  {
   "cell_type": "code",
   "execution_count": null,
   "metadata": {},
   "outputs": [],
   "source": [
    "# information not existing / no result\n",
    "edge_cases[\"no info\"] = [ # TODO add more edge cases for this category\n",
    "    {\n",
    "      \"history\": [\n",
    "        \"user : Where is the University of Stuttgart located?\"\n",
    "      ],\n",
    "      \"belief\": \"belief : name = University of Stuttgart\",\n",
    "      \"kb\": \"Database 0 results\",\n",
    "      \"reply\": \"system : I'm sorry, I don't have any information on this college.\"\n",
    "    },\n",
    "    {\n",
    "      \"history\": [\n",
    "        \"user : What about a college in Stuttgart?\"\n",
    "      ],\n",
    "      \"belief\": \"belief : city = Stuttgart\",\n",
    "      \"kb\": \"Database 0 results\",\n",
    "      \"reply\": \"system : Sorry, I have no information about colleges in Stuttgart. Can I help you any further?\"\n",
    "    }\n",
    "]"
   ]
  },
  {
   "cell_type": "code",
   "execution_count": null,
   "metadata": {},
   "outputs": [],
   "source": [
    "# paraphrases\n",
    "edge_cases[\"paraphrases\"] = [ # TODO add more edge cases for this category\n",
    "    \n",
    "]"
   ]
  },
  {
   "cell_type": "code",
   "execution_count": null,
   "metadata": {},
   "outputs": [],
   "source": [
    "# user requests\n",
    "edge_cases[\"user requests\"] = [ # TODO add more edge cases for this category\n",
    "    {\n",
    "      \"history\": [\n",
    "        \"user : What is the SAT-score of the Santa Clara University? \"\n",
    "      ],\n",
    "      \"belief\": \"belief : name = Santa Clara University\",\n",
    "      \"kb\": \"Database 1 result\",\n",
    "      \"reply\": \"system : [name] has a SAT-score of [sat].\"\n",
    "    }\n",
    "]"
   ]
  },
  {
   "cell_type": "code",
   "execution_count": null,
   "metadata": {},
   "outputs": [],
   "source": [
    "# typos\n",
    "edge_cases[\"typos\"] = [ # TODO add more edge cases for this category\n",
    "    {\n",
    "      \"history\": [\n",
    "        \"user : Is there a University in Nwe York?\",\n",
    "        \"system : Did you mean New York?\",\n",
    "        \"user : Yes.\"\n",
    "      ],\n",
    "      \"belief\": \"belief : city = New York\",\n",
    "      \"kb\": \"Database 1 result\",\n",
    "      \"reply\": \"system : The [name] is in [city].\"\n",
    "    },\n",
    "    {\n",
    "      \"history\": [\n",
    "        \"user : Is there a University in Nwe York?\"\n",
    "      ],\n",
    "      \"belief\": \"belief : city = Nwe York\",\n",
    "      \"kb\": \"Database 0 results\",\n",
    "      \"reply\": \"system : Did you mean New York?\"\n",
    "    },\n",
    "    {\n",
    "      \"history\": [\n",
    "        \"user : Is there a University in Nwe York?\"\n",
    "      ],\n",
    "      \"belief\": \"belief : city = Nwe York\",\n",
    "      \"kb\": \"Database 0 results\",\n",
    "      \"reply\": \"system : I didn't find a result. Is it possible you spelled something wrong?\"\n",
    "    }\n",
    "]"
   ]
  },
  {
   "cell_type": "code",
   "execution_count": null,
   "metadata": {},
   "outputs": [],
   "source": [
    "# negations\n",
    "edge_cases[\"negations\"] = [ # TODO add more edge cases for this category\n",
    "        {\n",
    "      \"history\": [\n",
    "        \"user : Hi!\",\n",
    "        \"system : How can I help you?\",\n",
    "        \"user : For my studies I want to move away from New York. Which college might be a good choice?\"\n",
    "      ],\n",
    "      \"belief\": \"belief : city != New York\",\n",
    "      \"kb\": \"Database 42 results\",\n",
    "      \"reply\": \"system : Do you have other criteria for the college?\"\n",
    "    },\n",
    "    {\n",
    "      \"history\": [\n",
    "        \"user : Hi!\",\n",
    "        \"system : How can I help you?\",\n",
    "        \"user : For my studies I want to move away from New York. Which college might be a good choice?\",\n",
    "        \"system : Do you have other criteria for the college?\",\n",
    "        \"user : It should offer a study program of education\"\n",
    "      ],\n",
    "      \"belief\": \"belief : state != New York ; area = education\",\n",
    "      \"kb\": \"Database 22 results\",\n",
    "      \"reply\": \"system : Alright. There is a lot of colleges left. Any other criteria left?\"\n",
    "    }\n",
    "]"
   ]
  },
  {
   "cell_type": "code",
   "execution_count": null,
   "metadata": {},
   "outputs": [],
   "source": [
    "# larger or smaller\n",
    "edge_cases[\"relative_values\"] = [ # TODO add more edge cases for this category\n",
    "        {\n",
    "      \"history\": [\n",
    "        \"user : Hi\",\n",
    "        \"system : Hello! How can I help you?\",\n",
    "        \"user : Can you give me information on the Princeton University?\",\n",
    "        \"system : The Princeton University is located in New Jersey. It's admission rate is 4%.\",\n",
    "        \"user : Okay. Do you have information on another college in New Jersey that has a higher admission rate?\"\n",
    "      ],\n",
    "      \"belief\": \"belief : admission_rate >= 4 ; city = New Jersey\",\n",
    "      \"kb\": \"Database 1 result\",\n",
    "      \"reply\": \"system : I can advise you studying at [name]\"\n",
    "    },\n",
    "    {\n",
    "      \"history\": [\n",
    "        \"user : Can you help me to find a college where I can study engineering?\",\n",
    "        \"system : Do you have any other requirements for the college?\",\n",
    "        \"user : It should be likely to complete the studies\"\n",
    "      ],\n",
    "      \"belief\": \"belief : area = engineering ; completion >= 50\",\n",
    "      \"kb\": \"Database 45 results\",\n",
    "      \"reply\": \"system : There still is a lot of possible colleges.\"\n",
    "    },\n",
    "    {\n",
    "      \"history\": [\n",
    "        \"user : Is it correct that the Yale University is expensive but still has a high completion rate?\"\n",
    "      ],\n",
    "      \"belief\": \"belief : name = Yale university ; price_range = expensive ; completion rate >= 70\",\n",
    "      \"kb\": \"Database 1 result\",\n",
    "      \"reply\": \"system : [name] is [price_range] and has an admission rate of [admission rate].\"\n",
    "    },\n",
    "    {\n",
    "      \"history\": [\n",
    "        \"user : Is there a college with an admission rate higher than 0.8?\"\n",
    "      ],\n",
    "      \"belief\": \"belief : admission_rate >= 0.8\",\n",
    "      \"kb\": \"Database 5 results\",\n",
    "      \"reply\": \"system : Do you want to limit the search for a college further?\"\n",
    "    }\n",
    "]"
   ]
  },
  {
   "cell_type": "code",
   "execution_count": null,
   "metadata": {},
   "outputs": [],
   "source": [
    "# opinion change\n",
    "edge_cases[\"opinion_change\"] = [ # TODO add more edge cases for this category\n",
    "    {\n",
    "      \"history\": [\n",
    "        \"user : Tell me more about Georgetown University.\"\n",
    "      ],\n",
    "      \"belief\": \"belief : name = Georgetown University\",\n",
    "      \"kb\": \"Database 1 result\",\n",
    "      \"reply\": \"system : [name] is a [control] college in [city]\"\n",
    "    },\n",
    "    {\n",
    "      \"history\": [\n",
    "        \"user : Tell me more about Georgetown University.\",\n",
    "        \"system : Georgetown University is a private college in Washington.\",\n",
    "        \"user : And what about the University of California-Berkeley?\"\n",
    "      ],\n",
    "      \"belief\": \"belief : name = University of California-Berkeley\",\n",
    "      \"kb\": \"Database 1 result\",\n",
    "      \"reply\": \"system : [name] is a [control] college in [city]\"\n",
    "    },\n",
    "    {\n",
    "      \"history\": [\n",
    "        \"user : Tell me more about Georgetown University.\",\n",
    "        \"system : Georgetown University is a private college in Washington.\",\n",
    "        \"user : And what about the UC Berkeley?\"\n",
    "      ],\n",
    "      \"belief\": \"belief : alias = UC Berkeley\",\n",
    "      \"kb\": \"Database 1 result\",\n",
    "      \"reply\": \"system : [name] is a [control] college in [city]\"\n",
    "    }\n",
    "]"
   ]
  },
  {
   "cell_type": "code",
   "execution_count": null,
   "metadata": {},
   "outputs": [],
   "source": [
    "# two slots in one turn\n",
    "edge_cases[\"two slots\"] = [ # TODO add more edge cases for this category\n",
    "\n",
    "]"
   ]
  }
 ],
 "metadata": {
  "kernelspec": {
   "display_name": "Python 3",
   "language": "python",
   "name": "python3"
  },
  "language_info": {
   "codemirror_mode": {
    "name": "ipython",
    "version": 3
   },
   "file_extension": ".py",
   "mimetype": "text/x-python",
   "name": "python",
   "nbconvert_exporter": "python",
   "pygments_lexer": "ipython3",
   "version": "3.10.8"
  },
  "orig_nbformat": 4
 },
 "nbformat": 4,
 "nbformat_minor": 2
}
